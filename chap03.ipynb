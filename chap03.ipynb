{
 "cells": [
  {
   "cell_type": "code",
   "execution_count": 5,
   "id": "9510a99d",
   "metadata": {
    "ExecuteTime": {
     "end_time": "2021-04-17T02:22:42.754369Z",
     "start_time": "2021-04-17T02:22:42.744847Z"
    }
   },
   "outputs": [
    {
     "data": {
      "text/plain": [
       "(3, 4, 5)"
      ]
     },
     "execution_count": 5,
     "metadata": {},
     "output_type": "execute_result"
    }
   ],
   "source": [
    "tuple = 3, 4, 5\n",
    "tuple"
   ]
  },
  {
   "cell_type": "code",
   "execution_count": 4,
   "id": "4bee5d7a",
   "metadata": {
    "ExecuteTime": {
     "end_time": "2021-04-17T02:22:38.665532Z",
     "start_time": "2021-04-17T02:22:38.650029Z"
    }
   },
   "outputs": [
    {
     "data": {
      "text/plain": [
       "(1, 2, 3)"
      ]
     },
     "execution_count": 4,
     "metadata": {},
     "output_type": "execute_result"
    }
   ],
   "source": [
    "tuple_2 = (1, 2, 3)\n",
    "tuple_2"
   ]
  },
  {
   "cell_type": "markdown",
   "id": "57ac752a",
   "metadata": {},
   "source": [
    "# **拆包，交换变量值**"
   ]
  },
  {
   "cell_type": "code",
   "execution_count": 7,
   "id": "77849ba4",
   "metadata": {
    "ExecuteTime": {
     "end_time": "2021-04-17T02:32:31.503284Z",
     "start_time": "2021-04-17T02:32:31.497306Z"
    }
   },
   "outputs": [],
   "source": [
    "a,b =1,2"
   ]
  },
  {
   "cell_type": "code",
   "execution_count": 8,
   "id": "e579515c",
   "metadata": {
    "ExecuteTime": {
     "end_time": "2021-04-17T02:32:33.084789Z",
     "start_time": "2021-04-17T02:32:33.074217Z"
    }
   },
   "outputs": [
    {
     "data": {
      "text/plain": [
       "1"
      ]
     },
     "execution_count": 8,
     "metadata": {},
     "output_type": "execute_result"
    }
   ],
   "source": [
    "a"
   ]
  },
  {
   "cell_type": "code",
   "execution_count": 9,
   "id": "0b565e5d",
   "metadata": {
    "ExecuteTime": {
     "end_time": "2021-04-17T02:32:37.152711Z",
     "start_time": "2021-04-17T02:32:37.139324Z"
    }
   },
   "outputs": [
    {
     "data": {
      "text/plain": [
       "2"
      ]
     },
     "execution_count": 9,
     "metadata": {},
     "output_type": "execute_result"
    }
   ],
   "source": [
    "b"
   ]
  },
  {
   "cell_type": "code",
   "execution_count": 10,
   "id": "ef6384e5",
   "metadata": {
    "ExecuteTime": {
     "end_time": "2021-04-17T02:32:57.859645Z",
     "start_time": "2021-04-17T02:32:57.854180Z"
    }
   },
   "outputs": [],
   "source": [
    "a,b = b, a"
   ]
  },
  {
   "cell_type": "code",
   "execution_count": 11,
   "id": "a5e678db",
   "metadata": {
    "ExecuteTime": {
     "end_time": "2021-04-17T02:33:09.681609Z",
     "start_time": "2021-04-17T02:33:09.673092Z"
    }
   },
   "outputs": [
    {
     "data": {
      "text/plain": [
       "2"
      ]
     },
     "execution_count": 11,
     "metadata": {},
     "output_type": "execute_result"
    }
   ],
   "source": [
    "a"
   ]
  },
  {
   "cell_type": "code",
   "execution_count": 12,
   "id": "ef697cc7",
   "metadata": {
    "ExecuteTime": {
     "end_time": "2021-04-17T02:33:21.355174Z",
     "start_time": "2021-04-17T02:33:21.344037Z"
    }
   },
   "outputs": [
    {
     "data": {
      "text/plain": [
       "1"
      ]
     },
     "execution_count": 12,
     "metadata": {},
     "output_type": "execute_result"
    }
   ],
   "source": [
    "b"
   ]
  },
  {
   "cell_type": "markdown",
   "id": "5d6d1279",
   "metadata": {},
   "source": [
    "# **利用拆包遍历元组或列表组成的序列**"
   ]
  },
  {
   "cell_type": "code",
   "execution_count": 13,
   "id": "f3d2112a",
   "metadata": {
    "ExecuteTime": {
     "end_time": "2021-04-17T02:42:27.761692Z",
     "start_time": "2021-04-17T02:42:27.755030Z"
    }
   },
   "outputs": [
    {
     "name": "stdout",
     "output_type": "stream",
     "text": [
      "(1, 2, 3)\n",
      "(4, 5, 6)\n",
      "(7, 8, 9)\n"
     ]
    }
   ],
   "source": [
    "seq = [(1, 2, 3), (4, 5, 6), (7, 8, 9)]\n",
    "for a in seq:\n",
    "    print(a)"
   ]
  },
  {
   "cell_type": "code",
   "execution_count": 17,
   "id": "738ef3cb",
   "metadata": {
    "ExecuteTime": {
     "end_time": "2021-04-17T02:48:54.418054Z",
     "start_time": "2021-04-17T02:48:54.410643Z"
    }
   },
   "outputs": [
    {
     "name": "stdout",
     "output_type": "stream",
     "text": [
      "a=1 b=2 c=3\n",
      "a=4 b=5 c=6\n",
      "a=7 b=8 c=9\n"
     ]
    }
   ],
   "source": [
    "seq = [(1, 2, 3), (4, 5, 6), (7, 8, 9)]\n",
    "for a, b, c in seq:\n",
    "    print('a={0} b={1} c={2}'.format(a, b, c))"
   ]
  },
  {
   "cell_type": "markdown",
   "id": "3de28bc3",
   "metadata": {},
   "source": [
    "# ***rest或 *_**"
   ]
  },
  {
   "cell_type": "code",
   "execution_count": 18,
   "id": "3ca95b33",
   "metadata": {
    "ExecuteTime": {
     "end_time": "2021-04-17T02:52:37.560135Z",
     "start_time": "2021-04-17T02:52:37.550900Z"
    }
   },
   "outputs": [
    {
     "data": {
      "text/plain": [
       "(1, 2, 3, 4, 5)"
      ]
     },
     "execution_count": 18,
     "metadata": {},
     "output_type": "execute_result"
    }
   ],
   "source": [
    "values_tup = 1, 2, 3, 4, 5\n",
    "values_tup"
   ]
  },
  {
   "cell_type": "code",
   "execution_count": 20,
   "id": "fe988989",
   "metadata": {
    "ExecuteTime": {
     "end_time": "2021-04-17T02:53:28.993361Z",
     "start_time": "2021-04-17T02:53:28.988676Z"
    }
   },
   "outputs": [],
   "source": [
    "a, *rest, b = values_tup"
   ]
  },
  {
   "cell_type": "code",
   "execution_count": 22,
   "id": "07bfff1f",
   "metadata": {
    "ExecuteTime": {
     "end_time": "2021-04-17T02:53:36.945287Z",
     "start_time": "2021-04-17T02:53:36.936852Z"
    }
   },
   "outputs": [
    {
     "data": {
      "text/plain": [
       "(1, 5)"
      ]
     },
     "execution_count": 22,
     "metadata": {},
     "output_type": "execute_result"
    }
   ],
   "source": [
    "a, b  # a=1,b=5 只不过这样输出的是元组"
   ]
  },
  {
   "cell_type": "code",
   "execution_count": 23,
   "id": "85824d61",
   "metadata": {
    "ExecuteTime": {
     "end_time": "2021-04-17T02:53:45.793919Z",
     "start_time": "2021-04-17T02:53:45.784289Z"
    }
   },
   "outputs": [
    {
     "data": {
      "text/plain": [
       "[2, 3, 4]"
      ]
     },
     "execution_count": 23,
     "metadata": {},
     "output_type": "execute_result"
    }
   ],
   "source": [
    "rest  # 列表"
   ]
  },
  {
   "cell_type": "code",
   "execution_count": null,
   "id": "5b395937",
   "metadata": {},
   "outputs": [],
   "source": []
  },
  {
   "cell_type": "code",
   "execution_count": 26,
   "id": "7f46dcce",
   "metadata": {
    "ExecuteTime": {
     "end_time": "2021-04-17T08:41:52.029956Z",
     "start_time": "2021-04-17T08:41:52.015201Z"
    }
   },
   "outputs": [
    {
     "data": {
      "text/plain": [
       "range(0, 10)"
      ]
     },
     "execution_count": 26,
     "metadata": {},
     "output_type": "execute_result"
    }
   ],
   "source": [
    "gen = range(10)\n",
    "gen"
   ]
  },
  {
   "cell_type": "markdown",
   "id": "bdfa9043",
   "metadata": {},
   "source": [
    "# **列表的pop()和remove()**"
   ]
  },
  {
   "cell_type": "code",
   "execution_count": 27,
   "id": "e84116ff",
   "metadata": {
    "ExecuteTime": {
     "end_time": "2021-04-17T08:47:28.233258Z",
     "start_time": "2021-04-17T08:47:28.227312Z"
    }
   },
   "outputs": [],
   "source": [
    "b_list = ['foo', 'red', 'baz', 'dwarf', 'foooo', 'peekaboo']"
   ]
  },
  {
   "cell_type": "code",
   "execution_count": 28,
   "id": "7cc57cf3",
   "metadata": {
    "ExecuteTime": {
     "end_time": "2021-04-17T08:47:43.160907Z",
     "start_time": "2021-04-17T08:47:43.153500Z"
    }
   },
   "outputs": [
    {
     "data": {
      "text/plain": [
       "['foo', 'red', 'dwarf', 'foooo', 'peekaboo']"
      ]
     },
     "execution_count": 28,
     "metadata": {},
     "output_type": "execute_result"
    }
   ],
   "source": [
    "b_list.pop(2)\n",
    "b_list"
   ]
  },
  {
   "cell_type": "code",
   "execution_count": 29,
   "id": "416e499a",
   "metadata": {
    "ExecuteTime": {
     "end_time": "2021-04-17T08:48:09.081083Z",
     "start_time": "2021-04-17T08:48:09.072334Z"
    }
   },
   "outputs": [
    {
     "data": {
      "text/plain": [
       "['foo', 'red', 'dwarf', 'peekaboo']"
      ]
     },
     "execution_count": 29,
     "metadata": {},
     "output_type": "execute_result"
    }
   ],
   "source": [
    "b_list.remove('foooo')\n",
    "b_list"
   ]
  },
  {
   "cell_type": "code",
   "execution_count": null,
   "id": "047db824",
   "metadata": {},
   "outputs": [],
   "source": []
  },
  {
   "cell_type": "markdown",
   "id": "c17ac443",
   "metadata": {},
   "source": [
    "# **sort()根据key来排序**"
   ]
  },
  {
   "cell_type": "code",
   "execution_count": 33,
   "id": "c88a9fb1",
   "metadata": {
    "ExecuteTime": {
     "end_time": "2021-04-17T09:04:16.974103Z",
     "start_time": "2021-04-17T09:04:16.966575Z"
    }
   },
   "outputs": [
    {
     "data": {
      "text/plain": [
       "['He', 'saw', 'six', 'small', 'foxes']"
      ]
     },
     "execution_count": 33,
     "metadata": {},
     "output_type": "execute_result"
    }
   ],
   "source": [
    "b = ['saw', 'small', 'He', 'foxes', 'six']\n",
    "b.sort(key=len)  # 根据字符长度排序。 可试着加reverse=True参数\n",
    "b"
   ]
  },
  {
   "cell_type": "markdown",
   "id": "402f36f8",
   "metadata": {},
   "source": [
    "# **切片**"
   ]
  },
  {
   "cell_type": "code",
   "execution_count": 45,
   "id": "af049bc1",
   "metadata": {
    "ExecuteTime": {
     "end_time": "2021-04-19T07:00:39.196708Z",
     "start_time": "2021-04-19T07:00:39.179115Z"
    }
   },
   "outputs": [
    {
     "data": {
      "text/plain": [
       "[7, 2, 3, 6, 3, 5, 6, 0, 1]"
      ]
     },
     "execution_count": 45,
     "metadata": {},
     "output_type": "execute_result"
    }
   ],
   "source": [
    "seq = [7, 2, 3, 7, 5, 6, 0, 1]\n",
    "seq[3:4] = [6, 3]\n",
    "seq"
   ]
  },
  {
   "cell_type": "code",
   "execution_count": 46,
   "id": "c2271247",
   "metadata": {
    "ExecuteTime": {
     "end_time": "2021-04-19T07:05:10.575573Z",
     "start_time": "2021-04-19T07:05:10.567597Z"
    }
   },
   "outputs": [
    {
     "data": {
      "text/plain": [
       "[1, 0, 6, 5, 7, 3, 2, 7]"
      ]
     },
     "execution_count": 46,
     "metadata": {},
     "output_type": "execute_result"
    }
   ],
   "source": [
    "# 对列表或元组进行翻转\n",
    "seq = [7, 2, 3, 7, 5, 6, 0, 1]\n",
    "seq[::-1]"
   ]
  },
  {
   "cell_type": "markdown",
   "id": "8efc6974",
   "metadata": {},
   "source": [
    "# **enumerate**"
   ]
  },
  {
   "cell_type": "code",
   "execution_count": 49,
   "id": "aa76a88f",
   "metadata": {
    "ExecuteTime": {
     "end_time": "2021-04-19T07:24:02.828904Z",
     "start_time": "2021-04-19T07:24:02.820636Z"
    }
   },
   "outputs": [
    {
     "data": {
      "text/plain": [
       "{'foo': 0, 'bar': 1, 'baz': 2}"
      ]
     },
     "execution_count": 49,
     "metadata": {},
     "output_type": "execute_result"
    }
   ],
   "source": [
    "some_list = ['foo', 'bar', 'baz']\n",
    "mapping = {}\n",
    "for i, v in enumerate(some_list):\n",
    "    mapping[v] = i\n",
    "mapping"
   ]
  },
  {
   "cell_type": "markdown",
   "id": "b673fe23",
   "metadata": {},
   "source": [
    "# **enumerate和zip**"
   ]
  },
  {
   "cell_type": "code",
   "execution_count": 53,
   "id": "24bed5bd",
   "metadata": {
    "ExecuteTime": {
     "end_time": "2021-04-19T08:03:34.506779Z",
     "start_time": "2021-04-19T08:03:34.499342Z"
    }
   },
   "outputs": [
    {
     "name": "stdout",
     "output_type": "stream",
     "text": [
      "0:foo,one\n",
      "1:bar,two\n",
      "2:baz,three\n"
     ]
    }
   ],
   "source": [
    "seq1 = ['foo', 'bar', 'baz']\n",
    "seq2 = ['one', 'two', 'three']\n",
    "for i, (a, b) in enumerate(zip(seq1, seq2)):\n",
    "    print(\"{0}:{1},{2}\".format(i, a, b))"
   ]
  },
  {
   "cell_type": "code",
   "execution_count": 54,
   "id": "e31ffa0e",
   "metadata": {
    "ExecuteTime": {
     "end_time": "2021-04-19T08:09:27.602319Z",
     "start_time": "2021-04-19T08:09:27.595567Z"
    }
   },
   "outputs": [
    {
     "data": {
      "text/plain": [
       "zip"
      ]
     },
     "execution_count": 54,
     "metadata": {},
     "output_type": "execute_result"
    }
   ],
   "source": [
    "type(zip(seq1, seq2))"
   ]
  },
  {
   "cell_type": "markdown",
   "id": "f89a9825",
   "metadata": {},
   "source": [
    "# **利用zip进行拆分**"
   ]
  },
  {
   "cell_type": "code",
   "execution_count": 61,
   "id": "d858e13e",
   "metadata": {
    "ExecuteTime": {
     "end_time": "2021-04-19T08:32:11.050489Z",
     "start_time": "2021-04-19T08:32:11.039020Z"
    }
   },
   "outputs": [
    {
     "data": {
      "text/plain": [
       "('Nolan', 'Roger', 'Schilling')"
      ]
     },
     "execution_count": 61,
     "metadata": {},
     "output_type": "execute_result"
    }
   ],
   "source": [
    "pitchers = [('Nolan', 'Ryan'), ('Roger', 'Clemens'), ('Schilling', 'Curt')]\n",
    "\n",
    "first_names, last_names = zip(*pitchers)\n",
    "first_names"
   ]
  },
  {
   "cell_type": "code",
   "execution_count": 62,
   "id": "0ffff9a3",
   "metadata": {
    "ExecuteTime": {
     "end_time": "2021-04-19T08:32:13.433458Z",
     "start_time": "2021-04-19T08:32:13.425595Z"
    }
   },
   "outputs": [
    {
     "data": {
      "text/plain": [
       "('Ryan', 'Clemens', 'Curt')"
      ]
     },
     "execution_count": 62,
     "metadata": {},
     "output_type": "execute_result"
    }
   ],
   "source": [
    "last_names"
   ]
  },
  {
   "cell_type": "markdown",
   "id": "39a7d067",
   "metadata": {},
   "source": [
    "# **从序列生成字典**"
   ]
  },
  {
   "cell_type": "code",
   "execution_count": 66,
   "id": "8ac68a7d",
   "metadata": {
    "ExecuteTime": {
     "end_time": "2021-04-19T10:24:00.341002Z",
     "start_time": "2021-04-19T10:24:00.333492Z"
    }
   },
   "outputs": [
    {
     "data": {
      "text/plain": [
       "[(0, 4), (1, 3), (2, 2), (3, 1), (4, 0)]"
      ]
     },
     "execution_count": 66,
     "metadata": {},
     "output_type": "execute_result"
    }
   ],
   "source": [
    "list(zip(range(5),reversed(range(5))))"
   ]
  },
  {
   "cell_type": "code",
   "execution_count": 68,
   "id": "3244e8e4",
   "metadata": {
    "ExecuteTime": {
     "end_time": "2021-04-19T10:29:21.601825Z",
     "start_time": "2021-04-19T10:29:21.594081Z"
    }
   },
   "outputs": [
    {
     "data": {
      "text/plain": [
       "{0: 4, 1: 3, 2: 2, 3: 1, 4: 0}"
      ]
     },
     "execution_count": 68,
     "metadata": {},
     "output_type": "execute_result"
    }
   ],
   "source": [
    "# 字典的本质是2-元组（含有2个元素的元组）的集合\n",
    "# dict可以接受一个2-元组的列表作为参数\n",
    "mapping = dict(zip(range(5), reversed(range(5))))\n",
    "mapping"
   ]
  },
  {
   "cell_type": "markdown",
   "id": "bc619c62",
   "metadata": {},
   "source": [
    "# **setdefault**和**defaultdict**"
   ]
  },
  {
   "cell_type": "markdown",
   "id": "35d5ac41",
   "metadata": {},
   "source": [
    "## setdefault"
   ]
  },
  {
   "cell_type": "code",
   "execution_count": 69,
   "id": "b5f92094",
   "metadata": {
    "ExecuteTime": {
     "end_time": "2021-04-19T10:51:46.556941Z",
     "start_time": "2021-04-19T10:51:46.552557Z"
    }
   },
   "outputs": [],
   "source": [
    "data = [('p', 1), ('p', 2), ('p', 3),\n",
    "        ('h', 11), ('h', 12), ('h', 14)]"
   ]
  },
  {
   "cell_type": "code",
   "execution_count": 71,
   "id": "f63b0bc4",
   "metadata": {
    "ExecuteTime": {
     "end_time": "2021-04-19T10:52:49.460018Z",
     "start_time": "2021-04-19T10:52:49.452473Z"
    }
   },
   "outputs": [
    {
     "data": {
      "text/plain": [
       "{'p': [1, 2, 3], 'h': [11, 12, 14]}"
      ]
     },
     "execution_count": 71,
     "metadata": {},
     "output_type": "execute_result"
    }
   ],
   "source": [
    "# dict.setdefault(k, new_v) 方法的作用是：如果存在键 k，就返回 k 对应的 v 值；\n",
    "# 如果没有 k，就给字典添加键 k，对应值为 new_v，同时返回 k 对应的 new_v。\n",
    "result = {}\n",
    "for key, value in data:\n",
    "    result.setdefault(key, []).append(value)\n",
    "result"
   ]
  },
  {
   "cell_type": "code",
   "execution_count": null,
   "id": "41db28e9",
   "metadata": {},
   "outputs": [],
   "source": []
  },
  {
   "cell_type": "code",
   "execution_count": 77,
   "id": "51fcff6d",
   "metadata": {
    "ExecuteTime": {
     "end_time": "2021-04-19T11:14:39.657088Z",
     "start_time": "2021-04-19T11:14:39.649108Z"
    }
   },
   "outputs": [
    {
     "data": {
      "text/plain": [
       "[1, 2, 3]"
      ]
     },
     "execution_count": 77,
     "metadata": {},
     "output_type": "execute_result"
    }
   ],
   "source": [
    "# get()方法，字典里有这个key就返回key的值，没有这个key就返回默认值（本例中默认值是111）\n",
    "v = result.get('p', 111)\n",
    "v"
   ]
  },
  {
   "cell_type": "markdown",
   "id": "7160b32e",
   "metadata": {},
   "source": [
    "## **defaultdict**\n",
    "defaultdict是属于collections模块下的一个工厂函数，用于构建字典对象，接受一个函数（callable可调用）对象作为参数。\n",
    "参数返回的类型是什么，所构建的字典的key对应的value就是什么类型"
   ]
  },
  {
   "cell_type": "code",
   "execution_count": 81,
   "id": "b7ea8421",
   "metadata": {
    "ExecuteTime": {
     "end_time": "2021-04-19T14:06:35.253175Z",
     "start_time": "2021-04-19T14:06:35.246038Z"
    }
   },
   "outputs": [
    {
     "data": {
      "text/plain": [
       "defaultdict(list, {})"
      ]
     },
     "execution_count": 81,
     "metadata": {},
     "output_type": "execute_result"
    }
   ],
   "source": [
    "from collections import defaultdict\n",
    "result2 = defaultdict(list)\n",
    "result2"
   ]
  },
  {
   "cell_type": "code",
   "execution_count": 82,
   "id": "8c2bc7f3",
   "metadata": {
    "ExecuteTime": {
     "end_time": "2021-04-19T14:07:04.595959Z",
     "start_time": "2021-04-19T14:07:04.586393Z"
    }
   },
   "outputs": [
    {
     "data": {
      "text/plain": [
       "[]"
      ]
     },
     "execution_count": 82,
     "metadata": {},
     "output_type": "execute_result"
    }
   ],
   "source": [
    "result2['aa']"
   ]
  },
  {
   "cell_type": "markdown",
   "id": "1d36bf9b",
   "metadata": {},
   "source": [
    "defaultdict的参数是list，它就会构建一个value值为list的字典，例如result2['aa']的值默认就是list对象"
   ]
  },
  {
   "cell_type": "code",
   "execution_count": 83,
   "id": "863fd54e",
   "metadata": {
    "ExecuteTime": {
     "end_time": "2021-04-19T14:10:50.597770Z",
     "start_time": "2021-04-19T14:10:50.589333Z"
    }
   },
   "outputs": [
    {
     "data": {
      "text/plain": [
       "defaultdict(list, {'p': [1, 2, 3], 'h': [11, 12, 14]})"
      ]
     },
     "execution_count": 83,
     "metadata": {},
     "output_type": "execute_result"
    }
   ],
   "source": [
    "from collections import defaultdict\n",
    "result2 = defaultdict(list)\n",
    "for key, value in data:\n",
    "    result2[key].append(value)\n",
    "result2"
   ]
  },
  {
   "cell_type": "markdown",
   "id": "32ff6293",
   "metadata": {},
   "source": [
    "# 列表, 集合和字典的推导式"
   ]
  },
  {
   "cell_type": "code",
   "execution_count": 84,
   "id": "bd10d8fd",
   "metadata": {
    "ExecuteTime": {
     "end_time": "2021-04-19T14:34:59.101030Z",
     "start_time": "2021-04-19T14:34:59.094383Z"
    }
   },
   "outputs": [],
   "source": [
    "strings = ['a', 'as', 'bat', 'car', 'dove', 'python', 'java']"
   ]
  },
  {
   "cell_type": "markdown",
   "id": "e286963e",
   "metadata": {},
   "source": [
    "## 列表推导式"
   ]
  },
  {
   "cell_type": "code",
   "execution_count": 87,
   "id": "cc2180a5",
   "metadata": {
    "ExecuteTime": {
     "end_time": "2021-04-19T14:35:58.616458Z",
     "start_time": "2021-04-19T14:35:58.603802Z"
    }
   },
   "outputs": [
    {
     "data": {
      "text/plain": [
       "['DOVE', 'PYTHON', 'JAVA']"
      ]
     },
     "execution_count": 87,
     "metadata": {},
     "output_type": "execute_result"
    }
   ],
   "source": [
    "[x.upper() for x in strings if len(x) > 3]"
   ]
  },
  {
   "cell_type": "markdown",
   "id": "e7ad72a5",
   "metadata": {},
   "source": [
    "## 集合推导式"
   ]
  },
  {
   "cell_type": "code",
   "execution_count": 89,
   "id": "5b6ed3a0",
   "metadata": {
    "ExecuteTime": {
     "end_time": "2021-04-19T14:37:02.705758Z",
     "start_time": "2021-04-19T14:37:02.698125Z"
    }
   },
   "outputs": [
    {
     "data": {
      "text/plain": [
       "{1, 2, 3, 4, 6}"
      ]
     },
     "execution_count": 89,
     "metadata": {},
     "output_type": "execute_result"
    }
   ],
   "source": [
    "{len(x) for x in strings}"
   ]
  },
  {
   "cell_type": "markdown",
   "id": "2986ca9a",
   "metadata": {},
   "source": [
    "### 利用map"
   ]
  },
  {
   "cell_type": "code",
   "execution_count": 93,
   "id": "b5776230",
   "metadata": {
    "ExecuteTime": {
     "end_time": "2021-04-19T14:40:33.723556Z",
     "start_time": "2021-04-19T14:40:33.714179Z"
    }
   },
   "outputs": [
    {
     "data": {
      "text/plain": [
       "<map at 0x7fe1a3c90b70>"
      ]
     },
     "execution_count": 93,
     "metadata": {},
     "output_type": "execute_result"
    }
   ],
   "source": [
    "map(len,strings)"
   ]
  },
  {
   "cell_type": "code",
   "execution_count": 91,
   "id": "ea65bf66",
   "metadata": {
    "ExecuteTime": {
     "end_time": "2021-04-19T14:38:35.278668Z",
     "start_time": "2021-04-19T14:38:35.269965Z"
    }
   },
   "outputs": [
    {
     "data": {
      "text/plain": [
       "[1, 2, 3, 3, 4, 6, 4]"
      ]
     },
     "execution_count": 91,
     "metadata": {},
     "output_type": "execute_result"
    }
   ],
   "source": [
    "list(map(len, strings))"
   ]
  },
  {
   "cell_type": "code",
   "execution_count": 92,
   "id": "fe6ba762",
   "metadata": {
    "ExecuteTime": {
     "end_time": "2021-04-19T14:39:02.891040Z",
     "start_time": "2021-04-19T14:39:02.883490Z"
    }
   },
   "outputs": [
    {
     "data": {
      "text/plain": [
       "{1, 2, 3, 4, 6}"
      ]
     },
     "execution_count": 92,
     "metadata": {},
     "output_type": "execute_result"
    }
   ],
   "source": [
    "set(map(len, strings))"
   ]
  },
  {
   "cell_type": "markdown",
   "id": "06f1bc21",
   "metadata": {},
   "source": [
    "## 字典推导式"
   ]
  },
  {
   "cell_type": "code",
   "execution_count": 95,
   "id": "20baaa82",
   "metadata": {
    "ExecuteTime": {
     "end_time": "2021-04-19T14:44:47.495829Z",
     "start_time": "2021-04-19T14:44:47.487648Z"
    }
   },
   "outputs": [
    {
     "data": {
      "text/plain": [
       "{'a': 0, 'as': 1, 'bat': 2, 'car': 3, 'dove': 4, 'python': 5, 'java': 6}"
      ]
     },
     "execution_count": 95,
     "metadata": {},
     "output_type": "execute_result"
    }
   ],
   "source": [
    "dict_mapping = {val: key for key, val in enumerate(strings)}\n",
    "dict_mapping"
   ]
  },
  {
   "cell_type": "markdown",
   "id": "85687ced",
   "metadata": {},
   "source": [
    "## 嵌套列表推导式"
   ]
  },
  {
   "cell_type": "code",
   "execution_count": 96,
   "id": "e0c8bcfc",
   "metadata": {
    "ExecuteTime": {
     "end_time": "2021-04-19T14:52:50.408421Z",
     "start_time": "2021-04-19T14:52:50.402684Z"
    }
   },
   "outputs": [],
   "source": [
    "tuple_list = [(1, 2, 3), (4, 5, 6), (7, 8, 9)]"
   ]
  },
  {
   "cell_type": "code",
   "execution_count": 98,
   "id": "16e8ffe3",
   "metadata": {
    "ExecuteTime": {
     "end_time": "2021-04-19T14:53:49.118960Z",
     "start_time": "2021-04-19T14:53:49.112447Z"
    }
   },
   "outputs": [
    {
     "data": {
      "text/plain": [
       "[1, 2, 3, 4, 5, 6, 7, 8, 9]"
      ]
     },
     "execution_count": 98,
     "metadata": {},
     "output_type": "execute_result"
    }
   ],
   "source": [
    "# 嵌套列表推导式\n",
    "flattened = [x for tup in tuple_list for x in tup]\n",
    "flattened"
   ]
  },
  {
   "cell_type": "code",
   "execution_count": 99,
   "id": "5960729b",
   "metadata": {
    "ExecuteTime": {
     "end_time": "2021-04-19T14:55:18.521406Z",
     "start_time": "2021-04-19T14:55:18.513994Z"
    }
   },
   "outputs": [
    {
     "data": {
      "text/plain": [
       "[[1, 2, 3], [4, 5, 6], [7, 8, 9]]"
      ]
     },
     "execution_count": 99,
     "metadata": {},
     "output_type": "execute_result"
    }
   ],
   "source": [
    "# 列表推导式中的列表推导式\n",
    "[[x for x in tup]for tup in tuple_list]"
   ]
  },
  {
   "cell_type": "code",
   "execution_count": null,
   "id": "de1380e6",
   "metadata": {},
   "outputs": [],
   "source": []
  },
  {
   "cell_type": "code",
   "execution_count": null,
   "id": "577bbfde",
   "metadata": {},
   "outputs": [],
   "source": []
  },
  {
   "cell_type": "code",
   "execution_count": null,
   "id": "da3e7b61",
   "metadata": {},
   "outputs": [],
   "source": []
  },
  {
   "cell_type": "code",
   "execution_count": null,
   "id": "9ec9fe5b",
   "metadata": {},
   "outputs": [],
   "source": []
  },
  {
   "cell_type": "code",
   "execution_count": null,
   "id": "67257c3a",
   "metadata": {},
   "outputs": [],
   "source": []
  }
 ],
 "metadata": {
  "kernelspec": {
   "display_name": "Python 3",
   "language": "python",
   "name": "python3"
  },
  "language_info": {
   "codemirror_mode": {
    "name": "ipython",
    "version": 3
   },
   "file_extension": ".py",
   "mimetype": "text/x-python",
   "name": "python",
   "nbconvert_exporter": "python",
   "pygments_lexer": "ipython3",
   "version": "3.6.13"
  },
  "toc": {
   "base_numbering": 1,
   "nav_menu": {},
   "number_sections": true,
   "sideBar": true,
   "skip_h1_title": false,
   "title_cell": "Table of Contents",
   "title_sidebar": "Contents",
   "toc_cell": false,
   "toc_position": {},
   "toc_section_display": true,
   "toc_window_display": false
  },
  "varInspector": {
   "cols": {
    "lenName": 16,
    "lenType": 16,
    "lenVar": 40
   },
   "kernels_config": {
    "python": {
     "delete_cmd_postfix": "",
     "delete_cmd_prefix": "del ",
     "library": "var_list.py",
     "varRefreshCmd": "print(var_dic_list())"
    },
    "r": {
     "delete_cmd_postfix": ") ",
     "delete_cmd_prefix": "rm(",
     "library": "var_list.r",
     "varRefreshCmd": "cat(var_dic_list()) "
    }
   },
   "types_to_exclude": [
    "module",
    "function",
    "builtin_function_or_method",
    "instance",
    "_Feature"
   ],
   "window_display": false
  }
 },
 "nbformat": 4,
 "nbformat_minor": 5
}
