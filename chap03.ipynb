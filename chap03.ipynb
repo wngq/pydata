{
 "cells": [
  {
   "cell_type": "code",
   "execution_count": 5,
   "id": "49a0039e",
   "metadata": {
    "ExecuteTime": {
     "end_time": "2021-04-17T02:22:42.754369Z",
     "start_time": "2021-04-17T02:22:42.744847Z"
    }
   },
   "outputs": [
    {
     "data": {
      "text/plain": [
       "(3, 4, 5)"
      ]
     },
     "execution_count": 5,
     "metadata": {},
     "output_type": "execute_result"
    }
   ],
   "source": [
    "tuple = 3, 4, 5\n",
    "tuple"
   ]
  },
  {
   "cell_type": "code",
   "execution_count": 4,
   "id": "e1461493",
   "metadata": {
    "ExecuteTime": {
     "end_time": "2021-04-17T02:22:38.665532Z",
     "start_time": "2021-04-17T02:22:38.650029Z"
    }
   },
   "outputs": [
    {
     "data": {
      "text/plain": [
       "(1, 2, 3)"
      ]
     },
     "execution_count": 4,
     "metadata": {},
     "output_type": "execute_result"
    }
   ],
   "source": [
    "tuple_2 = (1, 2, 3)\n",
    "tuple_2"
   ]
  },
  {
   "cell_type": "markdown",
   "id": "e7f3c6e2",
   "metadata": {},
   "source": [
    "# **拆包，交换变量值**"
   ]
  },
  {
   "cell_type": "code",
   "execution_count": 7,
   "id": "10dc2050",
   "metadata": {
    "ExecuteTime": {
     "end_time": "2021-04-17T02:32:31.503284Z",
     "start_time": "2021-04-17T02:32:31.497306Z"
    }
   },
   "outputs": [],
   "source": [
    "a,b =1,2"
   ]
  },
  {
   "cell_type": "code",
   "execution_count": 8,
   "id": "dcb89756",
   "metadata": {
    "ExecuteTime": {
     "end_time": "2021-04-17T02:32:33.084789Z",
     "start_time": "2021-04-17T02:32:33.074217Z"
    }
   },
   "outputs": [
    {
     "data": {
      "text/plain": [
       "1"
      ]
     },
     "execution_count": 8,
     "metadata": {},
     "output_type": "execute_result"
    }
   ],
   "source": [
    "a"
   ]
  },
  {
   "cell_type": "code",
   "execution_count": 9,
   "id": "4542fde1",
   "metadata": {
    "ExecuteTime": {
     "end_time": "2021-04-17T02:32:37.152711Z",
     "start_time": "2021-04-17T02:32:37.139324Z"
    }
   },
   "outputs": [
    {
     "data": {
      "text/plain": [
       "2"
      ]
     },
     "execution_count": 9,
     "metadata": {},
     "output_type": "execute_result"
    }
   ],
   "source": [
    "b"
   ]
  },
  {
   "cell_type": "code",
   "execution_count": 10,
   "id": "92099107",
   "metadata": {
    "ExecuteTime": {
     "end_time": "2021-04-17T02:32:57.859645Z",
     "start_time": "2021-04-17T02:32:57.854180Z"
    }
   },
   "outputs": [],
   "source": [
    "a,b = b, a"
   ]
  },
  {
   "cell_type": "code",
   "execution_count": 11,
   "id": "a377eea3",
   "metadata": {
    "ExecuteTime": {
     "end_time": "2021-04-17T02:33:09.681609Z",
     "start_time": "2021-04-17T02:33:09.673092Z"
    }
   },
   "outputs": [
    {
     "data": {
      "text/plain": [
       "2"
      ]
     },
     "execution_count": 11,
     "metadata": {},
     "output_type": "execute_result"
    }
   ],
   "source": [
    "a"
   ]
  },
  {
   "cell_type": "code",
   "execution_count": 12,
   "id": "3aca34a5",
   "metadata": {
    "ExecuteTime": {
     "end_time": "2021-04-17T02:33:21.355174Z",
     "start_time": "2021-04-17T02:33:21.344037Z"
    }
   },
   "outputs": [
    {
     "data": {
      "text/plain": [
       "1"
      ]
     },
     "execution_count": 12,
     "metadata": {},
     "output_type": "execute_result"
    }
   ],
   "source": [
    "b"
   ]
  },
  {
   "cell_type": "markdown",
   "id": "ffee2beb",
   "metadata": {},
   "source": [
    "# **利用拆包遍历元组或列表组成的序列**"
   ]
  },
  {
   "cell_type": "code",
   "execution_count": 13,
   "id": "a3037d08",
   "metadata": {
    "ExecuteTime": {
     "end_time": "2021-04-17T02:42:27.761692Z",
     "start_time": "2021-04-17T02:42:27.755030Z"
    }
   },
   "outputs": [
    {
     "name": "stdout",
     "output_type": "stream",
     "text": [
      "(1, 2, 3)\n",
      "(4, 5, 6)\n",
      "(7, 8, 9)\n"
     ]
    }
   ],
   "source": [
    "seq = [(1, 2, 3), (4, 5, 6), (7, 8, 9)]\n",
    "for a in seq:\n",
    "    print(a)"
   ]
  },
  {
   "cell_type": "code",
   "execution_count": 17,
   "id": "3c6b1b79",
   "metadata": {
    "ExecuteTime": {
     "end_time": "2021-04-17T02:48:54.418054Z",
     "start_time": "2021-04-17T02:48:54.410643Z"
    }
   },
   "outputs": [
    {
     "name": "stdout",
     "output_type": "stream",
     "text": [
      "a=1 b=2 c=3\n",
      "a=4 b=5 c=6\n",
      "a=7 b=8 c=9\n"
     ]
    }
   ],
   "source": [
    "seq = [(1, 2, 3), (4, 5, 6), (7, 8, 9)]\n",
    "for a, b, c in seq:\n",
    "    print('a={0} b={1} c={2}'.format(a, b, c))"
   ]
  },
  {
   "cell_type": "markdown",
   "id": "38ed1855",
   "metadata": {},
   "source": [
    "# ***rest或 *_**"
   ]
  },
  {
   "cell_type": "code",
   "execution_count": 18,
   "id": "886a6b78",
   "metadata": {
    "ExecuteTime": {
     "end_time": "2021-04-17T02:52:37.560135Z",
     "start_time": "2021-04-17T02:52:37.550900Z"
    }
   },
   "outputs": [
    {
     "data": {
      "text/plain": [
       "(1, 2, 3, 4, 5)"
      ]
     },
     "execution_count": 18,
     "metadata": {},
     "output_type": "execute_result"
    }
   ],
   "source": [
    "values_tup = 1, 2, 3, 4, 5\n",
    "values_tup"
   ]
  },
  {
   "cell_type": "code",
   "execution_count": 20,
   "id": "3f83b8d6",
   "metadata": {
    "ExecuteTime": {
     "end_time": "2021-04-17T02:53:28.993361Z",
     "start_time": "2021-04-17T02:53:28.988676Z"
    }
   },
   "outputs": [],
   "source": [
    "a, *rest, b = values_tup"
   ]
  },
  {
   "cell_type": "code",
   "execution_count": 22,
   "id": "8d7268d4",
   "metadata": {
    "ExecuteTime": {
     "end_time": "2021-04-17T02:53:36.945287Z",
     "start_time": "2021-04-17T02:53:36.936852Z"
    }
   },
   "outputs": [
    {
     "data": {
      "text/plain": [
       "(1, 5)"
      ]
     },
     "execution_count": 22,
     "metadata": {},
     "output_type": "execute_result"
    }
   ],
   "source": [
    "a, b  # a=1,b=5 只不过这样输出的是元组"
   ]
  },
  {
   "cell_type": "code",
   "execution_count": 23,
   "id": "e52c9a5a",
   "metadata": {
    "ExecuteTime": {
     "end_time": "2021-04-17T02:53:45.793919Z",
     "start_time": "2021-04-17T02:53:45.784289Z"
    }
   },
   "outputs": [
    {
     "data": {
      "text/plain": [
       "[2, 3, 4]"
      ]
     },
     "execution_count": 23,
     "metadata": {},
     "output_type": "execute_result"
    }
   ],
   "source": [
    "rest  # 列表"
   ]
  },
  {
   "cell_type": "code",
   "execution_count": null,
   "id": "1caf7dc6",
   "metadata": {},
   "outputs": [],
   "source": []
  },
  {
   "cell_type": "code",
   "execution_count": 26,
   "id": "f89ca9a8",
   "metadata": {
    "ExecuteTime": {
     "end_time": "2021-04-17T08:41:52.029956Z",
     "start_time": "2021-04-17T08:41:52.015201Z"
    }
   },
   "outputs": [
    {
     "data": {
      "text/plain": [
       "range(0, 10)"
      ]
     },
     "execution_count": 26,
     "metadata": {},
     "output_type": "execute_result"
    }
   ],
   "source": [
    "gen = range(10)\n",
    "gen"
   ]
  },
  {
   "cell_type": "markdown",
   "id": "44a945c0",
   "metadata": {},
   "source": [
    "# **列表的pop()和remove()**"
   ]
  },
  {
   "cell_type": "code",
   "execution_count": 27,
   "id": "283c44b7",
   "metadata": {
    "ExecuteTime": {
     "end_time": "2021-04-17T08:47:28.233258Z",
     "start_time": "2021-04-17T08:47:28.227312Z"
    }
   },
   "outputs": [],
   "source": [
    "b_list = ['foo', 'red', 'baz', 'dwarf', 'foooo', 'peekaboo']"
   ]
  },
  {
   "cell_type": "code",
   "execution_count": 28,
   "id": "702b65e1",
   "metadata": {
    "ExecuteTime": {
     "end_time": "2021-04-17T08:47:43.160907Z",
     "start_time": "2021-04-17T08:47:43.153500Z"
    }
   },
   "outputs": [
    {
     "data": {
      "text/plain": [
       "['foo', 'red', 'dwarf', 'foooo', 'peekaboo']"
      ]
     },
     "execution_count": 28,
     "metadata": {},
     "output_type": "execute_result"
    }
   ],
   "source": [
    "b_list.pop(2)\n",
    "b_list"
   ]
  },
  {
   "cell_type": "code",
   "execution_count": 29,
   "id": "271c2c9b",
   "metadata": {
    "ExecuteTime": {
     "end_time": "2021-04-17T08:48:09.081083Z",
     "start_time": "2021-04-17T08:48:09.072334Z"
    }
   },
   "outputs": [
    {
     "data": {
      "text/plain": [
       "['foo', 'red', 'dwarf', 'peekaboo']"
      ]
     },
     "execution_count": 29,
     "metadata": {},
     "output_type": "execute_result"
    }
   ],
   "source": [
    "b_list.remove('foooo')\n",
    "b_list"
   ]
  },
  {
   "cell_type": "code",
   "execution_count": null,
   "id": "900e57b6",
   "metadata": {},
   "outputs": [],
   "source": []
  },
  {
   "cell_type": "markdown",
   "id": "775f62b1",
   "metadata": {},
   "source": [
    "# **sort()根据key来排序**"
   ]
  },
  {
   "cell_type": "code",
   "execution_count": 33,
   "id": "2f58934c",
   "metadata": {
    "ExecuteTime": {
     "end_time": "2021-04-17T09:04:16.974103Z",
     "start_time": "2021-04-17T09:04:16.966575Z"
    }
   },
   "outputs": [
    {
     "data": {
      "text/plain": [
       "['He', 'saw', 'six', 'small', 'foxes']"
      ]
     },
     "execution_count": 33,
     "metadata": {},
     "output_type": "execute_result"
    }
   ],
   "source": [
    "b = ['saw', 'small', 'He', 'foxes', 'six']\n",
    "b.sort(key=len)  # 根据字符长度排序。 可试着加reverse=True参数\n",
    "b"
   ]
  },
  {
   "cell_type": "markdown",
   "id": "e254e9aa",
   "metadata": {},
   "source": [
    "# **切片**"
   ]
  },
  {
   "cell_type": "code",
   "execution_count": 45,
   "id": "92d56721",
   "metadata": {
    "ExecuteTime": {
     "end_time": "2021-04-19T07:00:39.196708Z",
     "start_time": "2021-04-19T07:00:39.179115Z"
    }
   },
   "outputs": [
    {
     "data": {
      "text/plain": [
       "[7, 2, 3, 6, 3, 5, 6, 0, 1]"
      ]
     },
     "execution_count": 45,
     "metadata": {},
     "output_type": "execute_result"
    }
   ],
   "source": [
    "seq = [7, 2, 3, 7, 5, 6, 0, 1]\n",
    "seq[3:4] = [6, 3]\n",
    "seq"
   ]
  },
  {
   "cell_type": "code",
   "execution_count": 46,
   "id": "f23601a6",
   "metadata": {
    "ExecuteTime": {
     "end_time": "2021-04-19T07:05:10.575573Z",
     "start_time": "2021-04-19T07:05:10.567597Z"
    }
   },
   "outputs": [
    {
     "data": {
      "text/plain": [
       "[1, 0, 6, 5, 7, 3, 2, 7]"
      ]
     },
     "execution_count": 46,
     "metadata": {},
     "output_type": "execute_result"
    }
   ],
   "source": [
    "# 对列表或元组进行翻转\n",
    "seq = [7, 2, 3, 7, 5, 6, 0, 1]\n",
    "seq[::-1]"
   ]
  },
  {
   "cell_type": "markdown",
   "id": "bba67cb9",
   "metadata": {},
   "source": [
    "# **enumerate**"
   ]
  },
  {
   "cell_type": "code",
   "execution_count": 49,
   "id": "dbb9df18",
   "metadata": {
    "ExecuteTime": {
     "end_time": "2021-04-19T07:24:02.828904Z",
     "start_time": "2021-04-19T07:24:02.820636Z"
    }
   },
   "outputs": [
    {
     "data": {
      "text/plain": [
       "{'foo': 0, 'bar': 1, 'baz': 2}"
      ]
     },
     "execution_count": 49,
     "metadata": {},
     "output_type": "execute_result"
    }
   ],
   "source": [
    "some_list = ['foo', 'bar', 'baz']\n",
    "mapping = {}\n",
    "for i, v in enumerate(some_list):\n",
    "    mapping[v] = i\n",
    "mapping"
   ]
  },
  {
   "cell_type": "markdown",
   "id": "15b41f04",
   "metadata": {},
   "source": [
    "# **enumerate和zip**"
   ]
  },
  {
   "cell_type": "code",
   "execution_count": 53,
   "id": "d36cb604",
   "metadata": {
    "ExecuteTime": {
     "end_time": "2021-04-19T08:03:34.506779Z",
     "start_time": "2021-04-19T08:03:34.499342Z"
    }
   },
   "outputs": [
    {
     "name": "stdout",
     "output_type": "stream",
     "text": [
      "0:foo,one\n",
      "1:bar,two\n",
      "2:baz,three\n"
     ]
    }
   ],
   "source": [
    "seq1 = ['foo', 'bar', 'baz']\n",
    "seq2 = ['one', 'two', 'three']\n",
    "for i, (a, b) in enumerate(zip(seq1, seq2)):\n",
    "    print(\"{0}:{1},{2}\".format(i, a, b))"
   ]
  },
  {
   "cell_type": "code",
   "execution_count": 54,
   "id": "bd1ea505",
   "metadata": {
    "ExecuteTime": {
     "end_time": "2021-04-19T08:09:27.602319Z",
     "start_time": "2021-04-19T08:09:27.595567Z"
    }
   },
   "outputs": [
    {
     "data": {
      "text/plain": [
       "zip"
      ]
     },
     "execution_count": 54,
     "metadata": {},
     "output_type": "execute_result"
    }
   ],
   "source": [
    "type(zip(seq1, seq2))"
   ]
  },
  {
   "cell_type": "markdown",
   "id": "2018cb2d",
   "metadata": {},
   "source": [
    "# **利用zip进行拆分**"
   ]
  },
  {
   "cell_type": "code",
   "execution_count": 61,
   "id": "c40aace4",
   "metadata": {
    "ExecuteTime": {
     "end_time": "2021-04-19T08:32:11.050489Z",
     "start_time": "2021-04-19T08:32:11.039020Z"
    }
   },
   "outputs": [
    {
     "data": {
      "text/plain": [
       "('Nolan', 'Roger', 'Schilling')"
      ]
     },
     "execution_count": 61,
     "metadata": {},
     "output_type": "execute_result"
    }
   ],
   "source": [
    "pitchers = [('Nolan', 'Ryan'), ('Roger', 'Clemens'), ('Schilling', 'Curt')]\n",
    "\n",
    "first_names, last_names = zip(*pitchers)\n",
    "first_names"
   ]
  },
  {
   "cell_type": "code",
   "execution_count": 62,
   "id": "67ae9ea1",
   "metadata": {
    "ExecuteTime": {
     "end_time": "2021-04-19T08:32:13.433458Z",
     "start_time": "2021-04-19T08:32:13.425595Z"
    }
   },
   "outputs": [
    {
     "data": {
      "text/plain": [
       "('Ryan', 'Clemens', 'Curt')"
      ]
     },
     "execution_count": 62,
     "metadata": {},
     "output_type": "execute_result"
    }
   ],
   "source": [
    "last_names"
   ]
  },
  {
   "cell_type": "markdown",
   "id": "5a9db690",
   "metadata": {},
   "source": [
    "# **从序列生成字典**"
   ]
  },
  {
   "cell_type": "code",
   "execution_count": 66,
   "id": "380a1e55",
   "metadata": {
    "ExecuteTime": {
     "end_time": "2021-04-19T10:24:00.341002Z",
     "start_time": "2021-04-19T10:24:00.333492Z"
    }
   },
   "outputs": [
    {
     "data": {
      "text/plain": [
       "[(0, 4), (1, 3), (2, 2), (3, 1), (4, 0)]"
      ]
     },
     "execution_count": 66,
     "metadata": {},
     "output_type": "execute_result"
    }
   ],
   "source": [
    "list(zip(range(5),reversed(range(5))))"
   ]
  },
  {
   "cell_type": "code",
   "execution_count": 68,
   "id": "502f779d",
   "metadata": {
    "ExecuteTime": {
     "end_time": "2021-04-19T10:29:21.601825Z",
     "start_time": "2021-04-19T10:29:21.594081Z"
    }
   },
   "outputs": [
    {
     "data": {
      "text/plain": [
       "{0: 4, 1: 3, 2: 2, 3: 1, 4: 0}"
      ]
     },
     "execution_count": 68,
     "metadata": {},
     "output_type": "execute_result"
    }
   ],
   "source": [
    "# 字典的本质是2-元组（含有2个元素的元组）的集合\n",
    "# dict可以接受一个2-元组的列表作为参数\n",
    "mapping = dict(zip(range(5), reversed(range(5))))\n",
    "mapping"
   ]
  },
  {
   "cell_type": "markdown",
   "id": "caeaeb1e",
   "metadata": {},
   "source": [
    "# **setdefault**和**defaultdict**"
   ]
  },
  {
   "cell_type": "markdown",
   "id": "33140ee8",
   "metadata": {},
   "source": [
    "## setdefault"
   ]
  },
  {
   "cell_type": "code",
   "execution_count": 69,
   "id": "776b0fa9",
   "metadata": {
    "ExecuteTime": {
     "end_time": "2021-04-19T10:51:46.556941Z",
     "start_time": "2021-04-19T10:51:46.552557Z"
    }
   },
   "outputs": [],
   "source": [
    "data = [('p', 1), ('p', 2), ('p', 3),\n",
    "        ('h', 11), ('h', 12), ('h', 14)]"
   ]
  },
  {
   "cell_type": "code",
   "execution_count": 71,
   "id": "97acd034",
   "metadata": {
    "ExecuteTime": {
     "end_time": "2021-04-19T10:52:49.460018Z",
     "start_time": "2021-04-19T10:52:49.452473Z"
    }
   },
   "outputs": [
    {
     "data": {
      "text/plain": [
       "{'p': [1, 2, 3], 'h': [11, 12, 14]}"
      ]
     },
     "execution_count": 71,
     "metadata": {},
     "output_type": "execute_result"
    }
   ],
   "source": [
    "# dict.setdefault(k, new_v) 方法的作用是：如果存在键 k，就返回 k 对应的 v 值；\n",
    "# 如果没有 k，就给字典添加键 k，对应值为 new_v，同时返回 k 对应的 new_v。\n",
    "result = {}\n",
    "for key, value in data:\n",
    "    result.setdefault(key, []).append(value)\n",
    "result"
   ]
  },
  {
   "cell_type": "code",
   "execution_count": null,
   "id": "2dcb9b37",
   "metadata": {},
   "outputs": [],
   "source": []
  },
  {
   "cell_type": "code",
   "execution_count": 77,
   "id": "31f71207",
   "metadata": {
    "ExecuteTime": {
     "end_time": "2021-04-19T11:14:39.657088Z",
     "start_time": "2021-04-19T11:14:39.649108Z"
    }
   },
   "outputs": [
    {
     "data": {
      "text/plain": [
       "[1, 2, 3]"
      ]
     },
     "execution_count": 77,
     "metadata": {},
     "output_type": "execute_result"
    }
   ],
   "source": [
    "# get()方法，字典里有这个key就返回key的值，没有这个key就返回默认值（本例中默认值是111）\n",
    "v = result.get('p', 111)\n",
    "v"
   ]
  },
  {
   "cell_type": "markdown",
   "id": "64b340af",
   "metadata": {},
   "source": [
    "## **defaultdict**\n",
    "defaultdict是属于collections模块下的一个工厂函数，用于构建字典对象，接受一个函数（callable可调用）对象作为参数。\n",
    "参数返回的类型是什么，所构建的字典的key对应的value就是什么类型"
   ]
  },
  {
   "cell_type": "code",
   "execution_count": 81,
   "id": "fad468a6",
   "metadata": {
    "ExecuteTime": {
     "end_time": "2021-04-19T14:06:35.253175Z",
     "start_time": "2021-04-19T14:06:35.246038Z"
    }
   },
   "outputs": [
    {
     "data": {
      "text/plain": [
       "defaultdict(list, {})"
      ]
     },
     "execution_count": 81,
     "metadata": {},
     "output_type": "execute_result"
    }
   ],
   "source": [
    "from collections import defaultdict\n",
    "result2 = defaultdict(list)\n",
    "result2"
   ]
  },
  {
   "cell_type": "code",
   "execution_count": 82,
   "id": "04d2145a",
   "metadata": {
    "ExecuteTime": {
     "end_time": "2021-04-19T14:07:04.595959Z",
     "start_time": "2021-04-19T14:07:04.586393Z"
    }
   },
   "outputs": [
    {
     "data": {
      "text/plain": [
       "[]"
      ]
     },
     "execution_count": 82,
     "metadata": {},
     "output_type": "execute_result"
    }
   ],
   "source": [
    "result2['aa']"
   ]
  },
  {
   "cell_type": "markdown",
   "id": "6392963b",
   "metadata": {},
   "source": [
    "defaultdict的参数是list，它就会构建一个value值为list的字典，例如result2['aa']的值默认就是list对象"
   ]
  },
  {
   "cell_type": "code",
   "execution_count": 83,
   "id": "6ea7fd01",
   "metadata": {
    "ExecuteTime": {
     "end_time": "2021-04-19T14:10:50.597770Z",
     "start_time": "2021-04-19T14:10:50.589333Z"
    }
   },
   "outputs": [
    {
     "data": {
      "text/plain": [
       "defaultdict(list, {'p': [1, 2, 3], 'h': [11, 12, 14]})"
      ]
     },
     "execution_count": 83,
     "metadata": {},
     "output_type": "execute_result"
    }
   ],
   "source": [
    "from collections import defaultdict\n",
    "result2 = defaultdict(list)\n",
    "for key, value in data:\n",
    "    result2[key].append(value)\n",
    "result2"
   ]
  },
  {
   "cell_type": "markdown",
   "id": "01d4ff04",
   "metadata": {},
   "source": [
    "# 列表, 集合和字典的推导式"
   ]
  },
  {
   "cell_type": "code",
   "execution_count": 84,
   "id": "e9ac316d",
   "metadata": {
    "ExecuteTime": {
     "end_time": "2021-04-19T14:34:59.101030Z",
     "start_time": "2021-04-19T14:34:59.094383Z"
    }
   },
   "outputs": [],
   "source": [
    "strings = ['a', 'as', 'bat', 'car', 'dove', 'python', 'java']"
   ]
  },
  {
   "cell_type": "markdown",
   "id": "36bb1c2d",
   "metadata": {},
   "source": [
    "## 列表推导式"
   ]
  },
  {
   "cell_type": "code",
   "execution_count": 87,
   "id": "26efa87e",
   "metadata": {
    "ExecuteTime": {
     "end_time": "2021-04-19T14:35:58.616458Z",
     "start_time": "2021-04-19T14:35:58.603802Z"
    }
   },
   "outputs": [
    {
     "data": {
      "text/plain": [
       "['DOVE', 'PYTHON', 'JAVA']"
      ]
     },
     "execution_count": 87,
     "metadata": {},
     "output_type": "execute_result"
    }
   ],
   "source": [
    "[x.upper() for x in strings if len(x) > 3]"
   ]
  },
  {
   "cell_type": "markdown",
   "id": "ab1a9b62",
   "metadata": {},
   "source": [
    "## 集合推导式"
   ]
  },
  {
   "cell_type": "code",
   "execution_count": 89,
   "id": "12f5917d",
   "metadata": {
    "ExecuteTime": {
     "end_time": "2021-04-19T14:37:02.705758Z",
     "start_time": "2021-04-19T14:37:02.698125Z"
    }
   },
   "outputs": [
    {
     "data": {
      "text/plain": [
       "{1, 2, 3, 4, 6}"
      ]
     },
     "execution_count": 89,
     "metadata": {},
     "output_type": "execute_result"
    }
   ],
   "source": [
    "{len(x) for x in strings}"
   ]
  },
  {
   "cell_type": "markdown",
   "id": "f3f86ddb",
   "metadata": {},
   "source": [
    "### 利用map"
   ]
  },
  {
   "cell_type": "code",
   "execution_count": 93,
   "id": "184547ba",
   "metadata": {
    "ExecuteTime": {
     "end_time": "2021-04-19T14:40:33.723556Z",
     "start_time": "2021-04-19T14:40:33.714179Z"
    }
   },
   "outputs": [
    {
     "data": {
      "text/plain": [
       "<map at 0x7fe1a3c90b70>"
      ]
     },
     "execution_count": 93,
     "metadata": {},
     "output_type": "execute_result"
    }
   ],
   "source": [
    "map(len,strings)"
   ]
  },
  {
   "cell_type": "code",
   "execution_count": 91,
   "id": "f90c6625",
   "metadata": {
    "ExecuteTime": {
     "end_time": "2021-04-19T14:38:35.278668Z",
     "start_time": "2021-04-19T14:38:35.269965Z"
    }
   },
   "outputs": [
    {
     "data": {
      "text/plain": [
       "[1, 2, 3, 3, 4, 6, 4]"
      ]
     },
     "execution_count": 91,
     "metadata": {},
     "output_type": "execute_result"
    }
   ],
   "source": [
    "list(map(len, strings))"
   ]
  },
  {
   "cell_type": "code",
   "execution_count": 92,
   "id": "95d5a96f",
   "metadata": {
    "ExecuteTime": {
     "end_time": "2021-04-19T14:39:02.891040Z",
     "start_time": "2021-04-19T14:39:02.883490Z"
    }
   },
   "outputs": [
    {
     "data": {
      "text/plain": [
       "{1, 2, 3, 4, 6}"
      ]
     },
     "execution_count": 92,
     "metadata": {},
     "output_type": "execute_result"
    }
   ],
   "source": [
    "set(map(len, strings))"
   ]
  },
  {
   "cell_type": "markdown",
   "id": "c5fd246e",
   "metadata": {},
   "source": [
    "## 字典推导式"
   ]
  },
  {
   "cell_type": "code",
   "execution_count": 95,
   "id": "e3171771",
   "metadata": {
    "ExecuteTime": {
     "end_time": "2021-04-19T14:44:47.495829Z",
     "start_time": "2021-04-19T14:44:47.487648Z"
    }
   },
   "outputs": [
    {
     "data": {
      "text/plain": [
       "{'a': 0, 'as': 1, 'bat': 2, 'car': 3, 'dove': 4, 'python': 5, 'java': 6}"
      ]
     },
     "execution_count": 95,
     "metadata": {},
     "output_type": "execute_result"
    }
   ],
   "source": [
    "dict_mapping = {val: key for key, val in enumerate(strings)}\n",
    "dict_mapping"
   ]
  },
  {
   "cell_type": "markdown",
   "id": "8655446b",
   "metadata": {},
   "source": [
    "## 嵌套列表推导式"
   ]
  },
  {
   "cell_type": "code",
   "execution_count": 96,
   "id": "95e149ee",
   "metadata": {
    "ExecuteTime": {
     "end_time": "2021-04-19T14:52:50.408421Z",
     "start_time": "2021-04-19T14:52:50.402684Z"
    }
   },
   "outputs": [],
   "source": [
    "tuple_list = [(1, 2, 3), (4, 5, 6), (7, 8, 9)]"
   ]
  },
  {
   "cell_type": "code",
   "execution_count": 98,
   "id": "53dd26d2",
   "metadata": {
    "ExecuteTime": {
     "end_time": "2021-04-19T14:53:49.118960Z",
     "start_time": "2021-04-19T14:53:49.112447Z"
    }
   },
   "outputs": [
    {
     "data": {
      "text/plain": [
       "[1, 2, 3, 4, 5, 6, 7, 8, 9]"
      ]
     },
     "execution_count": 98,
     "metadata": {},
     "output_type": "execute_result"
    }
   ],
   "source": [
    "# 嵌套列表推导式\n",
    "flattened = [x for tup in tuple_list for x in tup]\n",
    "flattened"
   ]
  },
  {
   "cell_type": "code",
   "execution_count": 99,
   "id": "222704b8",
   "metadata": {
    "ExecuteTime": {
     "end_time": "2021-04-19T14:55:18.521406Z",
     "start_time": "2021-04-19T14:55:18.513994Z"
    }
   },
   "outputs": [
    {
     "data": {
      "text/plain": [
       "[[1, 2, 3], [4, 5, 6], [7, 8, 9]]"
      ]
     },
     "execution_count": 99,
     "metadata": {},
     "output_type": "execute_result"
    }
   ],
   "source": [
    "# 列表推导式中的列表推导式\n",
    "[[x for x in tup]for tup in tuple_list]"
   ]
  },
  {
   "cell_type": "markdown",
   "id": "5b554314",
   "metadata": {},
   "source": [
    "# 返回多个值"
   ]
  },
  {
   "cell_type": "code",
   "execution_count": 102,
   "id": "3e4ddfbf",
   "metadata": {
    "ExecuteTime": {
     "end_time": "2021-04-20T01:41:45.754201Z",
     "start_time": "2021-04-20T01:41:45.746385Z"
    }
   },
   "outputs": [
    {
     "data": {
      "text/plain": [
       "(5, 6, 7)"
      ]
     },
     "execution_count": 102,
     "metadata": {},
     "output_type": "execute_result"
    }
   ],
   "source": [
    "def f():\n",
    "    a = 5\n",
    "    b = 6\n",
    "    c = 7\n",
    "    return a, b, c\n",
    "\n",
    "return_value = f()\n",
    "return_value"
   ]
  },
  {
   "cell_type": "code",
   "execution_count": null,
   "id": "d894bd74",
   "metadata": {},
   "outputs": [],
   "source": [
    "def f():\n",
    "    a = 5\n",
    "    b = 6\n",
    "    c = 7\n",
    "    return {'a': a, 'b': b, 'c', c}"
   ]
  },
  {
   "cell_type": "markdown",
   "id": "d29caf93",
   "metadata": {},
   "source": [
    "# 函数是对象"
   ]
  },
  {
   "cell_type": "code",
   "execution_count": 124,
   "id": "f3e2b1ef",
   "metadata": {
    "ExecuteTime": {
     "end_time": "2021-04-21T08:11:24.994646Z",
     "start_time": "2021-04-21T08:11:24.990344Z"
    }
   },
   "outputs": [],
   "source": [
    "states = ['   Alabama ', 'Georgia!', 'Geor.gia', 'geor:gia', 'Fl,OrI,da',\n",
    "          'south   carolina##', 'West virginia?']"
   ]
  },
  {
   "cell_type": "code",
   "execution_count": 125,
   "id": "425b905a",
   "metadata": {
    "ExecuteTime": {
     "end_time": "2021-04-21T08:11:29.340245Z",
     "start_time": "2021-04-21T08:11:29.309815Z"
    }
   },
   "outputs": [
    {
     "data": {
      "text/plain": [
       "['   Alabama ',\n",
       " 'Georgia',\n",
       " 'Georgia',\n",
       " 'georgia',\n",
       " 'FlOrIda',\n",
       " 'south   carolina',\n",
       " 'West virginia']"
      ]
     },
     "execution_count": 125,
     "metadata": {},
     "output_type": "execute_result"
    }
   ],
   "source": [
    "import re\n",
    "new_s =[]\n",
    "for value in states:\n",
    "    value = re.sub('[!#?,.:]','',value)\n",
    "    new_s.append(value)\n",
    "new_s"
   ]
  },
  {
   "cell_type": "code",
   "execution_count": 133,
   "id": "a44fb62b",
   "metadata": {
    "ExecuteTime": {
     "end_time": "2021-04-21T08:17:25.922711Z",
     "start_time": "2021-04-21T08:17:25.917565Z"
    }
   },
   "outputs": [],
   "source": [
    "def remove_punctuation(value):\n",
    "    return re.sub('[!#?,.:]', '', value)\n",
    "\n",
    "\n",
    "clean_ops = [str.strip, remove_punctuation, str.title]\n",
    "\n",
    "\n",
    "def clean_strings(strings, ops):\n",
    "    result = []\n",
    "    for string in strings:\n",
    "        for function in ops:\n",
    "            string = function(string)\n",
    "        result.append(string)\n",
    "    return result"
   ]
  },
  {
   "cell_type": "code",
   "execution_count": 146,
   "id": "1c6765de",
   "metadata": {
    "ExecuteTime": {
     "end_time": "2021-04-21T08:43:49.044416Z",
     "start_time": "2021-04-21T08:43:49.033664Z"
    }
   },
   "outputs": [
    {
     "data": {
      "text/plain": [
       "['Alabama',\n",
       " 'Georgia',\n",
       " 'Georgia',\n",
       " 'Georgia',\n",
       " 'Florida',\n",
       " 'South   Carolina',\n",
       " 'West Virginia']"
      ]
     },
     "execution_count": 146,
     "metadata": {},
     "output_type": "execute_result"
    }
   ],
   "source": [
    "clean_strings(states, clean_ops)"
   ]
  },
  {
   "cell_type": "markdown",
   "id": "e83c2e7d",
   "metadata": {},
   "source": [
    "**或者利用map(func, *iterables) --> map object**"
   ]
  },
  {
   "cell_type": "code",
   "execution_count": 145,
   "id": "2a50e36e",
   "metadata": {
    "ExecuteTime": {
     "end_time": "2021-04-21T08:40:13.479812Z",
     "start_time": "2021-04-21T08:40:13.471416Z"
    }
   },
   "outputs": [
    {
     "name": "stdout",
     "output_type": "stream",
     "text": [
      "   Alabama \n",
      "Georgia\n",
      "Georgia\n",
      "georgia\n",
      "FlOrIda\n",
      "south   carolina\n",
      "West virginia\n"
     ]
    },
    {
     "data": {
      "text/plain": [
       "['   Alabama ',\n",
       " 'Georgia!',\n",
       " 'Geor.gia',\n",
       " 'geor:gia',\n",
       " 'Fl,OrI,da',\n",
       " 'south   carolina##',\n",
       " 'West virginia?']"
      ]
     },
     "execution_count": 145,
     "metadata": {},
     "output_type": "execute_result"
    }
   ],
   "source": [
    "for x in map(remove_punctuation, states):\n",
    "    print(x)\n",
    "states"
   ]
  },
  {
   "cell_type": "markdown",
   "id": "bb0ff3cc",
   "metadata": {
    "ExecuteTime": {
     "end_time": "2021-04-22T06:50:00.707011Z",
     "start_time": "2021-04-22T06:50:00.679843Z"
    }
   },
   "source": [
    "# Lambda函数"
   ]
  },
  {
   "cell_type": "code",
   "execution_count": 151,
   "id": "d2e85194",
   "metadata": {
    "ExecuteTime": {
     "end_time": "2021-04-22T06:57:55.944728Z",
     "start_time": "2021-04-22T06:57:55.936114Z"
    }
   },
   "outputs": [
    {
     "data": {
      "text/plain": [
       "['aaaa', 'foo', 'abab', 'bar', 'card', 'asdfuuuu']"
      ]
     },
     "execution_count": 151,
     "metadata": {},
     "output_type": "execute_result"
    }
   ],
   "source": [
    "# 根据字符串中不同字母的数量对一个字符串进行排序\n",
    "strings = ['card', 'bar', 'foo', 'asdfuuuu', 'aaaa', 'abab']\n",
    "strings.sort(key=lambda x: len(set(list(x))))  # sort()直接在列表内部进行排序，参数key一般是函数\n",
    "strings"
   ]
  },
  {
   "cell_type": "markdown",
   "id": "d8d6a0cb",
   "metadata": {},
   "source": [
    "# functools.partial"
   ]
  },
  {
   "cell_type": "code",
   "execution_count": 163,
   "id": "fd5a8e48",
   "metadata": {
    "ExecuteTime": {
     "end_time": "2021-04-22T07:50:59.782496Z",
     "start_time": "2021-04-22T07:50:59.776589Z"
    }
   },
   "outputs": [
    {
     "name": "stdout",
     "output_type": "stream",
     "text": [
      "5 1 2\n"
     ]
    }
   ],
   "source": [
    "from functools import partial\n",
    "\n",
    "\n",
    "def print_number(x, y, z):\n",
    "    print(x, y, z)\n",
    "\n",
    "\n",
    "p1 = partial(print_number, 5)\n",
    "p1(1, 2)"
   ]
  },
  {
   "cell_type": "code",
   "execution_count": 173,
   "id": "1101cfd8",
   "metadata": {
    "ExecuteTime": {
     "end_time": "2021-04-22T07:56:15.847404Z",
     "start_time": "2021-04-22T07:56:15.840333Z"
    }
   },
   "outputs": [
    {
     "name": "stdout",
     "output_type": "stream",
     "text": [
      "1 2 5\n"
     ]
    }
   ],
   "source": [
    "p2 = partial(print_number, 1, z=5)\n",
    "p2(2)"
   ]
  },
  {
   "cell_type": "markdown",
   "id": "9aa1a9de",
   "metadata": {},
   "source": [
    "# 生成器"
   ]
  },
  {
   "cell_type": "code",
   "execution_count": 196,
   "id": "50f51722",
   "metadata": {
    "ExecuteTime": {
     "end_time": "2021-04-22T08:22:38.578258Z",
     "start_time": "2021-04-22T08:22:38.566994Z"
    }
   },
   "outputs": [],
   "source": [
    "def squares(n=10):\n",
    "    print('Generating squares from 1 to {0}'.format(n**2))\n",
    "    for i in range(1, n+1):\n",
    "        yield i ** 2\n",
    "gen = squares()"
   ]
  },
  {
   "cell_type": "code",
   "execution_count": 197,
   "id": "fd1e7b15",
   "metadata": {
    "ExecuteTime": {
     "end_time": "2021-04-22T08:22:54.226793Z",
     "start_time": "2021-04-22T08:22:54.220034Z"
    }
   },
   "outputs": [
    {
     "name": "stdout",
     "output_type": "stream",
     "text": [
      "Generating squares from 1 to 100\n",
      "1 4 9 16 25 36 49 64 81 100 "
     ]
    }
   ],
   "source": [
    "for x in gen:\n",
    "    print(x, end=' ')"
   ]
  },
  {
   "cell_type": "markdown",
   "id": "e1e1974c",
   "metadata": {},
   "source": [
    "## 生成器表达式\n",
    "只需将**列表表达式**的**中括号**换成**小括号**即可"
   ]
  },
  {
   "cell_type": "code",
   "execution_count": 2,
   "id": "3105c13f",
   "metadata": {
    "ExecuteTime": {
     "end_time": "2021-04-23T02:49:54.357124Z",
     "start_time": "2021-04-23T02:49:54.343246Z"
    }
   },
   "outputs": [
    {
     "data": {
      "text/plain": [
       "<generator object <genexpr> at 0x7fe2eac66200>"
      ]
     },
     "execution_count": 2,
     "metadata": {},
     "output_type": "execute_result"
    }
   ],
   "source": [
    "gen = (x ** 2 for x in range(100))\n",
    "gen"
   ]
  },
  {
   "cell_type": "markdown",
   "id": "1f9f5aeb",
   "metadata": {},
   "source": [
    "很多情况下，生成器表达式可以作为函数**参数**用于替代列表表达式"
   ]
  },
  {
   "cell_type": "code",
   "execution_count": 3,
   "id": "1a6225fb",
   "metadata": {
    "ExecuteTime": {
     "end_time": "2021-04-23T02:51:15.163684Z",
     "start_time": "2021-04-23T02:51:15.146303Z"
    }
   },
   "outputs": [
    {
     "data": {
      "text/plain": [
       "328350"
      ]
     },
     "execution_count": 3,
     "metadata": {},
     "output_type": "execute_result"
    }
   ],
   "source": [
    "sum(x ** 2 for x in range(100))"
   ]
  },
  {
   "cell_type": "code",
   "execution_count": 5,
   "id": "5da59c32",
   "metadata": {
    "ExecuteTime": {
     "end_time": "2021-04-23T02:52:35.208765Z",
     "start_time": "2021-04-23T02:52:35.199169Z"
    }
   },
   "outputs": [
    {
     "data": {
      "text/plain": [
       "{'0': 0, '1': 1, '2': 4, '3': 9, '4': 16}"
      ]
     },
     "execution_count": 5,
     "metadata": {},
     "output_type": "execute_result"
    }
   ],
   "source": [
    "dict((str(i), i**2) for i in range(5))"
   ]
  },
  {
   "cell_type": "markdown",
   "id": "d2ae3a56",
   "metadata": {},
   "source": [
    "**itertools.groupby**\n",
    "\n",
    "通过函数的返回值对序列中连续的元素进行分组\n",
    "\n",
    "groupby(iterable[, keyfunc]) 根据每一个独特的key生成（key, sub-iterator)元组"
   ]
  },
  {
   "cell_type": "code",
   "execution_count": 9,
   "id": "c0fc028f",
   "metadata": {
    "ExecuteTime": {
     "end_time": "2021-04-23T03:25:44.224152Z",
     "start_time": "2021-04-23T03:25:44.216628Z"
    }
   },
   "outputs": [
    {
     "name": "stdout",
     "output_type": "stream",
     "text": [
      "A ['Alan', 'Adam']\n",
      "W ['Wes', 'Will']\n",
      "A ['Albert']\n",
      "S ['Steven']\n"
     ]
    }
   ],
   "source": [
    "import itertools\n",
    "def first_letter(x): return x[0]\n",
    "\n",
    "\n",
    "names = ['Alan', 'Adam', 'Wes', 'Will', 'Albert', 'Steven']\n",
    "\n",
    "for letter, names in itertools.groupby(names, first_letter):\n",
    "    print(letter, list(names))"
   ]
  },
  {
   "cell_type": "code",
   "execution_count": null,
   "id": "dc360c61",
   "metadata": {},
   "outputs": [],
   "source": []
  },
  {
   "cell_type": "code",
   "execution_count": null,
   "id": "105041e3",
   "metadata": {},
   "outputs": [],
   "source": []
  },
  {
   "cell_type": "code",
   "execution_count": null,
   "id": "00de3b3b",
   "metadata": {},
   "outputs": [],
   "source": []
  },
  {
   "cell_type": "code",
   "execution_count": null,
   "id": "aedd5497",
   "metadata": {},
   "outputs": [],
   "source": []
  },
  {
   "cell_type": "code",
   "execution_count": null,
   "id": "2a6bc187",
   "metadata": {},
   "outputs": [],
   "source": []
  },
  {
   "cell_type": "code",
   "execution_count": null,
   "id": "0a3e1c1b",
   "metadata": {},
   "outputs": [],
   "source": []
  },
  {
   "cell_type": "code",
   "execution_count": null,
   "id": "b93ac342",
   "metadata": {},
   "outputs": [],
   "source": []
  },
  {
   "cell_type": "code",
   "execution_count": null,
   "id": "f1b37dd8",
   "metadata": {},
   "outputs": [],
   "source": []
  },
  {
   "cell_type": "code",
   "execution_count": null,
   "id": "9cfb2b0c",
   "metadata": {},
   "outputs": [],
   "source": []
  }
 ],
 "metadata": {
  "kernelspec": {
   "display_name": "Python 3",
   "language": "python",
   "name": "python3"
  },
  "language_info": {
   "codemirror_mode": {
    "name": "ipython",
    "version": 3
   },
   "file_extension": ".py",
   "mimetype": "text/x-python",
   "name": "python",
   "nbconvert_exporter": "python",
   "pygments_lexer": "ipython3",
   "version": "3.6.13"
  },
  "toc": {
   "base_numbering": 1,
   "nav_menu": {},
   "number_sections": true,
   "sideBar": true,
   "skip_h1_title": false,
   "title_cell": "Table of Contents",
   "title_sidebar": "Contents",
   "toc_cell": false,
   "toc_position": {},
   "toc_section_display": true,
   "toc_window_display": false
  },
  "varInspector": {
   "cols": {
    "lenName": 16,
    "lenType": 16,
    "lenVar": 40
   },
   "kernels_config": {
    "python": {
     "delete_cmd_postfix": "",
     "delete_cmd_prefix": "del ",
     "library": "var_list.py",
     "varRefreshCmd": "print(var_dic_list())"
    },
    "r": {
     "delete_cmd_postfix": ") ",
     "delete_cmd_prefix": "rm(",
     "library": "var_list.r",
     "varRefreshCmd": "cat(var_dic_list()) "
    }
   },
   "position": {
    "height": "669px",
    "left": "1546px",
    "right": "20px",
    "top": "120px",
    "width": "354px"
   },
   "types_to_exclude": [
    "module",
    "function",
    "builtin_function_or_method",
    "instance",
    "_Feature"
   ],
   "window_display": false
  }
 },
 "nbformat": 4,
 "nbformat_minor": 5
}
