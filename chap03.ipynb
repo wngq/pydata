{
 "cells": [
  {
   "cell_type": "code",
   "execution_count": 5,
   "id": "e8cffb76",
   "metadata": {
    "ExecuteTime": {
     "end_time": "2021-04-17T02:22:42.754369Z",
     "start_time": "2021-04-17T02:22:42.744847Z"
    }
   },
   "outputs": [
    {
     "data": {
      "text/plain": [
       "(3, 4, 5)"
      ]
     },
     "execution_count": 5,
     "metadata": {},
     "output_type": "execute_result"
    }
   ],
   "source": [
    "tuple = 3, 4, 5\n",
    "tuple"
   ]
  },
  {
   "cell_type": "code",
   "execution_count": 4,
   "id": "48f4499a",
   "metadata": {
    "ExecuteTime": {
     "end_time": "2021-04-17T02:22:38.665532Z",
     "start_time": "2021-04-17T02:22:38.650029Z"
    }
   },
   "outputs": [
    {
     "data": {
      "text/plain": [
       "(1, 2, 3)"
      ]
     },
     "execution_count": 4,
     "metadata": {},
     "output_type": "execute_result"
    }
   ],
   "source": [
    "tuple_2 = (1, 2, 3)\n",
    "tuple_2"
   ]
  },
  {
   "cell_type": "markdown",
   "id": "c25d20fd",
   "metadata": {},
   "source": [
    "**拆包，交换变量值**"
   ]
  },
  {
   "cell_type": "code",
   "execution_count": 7,
   "id": "bae0f8d2",
   "metadata": {
    "ExecuteTime": {
     "end_time": "2021-04-17T02:32:31.503284Z",
     "start_time": "2021-04-17T02:32:31.497306Z"
    }
   },
   "outputs": [],
   "source": [
    "a,b =1,2"
   ]
  },
  {
   "cell_type": "code",
   "execution_count": 8,
   "id": "fbe367a9",
   "metadata": {
    "ExecuteTime": {
     "end_time": "2021-04-17T02:32:33.084789Z",
     "start_time": "2021-04-17T02:32:33.074217Z"
    }
   },
   "outputs": [
    {
     "data": {
      "text/plain": [
       "1"
      ]
     },
     "execution_count": 8,
     "metadata": {},
     "output_type": "execute_result"
    }
   ],
   "source": [
    "a"
   ]
  },
  {
   "cell_type": "code",
   "execution_count": 9,
   "id": "40501770",
   "metadata": {
    "ExecuteTime": {
     "end_time": "2021-04-17T02:32:37.152711Z",
     "start_time": "2021-04-17T02:32:37.139324Z"
    }
   },
   "outputs": [
    {
     "data": {
      "text/plain": [
       "2"
      ]
     },
     "execution_count": 9,
     "metadata": {},
     "output_type": "execute_result"
    }
   ],
   "source": [
    "b"
   ]
  },
  {
   "cell_type": "code",
   "execution_count": 10,
   "id": "72134b67",
   "metadata": {
    "ExecuteTime": {
     "end_time": "2021-04-17T02:32:57.859645Z",
     "start_time": "2021-04-17T02:32:57.854180Z"
    }
   },
   "outputs": [],
   "source": [
    "a,b = b, a"
   ]
  },
  {
   "cell_type": "code",
   "execution_count": 11,
   "id": "ed358fa0",
   "metadata": {
    "ExecuteTime": {
     "end_time": "2021-04-17T02:33:09.681609Z",
     "start_time": "2021-04-17T02:33:09.673092Z"
    }
   },
   "outputs": [
    {
     "data": {
      "text/plain": [
       "2"
      ]
     },
     "execution_count": 11,
     "metadata": {},
     "output_type": "execute_result"
    }
   ],
   "source": [
    "a"
   ]
  },
  {
   "cell_type": "code",
   "execution_count": 12,
   "id": "6b5e6273",
   "metadata": {
    "ExecuteTime": {
     "end_time": "2021-04-17T02:33:21.355174Z",
     "start_time": "2021-04-17T02:33:21.344037Z"
    }
   },
   "outputs": [
    {
     "data": {
      "text/plain": [
       "1"
      ]
     },
     "execution_count": 12,
     "metadata": {},
     "output_type": "execute_result"
    }
   ],
   "source": [
    "b"
   ]
  },
  {
   "cell_type": "markdown",
   "id": "997089d6",
   "metadata": {},
   "source": [
    "**利用拆包遍历元组或列表组成的序列**"
   ]
  },
  {
   "cell_type": "code",
   "execution_count": 13,
   "id": "e35f62e6",
   "metadata": {
    "ExecuteTime": {
     "end_time": "2021-04-17T02:42:27.761692Z",
     "start_time": "2021-04-17T02:42:27.755030Z"
    }
   },
   "outputs": [
    {
     "name": "stdout",
     "output_type": "stream",
     "text": [
      "(1, 2, 3)\n",
      "(4, 5, 6)\n",
      "(7, 8, 9)\n"
     ]
    }
   ],
   "source": [
    "seq = [(1, 2, 3), (4, 5, 6), (7, 8, 9)]\n",
    "for a in seq:\n",
    "    print(a)"
   ]
  },
  {
   "cell_type": "code",
   "execution_count": 17,
   "id": "d54dd9ff",
   "metadata": {
    "ExecuteTime": {
     "end_time": "2021-04-17T02:48:54.418054Z",
     "start_time": "2021-04-17T02:48:54.410643Z"
    }
   },
   "outputs": [
    {
     "name": "stdout",
     "output_type": "stream",
     "text": [
      "a=1 b=2 c=3\n",
      "a=4 b=5 c=6\n",
      "a=7 b=8 c=9\n"
     ]
    }
   ],
   "source": [
    "seq = [(1, 2, 3), (4, 5, 6), (7, 8, 9)]\n",
    "for a, b, c in seq:\n",
    "    print('a={0} b={1} c={2}'.format(a, b, c))"
   ]
  },
  {
   "cell_type": "markdown",
   "id": "a228cd35",
   "metadata": {},
   "source": [
    "***rest或 *_**"
   ]
  },
  {
   "cell_type": "code",
   "execution_count": 18,
   "id": "c10079f0",
   "metadata": {
    "ExecuteTime": {
     "end_time": "2021-04-17T02:52:37.560135Z",
     "start_time": "2021-04-17T02:52:37.550900Z"
    }
   },
   "outputs": [
    {
     "data": {
      "text/plain": [
       "(1, 2, 3, 4, 5)"
      ]
     },
     "execution_count": 18,
     "metadata": {},
     "output_type": "execute_result"
    }
   ],
   "source": [
    "values_tup = 1, 2, 3, 4, 5\n",
    "values_tup"
   ]
  },
  {
   "cell_type": "code",
   "execution_count": 20,
   "id": "3d73afdb",
   "metadata": {
    "ExecuteTime": {
     "end_time": "2021-04-17T02:53:28.993361Z",
     "start_time": "2021-04-17T02:53:28.988676Z"
    }
   },
   "outputs": [],
   "source": [
    "a, *rest, b = values_tup"
   ]
  },
  {
   "cell_type": "code",
   "execution_count": 22,
   "id": "a8d30ca8",
   "metadata": {
    "ExecuteTime": {
     "end_time": "2021-04-17T02:53:36.945287Z",
     "start_time": "2021-04-17T02:53:36.936852Z"
    }
   },
   "outputs": [
    {
     "data": {
      "text/plain": [
       "(1, 5)"
      ]
     },
     "execution_count": 22,
     "metadata": {},
     "output_type": "execute_result"
    }
   ],
   "source": [
    "a, b  # a=1,b=5 只不过这样输出的是元组"
   ]
  },
  {
   "cell_type": "code",
   "execution_count": 23,
   "id": "ddeefd0c",
   "metadata": {
    "ExecuteTime": {
     "end_time": "2021-04-17T02:53:45.793919Z",
     "start_time": "2021-04-17T02:53:45.784289Z"
    }
   },
   "outputs": [
    {
     "data": {
      "text/plain": [
       "[2, 3, 4]"
      ]
     },
     "execution_count": 23,
     "metadata": {},
     "output_type": "execute_result"
    }
   ],
   "source": [
    "rest  # 列表"
   ]
  },
  {
   "cell_type": "code",
   "execution_count": null,
   "id": "96233cb3",
   "metadata": {},
   "outputs": [],
   "source": []
  },
  {
   "cell_type": "code",
   "execution_count": 26,
   "id": "383dd6e7",
   "metadata": {
    "ExecuteTime": {
     "end_time": "2021-04-17T08:41:52.029956Z",
     "start_time": "2021-04-17T08:41:52.015201Z"
    }
   },
   "outputs": [
    {
     "data": {
      "text/plain": [
       "range(0, 10)"
      ]
     },
     "execution_count": 26,
     "metadata": {},
     "output_type": "execute_result"
    }
   ],
   "source": [
    "gen = range(10)\n",
    "gen"
   ]
  },
  {
   "cell_type": "markdown",
   "id": "007e218e",
   "metadata": {},
   "source": [
    "**列表的pop()和remove()**"
   ]
  },
  {
   "cell_type": "code",
   "execution_count": 27,
   "id": "c1b81759",
   "metadata": {
    "ExecuteTime": {
     "end_time": "2021-04-17T08:47:28.233258Z",
     "start_time": "2021-04-17T08:47:28.227312Z"
    }
   },
   "outputs": [],
   "source": [
    "b_list = ['foo', 'red', 'baz', 'dwarf', 'foooo', 'peekaboo']"
   ]
  },
  {
   "cell_type": "code",
   "execution_count": 28,
   "id": "b8003677",
   "metadata": {
    "ExecuteTime": {
     "end_time": "2021-04-17T08:47:43.160907Z",
     "start_time": "2021-04-17T08:47:43.153500Z"
    }
   },
   "outputs": [
    {
     "data": {
      "text/plain": [
       "['foo', 'red', 'dwarf', 'foooo', 'peekaboo']"
      ]
     },
     "execution_count": 28,
     "metadata": {},
     "output_type": "execute_result"
    }
   ],
   "source": [
    "b_list.pop(2)\n",
    "b_list"
   ]
  },
  {
   "cell_type": "code",
   "execution_count": 29,
   "id": "756bc97f",
   "metadata": {
    "ExecuteTime": {
     "end_time": "2021-04-17T08:48:09.081083Z",
     "start_time": "2021-04-17T08:48:09.072334Z"
    }
   },
   "outputs": [
    {
     "data": {
      "text/plain": [
       "['foo', 'red', 'dwarf', 'peekaboo']"
      ]
     },
     "execution_count": 29,
     "metadata": {},
     "output_type": "execute_result"
    }
   ],
   "source": [
    "b_list.remove('foooo')\n",
    "b_list"
   ]
  },
  {
   "cell_type": "code",
   "execution_count": null,
   "id": "6533b808",
   "metadata": {},
   "outputs": [],
   "source": []
  },
  {
   "cell_type": "markdown",
   "id": "246b8c89",
   "metadata": {},
   "source": [
    "**sort()根据key来排序**"
   ]
  },
  {
   "cell_type": "code",
   "execution_count": 33,
   "id": "243cc156",
   "metadata": {
    "ExecuteTime": {
     "end_time": "2021-04-17T09:04:16.974103Z",
     "start_time": "2021-04-17T09:04:16.966575Z"
    }
   },
   "outputs": [
    {
     "data": {
      "text/plain": [
       "['He', 'saw', 'six', 'small', 'foxes']"
      ]
     },
     "execution_count": 33,
     "metadata": {},
     "output_type": "execute_result"
    }
   ],
   "source": [
    "b = ['saw', 'small', 'He', 'foxes', 'six']\n",
    "b.sort(key=len)  # 根据字符长度排序。 可试着加reverse=True参数\n",
    "b"
   ]
  },
  {
   "cell_type": "code",
   "execution_count": null,
   "id": "3aa24c33",
   "metadata": {},
   "outputs": [],
   "source": []
  },
  {
   "cell_type": "code",
   "execution_count": null,
   "id": "4f63d140",
   "metadata": {},
   "outputs": [],
   "source": []
  },
  {
   "cell_type": "code",
   "execution_count": null,
   "id": "c3b6ab34",
   "metadata": {},
   "outputs": [],
   "source": []
  },
  {
   "cell_type": "code",
   "execution_count": null,
   "id": "f7375cfe",
   "metadata": {},
   "outputs": [],
   "source": []
  },
  {
   "cell_type": "code",
   "execution_count": null,
   "id": "6c8e4d51",
   "metadata": {},
   "outputs": [],
   "source": []
  },
  {
   "cell_type": "code",
   "execution_count": null,
   "id": "521ea03b",
   "metadata": {},
   "outputs": [],
   "source": []
  }
 ],
 "metadata": {
  "kernelspec": {
   "display_name": "Python 3",
   "language": "python",
   "name": "python3"
  },
  "language_info": {
   "codemirror_mode": {
    "name": "ipython",
    "version": 3
   },
   "file_extension": ".py",
   "mimetype": "text/x-python",
   "name": "python",
   "nbconvert_exporter": "python",
   "pygments_lexer": "ipython3",
   "version": "3.6.13"
  },
  "toc": {
   "base_numbering": 1,
   "nav_menu": {},
   "number_sections": true,
   "sideBar": true,
   "skip_h1_title": false,
   "title_cell": "Table of Contents",
   "title_sidebar": "Contents",
   "toc_cell": false,
   "toc_position": {},
   "toc_section_display": true,
   "toc_window_display": false
  },
  "varInspector": {
   "cols": {
    "lenName": 16,
    "lenType": 16,
    "lenVar": 40
   },
   "kernels_config": {
    "python": {
     "delete_cmd_postfix": "",
     "delete_cmd_prefix": "del ",
     "library": "var_list.py",
     "varRefreshCmd": "print(var_dic_list())"
    },
    "r": {
     "delete_cmd_postfix": ") ",
     "delete_cmd_prefix": "rm(",
     "library": "var_list.r",
     "varRefreshCmd": "cat(var_dic_list()) "
    }
   },
   "types_to_exclude": [
    "module",
    "function",
    "builtin_function_or_method",
    "instance",
    "_Feature"
   ],
   "window_display": false
  }
 },
 "nbformat": 4,
 "nbformat_minor": 5
}
