{
 "cells": [
  {
   "cell_type": "code",
   "execution_count": 5,
   "id": "be0ed8c5",
   "metadata": {
    "ExecuteTime": {
     "end_time": "2021-04-17T02:22:42.754369Z",
     "start_time": "2021-04-17T02:22:42.744847Z"
    }
   },
   "outputs": [
    {
     "data": {
      "text/plain": [
       "(3, 4, 5)"
      ]
     },
     "execution_count": 5,
     "metadata": {},
     "output_type": "execute_result"
    }
   ],
   "source": [
    "tuple = 3, 4, 5\n",
    "tuple"
   ]
  },
  {
   "cell_type": "code",
   "execution_count": 4,
   "id": "01cb98f5",
   "metadata": {
    "ExecuteTime": {
     "end_time": "2021-04-17T02:22:38.665532Z",
     "start_time": "2021-04-17T02:22:38.650029Z"
    }
   },
   "outputs": [
    {
     "data": {
      "text/plain": [
       "(1, 2, 3)"
      ]
     },
     "execution_count": 4,
     "metadata": {},
     "output_type": "execute_result"
    }
   ],
   "source": [
    "tuple_2 = (1, 2, 3)\n",
    "tuple_2"
   ]
  },
  {
   "cell_type": "markdown",
   "id": "04e645fd",
   "metadata": {},
   "source": [
    "**拆包，交换变量值**"
   ]
  },
  {
   "cell_type": "code",
   "execution_count": 7,
   "id": "5e182010",
   "metadata": {
    "ExecuteTime": {
     "end_time": "2021-04-17T02:32:31.503284Z",
     "start_time": "2021-04-17T02:32:31.497306Z"
    }
   },
   "outputs": [],
   "source": [
    "a,b =1,2"
   ]
  },
  {
   "cell_type": "code",
   "execution_count": 8,
   "id": "e2072356",
   "metadata": {
    "ExecuteTime": {
     "end_time": "2021-04-17T02:32:33.084789Z",
     "start_time": "2021-04-17T02:32:33.074217Z"
    }
   },
   "outputs": [
    {
     "data": {
      "text/plain": [
       "1"
      ]
     },
     "execution_count": 8,
     "metadata": {},
     "output_type": "execute_result"
    }
   ],
   "source": [
    "a"
   ]
  },
  {
   "cell_type": "code",
   "execution_count": 9,
   "id": "2e4ddbdd",
   "metadata": {
    "ExecuteTime": {
     "end_time": "2021-04-17T02:32:37.152711Z",
     "start_time": "2021-04-17T02:32:37.139324Z"
    }
   },
   "outputs": [
    {
     "data": {
      "text/plain": [
       "2"
      ]
     },
     "execution_count": 9,
     "metadata": {},
     "output_type": "execute_result"
    }
   ],
   "source": [
    "b"
   ]
  },
  {
   "cell_type": "code",
   "execution_count": 10,
   "id": "3c1682ed",
   "metadata": {
    "ExecuteTime": {
     "end_time": "2021-04-17T02:32:57.859645Z",
     "start_time": "2021-04-17T02:32:57.854180Z"
    }
   },
   "outputs": [],
   "source": [
    "a,b = b, a"
   ]
  },
  {
   "cell_type": "code",
   "execution_count": 11,
   "id": "844b45b9",
   "metadata": {
    "ExecuteTime": {
     "end_time": "2021-04-17T02:33:09.681609Z",
     "start_time": "2021-04-17T02:33:09.673092Z"
    }
   },
   "outputs": [
    {
     "data": {
      "text/plain": [
       "2"
      ]
     },
     "execution_count": 11,
     "metadata": {},
     "output_type": "execute_result"
    }
   ],
   "source": [
    "a"
   ]
  },
  {
   "cell_type": "code",
   "execution_count": 12,
   "id": "2cbc6630",
   "metadata": {
    "ExecuteTime": {
     "end_time": "2021-04-17T02:33:21.355174Z",
     "start_time": "2021-04-17T02:33:21.344037Z"
    }
   },
   "outputs": [
    {
     "data": {
      "text/plain": [
       "1"
      ]
     },
     "execution_count": 12,
     "metadata": {},
     "output_type": "execute_result"
    }
   ],
   "source": [
    "b"
   ]
  },
  {
   "cell_type": "markdown",
   "id": "f4bd63e9",
   "metadata": {},
   "source": [
    "**利用拆包遍历元组或列表组成的序列**"
   ]
  },
  {
   "cell_type": "code",
   "execution_count": 13,
   "id": "75b267a5",
   "metadata": {
    "ExecuteTime": {
     "end_time": "2021-04-17T02:42:27.761692Z",
     "start_time": "2021-04-17T02:42:27.755030Z"
    }
   },
   "outputs": [
    {
     "name": "stdout",
     "output_type": "stream",
     "text": [
      "(1, 2, 3)\n",
      "(4, 5, 6)\n",
      "(7, 8, 9)\n"
     ]
    }
   ],
   "source": [
    "seq = [(1, 2, 3), (4, 5, 6), (7, 8, 9)]\n",
    "for a in seq:\n",
    "    print(a)"
   ]
  },
  {
   "cell_type": "code",
   "execution_count": 17,
   "id": "cbde8847",
   "metadata": {
    "ExecuteTime": {
     "end_time": "2021-04-17T02:48:54.418054Z",
     "start_time": "2021-04-17T02:48:54.410643Z"
    }
   },
   "outputs": [
    {
     "name": "stdout",
     "output_type": "stream",
     "text": [
      "a=1 b=2 c=3\n",
      "a=4 b=5 c=6\n",
      "a=7 b=8 c=9\n"
     ]
    }
   ],
   "source": [
    "seq = [(1, 2, 3), (4, 5, 6), (7, 8, 9)]\n",
    "for a, b, c in seq:\n",
    "    print('a={0} b={1} c={2}'.format(a, b, c))"
   ]
  },
  {
   "cell_type": "markdown",
   "id": "f7bff672",
   "metadata": {},
   "source": [
    "***rest或 *_**"
   ]
  },
  {
   "cell_type": "code",
   "execution_count": 18,
   "id": "3d7ae1bd",
   "metadata": {
    "ExecuteTime": {
     "end_time": "2021-04-17T02:52:37.560135Z",
     "start_time": "2021-04-17T02:52:37.550900Z"
    }
   },
   "outputs": [
    {
     "data": {
      "text/plain": [
       "(1, 2, 3, 4, 5)"
      ]
     },
     "execution_count": 18,
     "metadata": {},
     "output_type": "execute_result"
    }
   ],
   "source": [
    "values_tup = 1, 2, 3, 4, 5\n",
    "values_tup"
   ]
  },
  {
   "cell_type": "code",
   "execution_count": 20,
   "id": "3a61fd06",
   "metadata": {
    "ExecuteTime": {
     "end_time": "2021-04-17T02:53:28.993361Z",
     "start_time": "2021-04-17T02:53:28.988676Z"
    }
   },
   "outputs": [],
   "source": [
    "a, *rest, b = values_tup"
   ]
  },
  {
   "cell_type": "code",
   "execution_count": 22,
   "id": "6d8c57fd",
   "metadata": {
    "ExecuteTime": {
     "end_time": "2021-04-17T02:53:36.945287Z",
     "start_time": "2021-04-17T02:53:36.936852Z"
    }
   },
   "outputs": [
    {
     "data": {
      "text/plain": [
       "(1, 5)"
      ]
     },
     "execution_count": 22,
     "metadata": {},
     "output_type": "execute_result"
    }
   ],
   "source": [
    "a, b  # a=1,b=5 只不过这样输出的是元组"
   ]
  },
  {
   "cell_type": "code",
   "execution_count": 23,
   "id": "e5959882",
   "metadata": {
    "ExecuteTime": {
     "end_time": "2021-04-17T02:53:45.793919Z",
     "start_time": "2021-04-17T02:53:45.784289Z"
    }
   },
   "outputs": [
    {
     "data": {
      "text/plain": [
       "[2, 3, 4]"
      ]
     },
     "execution_count": 23,
     "metadata": {},
     "output_type": "execute_result"
    }
   ],
   "source": [
    "rest  # 列表"
   ]
  },
  {
   "cell_type": "code",
   "execution_count": null,
   "id": "318d2102",
   "metadata": {},
   "outputs": [],
   "source": []
  },
  {
   "cell_type": "code",
   "execution_count": 26,
   "id": "cd17d200",
   "metadata": {
    "ExecuteTime": {
     "end_time": "2021-04-17T08:41:52.029956Z",
     "start_time": "2021-04-17T08:41:52.015201Z"
    }
   },
   "outputs": [
    {
     "data": {
      "text/plain": [
       "range(0, 10)"
      ]
     },
     "execution_count": 26,
     "metadata": {},
     "output_type": "execute_result"
    }
   ],
   "source": [
    "gen = range(10)\n",
    "gen"
   ]
  },
  {
   "cell_type": "markdown",
   "id": "66f116ab",
   "metadata": {},
   "source": [
    "**列表的pop()和remove()**"
   ]
  },
  {
   "cell_type": "code",
   "execution_count": 27,
   "id": "6dfb5d16",
   "metadata": {
    "ExecuteTime": {
     "end_time": "2021-04-17T08:47:28.233258Z",
     "start_time": "2021-04-17T08:47:28.227312Z"
    }
   },
   "outputs": [],
   "source": [
    "b_list = ['foo', 'red', 'baz', 'dwarf', 'foooo', 'peekaboo']"
   ]
  },
  {
   "cell_type": "code",
   "execution_count": 28,
   "id": "28a183c8",
   "metadata": {
    "ExecuteTime": {
     "end_time": "2021-04-17T08:47:43.160907Z",
     "start_time": "2021-04-17T08:47:43.153500Z"
    }
   },
   "outputs": [
    {
     "data": {
      "text/plain": [
       "['foo', 'red', 'dwarf', 'foooo', 'peekaboo']"
      ]
     },
     "execution_count": 28,
     "metadata": {},
     "output_type": "execute_result"
    }
   ],
   "source": [
    "b_list.pop(2)\n",
    "b_list"
   ]
  },
  {
   "cell_type": "code",
   "execution_count": 29,
   "id": "cf7833b6",
   "metadata": {
    "ExecuteTime": {
     "end_time": "2021-04-17T08:48:09.081083Z",
     "start_time": "2021-04-17T08:48:09.072334Z"
    }
   },
   "outputs": [
    {
     "data": {
      "text/plain": [
       "['foo', 'red', 'dwarf', 'peekaboo']"
      ]
     },
     "execution_count": 29,
     "metadata": {},
     "output_type": "execute_result"
    }
   ],
   "source": [
    "b_list.remove('foooo')\n",
    "b_list"
   ]
  },
  {
   "cell_type": "code",
   "execution_count": null,
   "id": "d966be72",
   "metadata": {},
   "outputs": [],
   "source": []
  },
  {
   "cell_type": "markdown",
   "id": "d2a499fd",
   "metadata": {},
   "source": [
    "**sort()根据key来排序**"
   ]
  },
  {
   "cell_type": "code",
   "execution_count": 33,
   "id": "b5a660b2",
   "metadata": {
    "ExecuteTime": {
     "end_time": "2021-04-17T09:04:16.974103Z",
     "start_time": "2021-04-17T09:04:16.966575Z"
    }
   },
   "outputs": [
    {
     "data": {
      "text/plain": [
       "['He', 'saw', 'six', 'small', 'foxes']"
      ]
     },
     "execution_count": 33,
     "metadata": {},
     "output_type": "execute_result"
    }
   ],
   "source": [
    "b = ['saw', 'small', 'He', 'foxes', 'six']\n",
    "b.sort(key=len)  # 根据字符长度排序。 可试着加reverse=True参数\n",
    "b"
   ]
  },
  {
   "cell_type": "markdown",
   "id": "99c533d7",
   "metadata": {},
   "source": [
    "**切片**"
   ]
  },
  {
   "cell_type": "code",
   "execution_count": 45,
   "id": "40526284",
   "metadata": {
    "ExecuteTime": {
     "end_time": "2021-04-19T07:00:39.196708Z",
     "start_time": "2021-04-19T07:00:39.179115Z"
    }
   },
   "outputs": [
    {
     "data": {
      "text/plain": [
       "[7, 2, 3, 6, 3, 5, 6, 0, 1]"
      ]
     },
     "execution_count": 45,
     "metadata": {},
     "output_type": "execute_result"
    }
   ],
   "source": [
    "seq = [7, 2, 3, 7, 5, 6, 0, 1]\n",
    "seq[3:4] = [6, 3]\n",
    "seq"
   ]
  },
  {
   "cell_type": "code",
   "execution_count": 46,
   "id": "f2094a24",
   "metadata": {
    "ExecuteTime": {
     "end_time": "2021-04-19T07:05:10.575573Z",
     "start_time": "2021-04-19T07:05:10.567597Z"
    }
   },
   "outputs": [
    {
     "data": {
      "text/plain": [
       "[1, 0, 6, 5, 7, 3, 2, 7]"
      ]
     },
     "execution_count": 46,
     "metadata": {},
     "output_type": "execute_result"
    }
   ],
   "source": [
    "# 对列表或元组进行翻转\n",
    "seq = [7, 2, 3, 7, 5, 6, 0, 1]\n",
    "seq[::-1]"
   ]
  },
  {
   "cell_type": "markdown",
   "id": "f22b5a93",
   "metadata": {},
   "source": [
    "**enumerate**"
   ]
  },
  {
   "cell_type": "code",
   "execution_count": 49,
   "id": "d37bb010",
   "metadata": {
    "ExecuteTime": {
     "end_time": "2021-04-19T07:24:02.828904Z",
     "start_time": "2021-04-19T07:24:02.820636Z"
    }
   },
   "outputs": [
    {
     "data": {
      "text/plain": [
       "{'foo': 0, 'bar': 1, 'baz': 2}"
      ]
     },
     "execution_count": 49,
     "metadata": {},
     "output_type": "execute_result"
    }
   ],
   "source": [
    "some_list = ['foo', 'bar', 'baz']\n",
    "mapping = {}\n",
    "for i, v in enumerate(some_list):\n",
    "    mapping[v] = i\n",
    "mapping"
   ]
  },
  {
   "cell_type": "markdown",
   "id": "5d3498ee",
   "metadata": {},
   "source": [
    "**enumerate和zip**"
   ]
  },
  {
   "cell_type": "code",
   "execution_count": 53,
   "id": "2b74ec20",
   "metadata": {
    "ExecuteTime": {
     "end_time": "2021-04-19T08:03:34.506779Z",
     "start_time": "2021-04-19T08:03:34.499342Z"
    }
   },
   "outputs": [
    {
     "name": "stdout",
     "output_type": "stream",
     "text": [
      "0:foo,one\n",
      "1:bar,two\n",
      "2:baz,three\n"
     ]
    }
   ],
   "source": [
    "seq1 = ['foo', 'bar', 'baz']\n",
    "seq2 = ['one', 'two', 'three']\n",
    "for i, (a, b) in enumerate(zip(seq1, seq2)):\n",
    "    print(\"{0}:{1},{2}\".format(i, a, b))"
   ]
  },
  {
   "cell_type": "code",
   "execution_count": 54,
   "id": "e23fa759",
   "metadata": {
    "ExecuteTime": {
     "end_time": "2021-04-19T08:09:27.602319Z",
     "start_time": "2021-04-19T08:09:27.595567Z"
    }
   },
   "outputs": [
    {
     "data": {
      "text/plain": [
       "zip"
      ]
     },
     "execution_count": 54,
     "metadata": {},
     "output_type": "execute_result"
    }
   ],
   "source": [
    "type(zip(seq1, seq2))"
   ]
  },
  {
   "cell_type": "markdown",
   "id": "534db7cb",
   "metadata": {},
   "source": [
    "**利用zip进行拆分**"
   ]
  },
  {
   "cell_type": "code",
   "execution_count": 61,
   "id": "14f2449c",
   "metadata": {
    "ExecuteTime": {
     "end_time": "2021-04-19T08:32:11.050489Z",
     "start_time": "2021-04-19T08:32:11.039020Z"
    }
   },
   "outputs": [
    {
     "data": {
      "text/plain": [
       "('Nolan', 'Roger', 'Schilling')"
      ]
     },
     "execution_count": 61,
     "metadata": {},
     "output_type": "execute_result"
    }
   ],
   "source": [
    "pitchers = [('Nolan', 'Ryan'), ('Roger', 'Clemens'), ('Schilling', 'Curt')]\n",
    "\n",
    "first_names, last_names = zip(*pitchers)\n",
    "first_names"
   ]
  },
  {
   "cell_type": "code",
   "execution_count": 62,
   "id": "540f1cea",
   "metadata": {
    "ExecuteTime": {
     "end_time": "2021-04-19T08:32:13.433458Z",
     "start_time": "2021-04-19T08:32:13.425595Z"
    }
   },
   "outputs": [
    {
     "data": {
      "text/plain": [
       "('Ryan', 'Clemens', 'Curt')"
      ]
     },
     "execution_count": 62,
     "metadata": {},
     "output_type": "execute_result"
    }
   ],
   "source": [
    "last_names"
   ]
  },
  {
   "cell_type": "markdown",
   "id": "6110a5db",
   "metadata": {},
   "source": [
    "**从序列生成字典**"
   ]
  },
  {
   "cell_type": "code",
   "execution_count": 66,
   "id": "a874e0a6",
   "metadata": {
    "ExecuteTime": {
     "end_time": "2021-04-19T10:24:00.341002Z",
     "start_time": "2021-04-19T10:24:00.333492Z"
    }
   },
   "outputs": [
    {
     "data": {
      "text/plain": [
       "[(0, 4), (1, 3), (2, 2), (3, 1), (4, 0)]"
      ]
     },
     "execution_count": 66,
     "metadata": {},
     "output_type": "execute_result"
    }
   ],
   "source": [
    "list(zip(range(5),reversed(range(5))))"
   ]
  },
  {
   "cell_type": "code",
   "execution_count": 68,
   "id": "a6a160b4",
   "metadata": {
    "ExecuteTime": {
     "end_time": "2021-04-19T10:29:21.601825Z",
     "start_time": "2021-04-19T10:29:21.594081Z"
    }
   },
   "outputs": [
    {
     "data": {
      "text/plain": [
       "{0: 4, 1: 3, 2: 2, 3: 1, 4: 0}"
      ]
     },
     "execution_count": 68,
     "metadata": {},
     "output_type": "execute_result"
    }
   ],
   "source": [
    "# 字典的本质是2-元组（含有2个元素的元组）的集合\n",
    "# dict可以接受一个2-元组的列表作为参数\n",
    "mapping = dict(zip(range(5), reversed(range(5))))\n",
    "mapping"
   ]
  },
  {
   "cell_type": "code",
   "execution_count": null,
   "id": "947ecedb",
   "metadata": {},
   "outputs": [],
   "source": []
  },
  {
   "cell_type": "code",
   "execution_count": null,
   "id": "953e094c",
   "metadata": {},
   "outputs": [],
   "source": []
  },
  {
   "cell_type": "code",
   "execution_count": null,
   "id": "b0f6b505",
   "metadata": {},
   "outputs": [],
   "source": []
  },
  {
   "cell_type": "code",
   "execution_count": null,
   "id": "87cd5428",
   "metadata": {},
   "outputs": [],
   "source": []
  },
  {
   "cell_type": "code",
   "execution_count": null,
   "id": "9583923e",
   "metadata": {},
   "outputs": [],
   "source": []
  },
  {
   "cell_type": "code",
   "execution_count": null,
   "id": "42c2eba4",
   "metadata": {},
   "outputs": [],
   "source": []
  },
  {
   "cell_type": "code",
   "execution_count": null,
   "id": "96c5de25",
   "metadata": {},
   "outputs": [],
   "source": []
  },
  {
   "cell_type": "code",
   "execution_count": null,
   "id": "a8cdc3be",
   "metadata": {},
   "outputs": [],
   "source": []
  },
  {
   "cell_type": "code",
   "execution_count": null,
   "id": "bfa83fac",
   "metadata": {},
   "outputs": [],
   "source": []
  },
  {
   "cell_type": "code",
   "execution_count": null,
   "id": "be055be5",
   "metadata": {},
   "outputs": [],
   "source": []
  },
  {
   "cell_type": "code",
   "execution_count": null,
   "id": "6ed90af9",
   "metadata": {},
   "outputs": [],
   "source": []
  },
  {
   "cell_type": "code",
   "execution_count": null,
   "id": "081f76f6",
   "metadata": {},
   "outputs": [],
   "source": []
  },
  {
   "cell_type": "code",
   "execution_count": null,
   "id": "c190942e",
   "metadata": {},
   "outputs": [],
   "source": []
  },
  {
   "cell_type": "code",
   "execution_count": null,
   "id": "21d75ccb",
   "metadata": {},
   "outputs": [],
   "source": []
  },
  {
   "cell_type": "code",
   "execution_count": null,
   "id": "0fd39d07",
   "metadata": {},
   "outputs": [],
   "source": []
  }
 ],
 "metadata": {
  "kernelspec": {
   "display_name": "Python 3",
   "language": "python",
   "name": "python3"
  },
  "language_info": {
   "codemirror_mode": {
    "name": "ipython",
    "version": 3
   },
   "file_extension": ".py",
   "mimetype": "text/x-python",
   "name": "python",
   "nbconvert_exporter": "python",
   "pygments_lexer": "ipython3",
   "version": "3.6.13"
  },
  "toc": {
   "base_numbering": 1,
   "nav_menu": {},
   "number_sections": true,
   "sideBar": true,
   "skip_h1_title": false,
   "title_cell": "Table of Contents",
   "title_sidebar": "Contents",
   "toc_cell": false,
   "toc_position": {},
   "toc_section_display": true,
   "toc_window_display": false
  },
  "varInspector": {
   "cols": {
    "lenName": 16,
    "lenType": 16,
    "lenVar": 40
   },
   "kernels_config": {
    "python": {
     "delete_cmd_postfix": "",
     "delete_cmd_prefix": "del ",
     "library": "var_list.py",
     "varRefreshCmd": "print(var_dic_list())"
    },
    "r": {
     "delete_cmd_postfix": ") ",
     "delete_cmd_prefix": "rm(",
     "library": "var_list.r",
     "varRefreshCmd": "cat(var_dic_list()) "
    }
   },
   "types_to_exclude": [
    "module",
    "function",
    "builtin_function_or_method",
    "instance",
    "_Feature"
   ],
   "window_display": false
  }
 },
 "nbformat": 4,
 "nbformat_minor": 5
}
