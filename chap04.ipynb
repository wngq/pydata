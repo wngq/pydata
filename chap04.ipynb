{
 "cells": [
  {
   "cell_type": "markdown",
   "id": "c36307cf",
   "metadata": {},
   "source": [
    "**NumPy处理大量数组的效率更高**"
   ]
  },
  {
   "cell_type": "code",
   "execution_count": 1,
   "id": "4bc016e4",
   "metadata": {
    "ExecuteTime": {
     "end_time": "2021-04-23T04:16:05.305358Z",
     "start_time": "2021-04-23T04:16:05.252043Z"
    }
   },
   "outputs": [],
   "source": [
    "import numpy as np\n",
    "\n",
    "my_arr = np.arange(1000000)\n",
    "my_list = list(range(1000000))"
   ]
  },
  {
   "cell_type": "code",
   "execution_count": 8,
   "id": "8f87ae10",
   "metadata": {
    "ExecuteTime": {
     "end_time": "2021-04-23T04:21:19.466728Z",
     "start_time": "2021-04-23T04:21:19.417830Z"
    }
   },
   "outputs": [
    {
     "name": "stdout",
     "output_type": "stream",
     "text": [
      "CPU times: user 26.3 ms, sys: 16.4 ms, total: 42.7 ms\n",
      "Wall time: 41.9 ms\n"
     ]
    }
   ],
   "source": [
    "%time for _ in range(10): my_arr2 = my_arr * 2"
   ]
  },
  {
   "cell_type": "code",
   "execution_count": 9,
   "id": "5dad2fc9",
   "metadata": {
    "ExecuteTime": {
     "end_time": "2021-04-23T04:21:25.907748Z",
     "start_time": "2021-04-23T04:21:24.940344Z"
    }
   },
   "outputs": [
    {
     "name": "stdout",
     "output_type": "stream",
     "text": [
      "CPU times: user 736 ms, sys: 201 ms, total: 937 ms\n",
      "Wall time: 963 ms\n"
     ]
    }
   ],
   "source": [
    "%time for _ in range(10): my_list2 = [x * 2 for x in my_list]"
   ]
  },
  {
   "cell_type": "markdown",
   "id": "2d93876e",
   "metadata": {},
   "source": [
    "# 多维数组对象 ndarray"
   ]
  },
  {
   "cell_type": "code",
   "execution_count": 19,
   "id": "fc5145cc",
   "metadata": {
    "ExecuteTime": {
     "end_time": "2021-04-23T07:52:25.888867Z",
     "start_time": "2021-04-23T07:52:25.881874Z"
    }
   },
   "outputs": [
    {
     "data": {
      "text/plain": [
       "array([[ 0.54000743,  1.1118009 ,  0.85228074],\n",
       "       [-1.37988643,  2.14382986,  1.22862503]])"
      ]
     },
     "execution_count": 19,
     "metadata": {},
     "output_type": "execute_result"
    }
   ],
   "source": [
    "import numpy as np\n",
    "data = np.random.randn(2, 3)\n",
    "data"
   ]
  },
  {
   "cell_type": "code",
   "execution_count": 20,
   "id": "ee3ce4c0",
   "metadata": {
    "ExecuteTime": {
     "end_time": "2021-04-23T07:52:59.773304Z",
     "start_time": "2021-04-23T07:52:59.764962Z"
    }
   },
   "outputs": [
    {
     "data": {
      "text/plain": [
       "(2, 3)"
      ]
     },
     "execution_count": 20,
     "metadata": {},
     "output_type": "execute_result"
    }
   ],
   "source": [
    "data.shape"
   ]
  },
  {
   "cell_type": "code",
   "execution_count": 21,
   "id": "2fa587d4",
   "metadata": {
    "ExecuteTime": {
     "end_time": "2021-04-23T07:53:22.738240Z",
     "start_time": "2021-04-23T07:53:22.729485Z"
    }
   },
   "outputs": [
    {
     "data": {
      "text/plain": [
       "dtype('float64')"
      ]
     },
     "execution_count": 21,
     "metadata": {},
     "output_type": "execute_result"
    }
   ],
   "source": [
    "data.dtype"
   ]
  },
  {
   "cell_type": "markdown",
   "id": "3f5bbbae",
   "metadata": {},
   "source": [
    "## **arange是Python内建函数range的数组版**"
   ]
  },
  {
   "cell_type": "code",
   "execution_count": 24,
   "id": "ba0422ed",
   "metadata": {
    "ExecuteTime": {
     "end_time": "2021-04-23T08:10:23.082935Z",
     "start_time": "2021-04-23T08:10:23.068606Z"
    }
   },
   "outputs": [
    {
     "data": {
      "text/plain": [
       "range(0, 15)"
      ]
     },
     "execution_count": 24,
     "metadata": {},
     "output_type": "execute_result"
    }
   ],
   "source": [
    "range(15)"
   ]
  },
  {
   "cell_type": "code",
   "execution_count": 26,
   "id": "b2ed7294",
   "metadata": {
    "ExecuteTime": {
     "end_time": "2021-04-23T08:11:51.855601Z",
     "start_time": "2021-04-23T08:11:51.846589Z"
    }
   },
   "outputs": [
    {
     "data": {
      "text/plain": [
       "[0, 1, 2, 3, 4, 5, 6, 7, 8, 9, 10, 11, 12, 13, 14]"
      ]
     },
     "execution_count": 26,
     "metadata": {},
     "output_type": "execute_result"
    }
   ],
   "source": [
    "list(range(15))"
   ]
  },
  {
   "cell_type": "code",
   "execution_count": 25,
   "id": "a9b6ae86",
   "metadata": {
    "ExecuteTime": {
     "end_time": "2021-04-23T08:10:39.851384Z",
     "start_time": "2021-04-23T08:10:39.845842Z"
    }
   },
   "outputs": [
    {
     "data": {
      "text/plain": [
       "array([ 0,  1,  2,  3,  4,  5,  6,  7,  8,  9, 10, 11, 12, 13, 14])"
      ]
     },
     "execution_count": 25,
     "metadata": {},
     "output_type": "execute_result"
    }
   ],
   "source": [
    "np.arange(15)"
   ]
  },
  {
   "cell_type": "markdown",
   "id": "1e970d5b",
   "metadata": {},
   "source": [
    "## **数组的切片是原数组的视图，所以“切片”并不是复制出来的，任何对视图的修改都会反映到原数组上**"
   ]
  },
  {
   "cell_type": "code",
   "execution_count": 2,
   "id": "7e2480aa",
   "metadata": {
    "ExecuteTime": {
     "end_time": "2021-04-23T10:15:44.390754Z",
     "start_time": "2021-04-23T10:15:44.374995Z"
    }
   },
   "outputs": [
    {
     "data": {
      "text/plain": [
       "array([0, 1, 2, 3, 4, 5, 6, 7, 8, 9])"
      ]
     },
     "execution_count": 2,
     "metadata": {},
     "output_type": "execute_result"
    }
   ],
   "source": [
    "arr = np.arange(10)\n",
    "arr"
   ]
  },
  {
   "cell_type": "code",
   "execution_count": 5,
   "id": "c9123392",
   "metadata": {
    "ExecuteTime": {
     "end_time": "2021-04-23T10:15:56.397971Z",
     "start_time": "2021-04-23T10:15:56.390808Z"
    }
   },
   "outputs": [
    {
     "data": {
      "text/plain": [
       "array([4, 5, 6])"
      ]
     },
     "execution_count": 5,
     "metadata": {},
     "output_type": "execute_result"
    }
   ],
   "source": [
    "arr_slice = arr[4:7]\n",
    "arr_slice"
   ]
  },
  {
   "cell_type": "code",
   "execution_count": 8,
   "id": "de9d44fb",
   "metadata": {
    "ExecuteTime": {
     "end_time": "2021-04-23T10:16:50.528523Z",
     "start_time": "2021-04-23T10:16:50.524611Z"
    }
   },
   "outputs": [],
   "source": [
    "arr_slice[1] = 123"
   ]
  },
  {
   "cell_type": "code",
   "execution_count": 14,
   "id": "a0cce049",
   "metadata": {
    "ExecuteTime": {
     "end_time": "2021-04-23T10:21:11.291156Z",
     "start_time": "2021-04-23T10:21:11.283841Z"
    }
   },
   "outputs": [
    {
     "data": {
      "text/plain": [
       "array([  4, 123,   6])"
      ]
     },
     "execution_count": 14,
     "metadata": {},
     "output_type": "execute_result"
    }
   ],
   "source": [
    "arr_slice"
   ]
  },
  {
   "cell_type": "code",
   "execution_count": 9,
   "id": "3c0c18aa",
   "metadata": {
    "ExecuteTime": {
     "end_time": "2021-04-23T10:17:06.631088Z",
     "start_time": "2021-04-23T10:17:06.624162Z"
    }
   },
   "outputs": [
    {
     "data": {
      "text/plain": [
       "array([  0,   1,   2,   3,   4, 123,   6,   7,   8,   9])"
      ]
     },
     "execution_count": 9,
     "metadata": {},
     "output_type": "execute_result"
    }
   ],
   "source": [
    "arr"
   ]
  },
  {
   "cell_type": "markdown",
   "id": "f3508949",
   "metadata": {},
   "source": [
    "**如果想要一份数组切片的拷贝而不是一份视图的话，就必须显式地复制这个数组**"
   ]
  },
  {
   "cell_type": "code",
   "execution_count": 10,
   "id": "ec389826",
   "metadata": {
    "ExecuteTime": {
     "end_time": "2021-04-23T10:19:03.462709Z",
     "start_time": "2021-04-23T10:19:03.454280Z"
    }
   },
   "outputs": [
    {
     "data": {
      "text/plain": [
       "array([  4, 123,   6])"
      ]
     },
     "execution_count": 10,
     "metadata": {},
     "output_type": "execute_result"
    }
   ],
   "source": [
    "arr_copy = arr[4:7].copy()\n",
    "arr_copy"
   ]
  },
  {
   "cell_type": "code",
   "execution_count": 11,
   "id": "825eafeb",
   "metadata": {
    "ExecuteTime": {
     "end_time": "2021-04-23T10:19:25.524778Z",
     "start_time": "2021-04-23T10:19:25.520182Z"
    }
   },
   "outputs": [],
   "source": [
    "arr_copy[1] = 987"
   ]
  },
  {
   "cell_type": "code",
   "execution_count": 13,
   "id": "09b0c455",
   "metadata": {
    "ExecuteTime": {
     "end_time": "2021-04-23T10:19:48.597506Z",
     "start_time": "2021-04-23T10:19:48.589252Z"
    }
   },
   "outputs": [
    {
     "data": {
      "text/plain": [
       "array([  4, 987,   6])"
      ]
     },
     "execution_count": 13,
     "metadata": {},
     "output_type": "execute_result"
    }
   ],
   "source": [
    "arr_copy"
   ]
  },
  {
   "cell_type": "code",
   "execution_count": 12,
   "id": "1a8fd97b",
   "metadata": {
    "ExecuteTime": {
     "end_time": "2021-04-23T10:19:36.781200Z",
     "start_time": "2021-04-23T10:19:36.772643Z"
    }
   },
   "outputs": [
    {
     "data": {
      "text/plain": [
       "array([  0,   1,   2,   3,   4, 123,   6,   7,   8,   9])"
      ]
     },
     "execution_count": 12,
     "metadata": {},
     "output_type": "execute_result"
    }
   ],
   "source": [
    "arr"
   ]
  },
  {
   "cell_type": "markdown",
   "id": "c652555b",
   "metadata": {},
   "source": [
    "## 数组的切片和索引"
   ]
  },
  {
   "cell_type": "code",
   "execution_count": 1,
   "id": "464c123e",
   "metadata": {
    "ExecuteTime": {
     "end_time": "2021-04-24T07:11:16.321971Z",
     "start_time": "2021-04-24T07:11:16.318093Z"
    }
   },
   "outputs": [],
   "source": [
    "arr2d = np.arange(1, 10).reshape((3, 3))"
   ]
  },
  {
   "cell_type": "code",
   "execution_count": 2,
   "id": "34243edc",
   "metadata": {
    "ExecuteTime": {
     "end_time": "2021-04-24T07:11:19.344207Z",
     "start_time": "2021-04-24T07:11:19.330095Z"
    }
   },
   "outputs": [
    {
     "data": {
      "text/plain": [
       "array([[1, 2, 3],\n",
       "       [4, 5, 6],\n",
       "       [7, 8, 9]])"
      ]
     },
     "execution_count": 2,
     "metadata": {},
     "output_type": "execute_result"
    }
   ],
   "source": [
    "arr2d"
   ]
  },
  {
   "cell_type": "markdown",
   "id": "4fecd84d",
   "metadata": {},
   "source": [
    "**如果索引和切片混用，就可以得到低维度的切片**"
   ]
  },
  {
   "cell_type": "code",
   "execution_count": 3,
   "id": "5aa1da1f",
   "metadata": {
    "ExecuteTime": {
     "end_time": "2021-04-24T07:11:21.758012Z",
     "start_time": "2021-04-24T07:11:21.750274Z"
    }
   },
   "outputs": [
    {
     "data": {
      "text/plain": [
       "array([3, 6])"
      ]
     },
     "execution_count": 3,
     "metadata": {},
     "output_type": "execute_result"
    }
   ],
   "source": [
    "# 索引和切片混用\n",
    "arr2d[:2,2]"
   ]
  },
  {
   "cell_type": "code",
   "execution_count": 4,
   "id": "a2c39cc1",
   "metadata": {
    "ExecuteTime": {
     "end_time": "2021-04-24T07:11:23.792557Z",
     "start_time": "2021-04-24T07:11:23.783668Z"
    }
   },
   "outputs": [
    {
     "data": {
      "text/plain": [
       "(2,)"
      ]
     },
     "execution_count": 4,
     "metadata": {},
     "output_type": "execute_result"
    }
   ],
   "source": [
    "arr2d[:2,2].shape"
   ]
  },
  {
   "cell_type": "code",
   "execution_count": 5,
   "id": "aa687016",
   "metadata": {
    "ExecuteTime": {
     "end_time": "2021-04-24T07:11:26.093426Z",
     "start_time": "2021-04-24T07:11:26.085399Z"
    }
   },
   "outputs": [
    {
     "data": {
      "text/plain": [
       "array([[3],\n",
       "       [6]])"
      ]
     },
     "execution_count": 5,
     "metadata": {},
     "output_type": "execute_result"
    }
   ],
   "source": [
    "# 只切片\n",
    "arr2d[:2,2:3]"
   ]
  },
  {
   "cell_type": "code",
   "execution_count": 6,
   "id": "a3753fad",
   "metadata": {
    "ExecuteTime": {
     "end_time": "2021-04-24T07:11:28.411149Z",
     "start_time": "2021-04-24T07:11:28.404656Z"
    }
   },
   "outputs": [
    {
     "data": {
      "text/plain": [
       "(2, 1)"
      ]
     },
     "execution_count": 6,
     "metadata": {},
     "output_type": "execute_result"
    }
   ],
   "source": [
    "arr2d[:2,2:3].shape"
   ]
  },
  {
   "cell_type": "markdown",
   "id": "eadac45d",
   "metadata": {},
   "source": [
    "## 神奇索引\n",
    "- 神奇索引的结果总是一维的\n",
    "- 神奇索引和切片不同，它总是将数据复制到一个新的数组中\n"
   ]
  },
  {
   "cell_type": "code",
   "execution_count": 7,
   "id": "a9e698d9",
   "metadata": {
    "ExecuteTime": {
     "end_time": "2021-04-24T07:23:18.917396Z",
     "start_time": "2021-04-24T07:23:18.908949Z"
    }
   },
   "outputs": [
    {
     "data": {
      "text/plain": [
       "array([[ 0,  1,  2,  3],\n",
       "       [ 4,  5,  6,  7],\n",
       "       [ 8,  9, 10, 11],\n",
       "       [12, 13, 14, 15],\n",
       "       [16, 17, 18, 19],\n",
       "       [20, 21, 22, 23],\n",
       "       [24, 25, 26, 27],\n",
       "       [28, 29, 30, 31]])"
      ]
     },
     "execution_count": 7,
     "metadata": {},
     "output_type": "execute_result"
    }
   ],
   "source": [
    "arr = np.arange(32).reshape((8, 4))\n",
    "arr"
   ]
  },
  {
   "cell_type": "code",
   "execution_count": 15,
   "id": "c6b837f8",
   "metadata": {
    "ExecuteTime": {
     "end_time": "2021-04-25T01:54:19.119287Z",
     "start_time": "2021-04-25T01:54:19.107473Z"
    }
   },
   "outputs": [
    {
     "data": {
      "text/plain": [
       "array([ 4, 23, 29, 10])"
      ]
     },
     "execution_count": 15,
     "metadata": {},
     "output_type": "execute_result"
    }
   ],
   "source": [
    "# 神奇索引\n",
    "arr[[1, 5, 7, 2], [0, 3, 1, 2]]"
   ]
  },
  {
   "cell_type": "code",
   "execution_count": 12,
   "id": "6f0a3c3a",
   "metadata": {
    "ExecuteTime": {
     "end_time": "2021-04-24T07:25:23.667653Z",
     "start_time": "2021-04-24T07:25:23.656983Z"
    }
   },
   "outputs": [
    {
     "data": {
      "text/plain": [
       "array([[ 4,  5,  6,  7],\n",
       "       [20, 21, 22, 23],\n",
       "       [28, 29, 30, 31],\n",
       "       [ 8,  9, 10, 11]])"
      ]
     },
     "execution_count": 12,
     "metadata": {},
     "output_type": "execute_result"
    }
   ],
   "source": [
    "arr[[1, 5, 7, 2]]"
   ]
  },
  {
   "cell_type": "code",
   "execution_count": 14,
   "id": "6d20f400",
   "metadata": {
    "ExecuteTime": {
     "end_time": "2021-04-25T01:50:10.528307Z",
     "start_time": "2021-04-25T01:50:10.514452Z"
    }
   },
   "outputs": [
    {
     "data": {
      "text/plain": [
       "array([[ 4,  7,  5,  6],\n",
       "       [20, 23, 21, 22],\n",
       "       [28, 31, 29, 30],\n",
       "       [ 8, 11,  9, 10]])"
      ]
     },
     "execution_count": 14,
     "metadata": {},
     "output_type": "execute_result"
    }
   ],
   "source": [
    "# 这个不是神奇索引，这是选择矩阵的行列子集\n",
    "arr[[1, 5, 7, 2]][:, [0, 3, 1, 2]]"
   ]
  },
  {
   "cell_type": "markdown",
   "id": "60172ca6",
   "metadata": {},
   "source": [
    "## 数组的转置和换轴\n",
    "- T属性，transpose()和swapaxes()返回的都是原数据的视图，而没有对数据进行复制。修改视图会修改原数据"
   ]
  },
  {
   "cell_type": "markdown",
   "id": "ae115311",
   "metadata": {},
   "source": [
    "### T属性"
   ]
  },
  {
   "cell_type": "code",
   "execution_count": 17,
   "id": "a03f4a0b",
   "metadata": {
    "ExecuteTime": {
     "end_time": "2021-04-25T02:32:49.385016Z",
     "start_time": "2021-04-25T02:32:49.376383Z"
    }
   },
   "outputs": [
    {
     "data": {
      "text/plain": [
       "array([[ 0,  1,  2,  3,  4],\n",
       "       [ 5,  6,  7,  8,  9],\n",
       "       [10, 11, 12, 13, 14]])"
      ]
     },
     "execution_count": 17,
     "metadata": {},
     "output_type": "execute_result"
    }
   ],
   "source": [
    "arr = np.arange(15).reshape((3,5))\n",
    "arr"
   ]
  },
  {
   "cell_type": "code",
   "execution_count": 18,
   "id": "158cd640",
   "metadata": {
    "ExecuteTime": {
     "end_time": "2021-04-25T02:33:00.796926Z",
     "start_time": "2021-04-25T02:33:00.788997Z"
    }
   },
   "outputs": [
    {
     "data": {
      "text/plain": [
       "array([[ 0,  5, 10],\n",
       "       [ 1,  6, 11],\n",
       "       [ 2,  7, 12],\n",
       "       [ 3,  8, 13],\n",
       "       [ 4,  9, 14]])"
      ]
     },
     "execution_count": 18,
     "metadata": {},
     "output_type": "execute_result"
    }
   ],
   "source": [
    "arr.T"
   ]
  },
  {
   "cell_type": "code",
   "execution_count": 27,
   "id": "c1e3992e",
   "metadata": {
    "ExecuteTime": {
     "end_time": "2021-04-25T02:43:31.048585Z",
     "start_time": "2021-04-25T02:43:31.036132Z"
    }
   },
   "outputs": [],
   "source": [
    "arr.T[0, 1] = 50"
   ]
  },
  {
   "cell_type": "code",
   "execution_count": 28,
   "id": "733db7bd",
   "metadata": {
    "ExecuteTime": {
     "end_time": "2021-04-25T02:43:33.773682Z",
     "start_time": "2021-04-25T02:43:33.766154Z"
    }
   },
   "outputs": [
    {
     "data": {
      "text/plain": [
       "array([[ 0,  1,  2,  3,  4],\n",
       "       [50,  6,  7,  8,  9],\n",
       "       [10, 11, 12, 13, 14]])"
      ]
     },
     "execution_count": 28,
     "metadata": {},
     "output_type": "execute_result"
    }
   ],
   "source": [
    "arr"
   ]
  },
  {
   "cell_type": "markdown",
   "id": "179b1751",
   "metadata": {},
   "source": [
    "### transpose()方法"
   ]
  },
  {
   "cell_type": "code",
   "execution_count": 31,
   "id": "aecc1b14",
   "metadata": {
    "ExecuteTime": {
     "end_time": "2021-04-25T02:46:57.327148Z",
     "start_time": "2021-04-25T02:46:57.318062Z"
    }
   },
   "outputs": [
    {
     "data": {
      "text/plain": [
       "array([[ 0,  1,  2,  3,  4],\n",
       "       [ 5,  6,  7,  8,  9],\n",
       "       [10, 11, 12, 13, 14]])"
      ]
     },
     "execution_count": 31,
     "metadata": {},
     "output_type": "execute_result"
    }
   ],
   "source": [
    "arr = np.arange(15).reshape((3,5))\n",
    "arr"
   ]
  },
  {
   "cell_type": "code",
   "execution_count": 32,
   "id": "b030a68d",
   "metadata": {
    "ExecuteTime": {
     "end_time": "2021-04-25T02:47:25.526165Z",
     "start_time": "2021-04-25T02:47:25.518978Z"
    }
   },
   "outputs": [
    {
     "data": {
      "text/plain": [
       "array([[ 0,  5, 10],\n",
       "       [ 1,  6, 11],\n",
       "       [ 2,  7, 12],\n",
       "       [ 3,  8, 13],\n",
       "       [ 4,  9, 14]])"
      ]
     },
     "execution_count": 32,
     "metadata": {},
     "output_type": "execute_result"
    }
   ],
   "source": [
    "arr.transpose(1,0)"
   ]
  },
  {
   "cell_type": "code",
   "execution_count": 33,
   "id": "58df9cb3",
   "metadata": {
    "ExecuteTime": {
     "end_time": "2021-04-25T02:47:43.518012Z",
     "start_time": "2021-04-25T02:47:43.511001Z"
    }
   },
   "outputs": [],
   "source": [
    "arr.transpose(1, 0)[0, 2] = 100"
   ]
  },
  {
   "cell_type": "code",
   "execution_count": 34,
   "id": "8ca8b1a5",
   "metadata": {
    "ExecuteTime": {
     "end_time": "2021-04-25T02:47:50.927864Z",
     "start_time": "2021-04-25T02:47:50.920575Z"
    }
   },
   "outputs": [
    {
     "data": {
      "text/plain": [
       "array([[  0,   1,   2,   3,   4],\n",
       "       [  5,   6,   7,   8,   9],\n",
       "       [100,  11,  12,  13,  14]])"
      ]
     },
     "execution_count": 34,
     "metadata": {},
     "output_type": "execute_result"
    }
   ],
   "source": [
    "arr"
   ]
  },
  {
   "cell_type": "markdown",
   "id": "5ce3c1e5",
   "metadata": {},
   "source": [
    "### swapaxes()方法"
   ]
  },
  {
   "cell_type": "code",
   "execution_count": 35,
   "id": "1ba6f9c1",
   "metadata": {
    "ExecuteTime": {
     "end_time": "2021-04-25T02:48:19.938784Z",
     "start_time": "2021-04-25T02:48:19.930739Z"
    }
   },
   "outputs": [
    {
     "data": {
      "text/plain": [
       "array([[ 0,  1,  2,  3,  4],\n",
       "       [ 5,  6,  7,  8,  9],\n",
       "       [10, 11, 12, 13, 14]])"
      ]
     },
     "execution_count": 35,
     "metadata": {},
     "output_type": "execute_result"
    }
   ],
   "source": [
    "arr = np.arange(15).reshape((3, 5))\n",
    "arr"
   ]
  },
  {
   "cell_type": "code",
   "execution_count": 36,
   "id": "5e7a797c",
   "metadata": {
    "ExecuteTime": {
     "end_time": "2021-04-25T02:48:31.227242Z",
     "start_time": "2021-04-25T02:48:31.209530Z"
    }
   },
   "outputs": [
    {
     "data": {
      "text/plain": [
       "array([[ 0,  5, 10],\n",
       "       [ 1,  6, 11],\n",
       "       [ 2,  7, 12],\n",
       "       [ 3,  8, 13],\n",
       "       [ 4,  9, 14]])"
      ]
     },
     "execution_count": 36,
     "metadata": {},
     "output_type": "execute_result"
    }
   ],
   "source": [
    "arr.swapaxes(0,1)"
   ]
  },
  {
   "cell_type": "code",
   "execution_count": 37,
   "id": "1c4f8265",
   "metadata": {
    "ExecuteTime": {
     "end_time": "2021-04-25T02:48:49.402139Z",
     "start_time": "2021-04-25T02:48:49.385646Z"
    }
   },
   "outputs": [],
   "source": [
    "arr.swapaxes(0, 1)[1, 1] = 60"
   ]
  },
  {
   "cell_type": "code",
   "execution_count": 38,
   "id": "81ef336a",
   "metadata": {
    "ExecuteTime": {
     "end_time": "2021-04-25T02:48:53.102805Z",
     "start_time": "2021-04-25T02:48:53.094230Z"
    }
   },
   "outputs": [
    {
     "data": {
      "text/plain": [
       "array([[ 0,  1,  2,  3,  4],\n",
       "       [ 5, 60,  7,  8,  9],\n",
       "       [10, 11, 12, 13, 14]])"
      ]
     },
     "execution_count": 38,
     "metadata": {},
     "output_type": "execute_result"
    }
   ],
   "source": [
    "arr"
   ]
  },
  {
   "cell_type": "markdown",
   "id": "1d4a6296",
   "metadata": {},
   "source": [
    "# 通用函数"
   ]
  },
  {
   "cell_type": "code",
   "execution_count": 47,
   "id": "23d81655",
   "metadata": {
    "ExecuteTime": {
     "end_time": "2021-04-25T03:12:19.841502Z",
     "start_time": "2021-04-25T03:12:19.834085Z"
    }
   },
   "outputs": [
    {
     "data": {
      "text/plain": [
       "array([ 2.35352296, -0.28923918,  0.34484462, -2.31361388, -0.5587532 ,\n",
       "       -1.35216686,  0.19194967, -0.15974791,  0.72535182, -0.62118493])"
      ]
     },
     "execution_count": 47,
     "metadata": {},
     "output_type": "execute_result"
    }
   ],
   "source": [
    "arr = np.random.randn(10)\n",
    "arr"
   ]
  },
  {
   "cell_type": "code",
   "execution_count": 53,
   "id": "ff167e39",
   "metadata": {
    "ExecuteTime": {
     "end_time": "2021-04-25T03:14:05.456577Z",
     "start_time": "2021-04-25T03:14:05.447699Z"
    }
   },
   "outputs": [
    {
     "data": {
      "text/plain": [
       "array([1.1129222 ,        nan, 0.87539272,        nan,        nan,\n",
       "              nan, 0.81357655,        nan, 0.96065752,        nan])"
      ]
     },
     "execution_count": 53,
     "metadata": {},
     "output_type": "execute_result"
    }
   ],
   "source": [
    "np.sqrt(arr)"
   ]
  },
  {
   "cell_type": "code",
   "execution_count": 54,
   "id": "44f622fc",
   "metadata": {
    "ExecuteTime": {
     "end_time": "2021-04-25T03:14:12.459024Z",
     "start_time": "2021-04-25T03:14:12.451837Z"
    }
   },
   "outputs": [
    {
     "data": {
      "text/plain": [
       "array([1.23859582,        nan, 0.76631242,        nan,        nan,\n",
       "              nan, 0.6619068 ,        nan, 0.92286288,        nan])"
      ]
     },
     "execution_count": 54,
     "metadata": {},
     "output_type": "execute_result"
    }
   ],
   "source": [
    "# arr没有改变\n",
    "arr"
   ]
  },
  {
   "cell_type": "code",
   "execution_count": 52,
   "id": "2938ef28",
   "metadata": {
    "ExecuteTime": {
     "end_time": "2021-04-25T03:14:00.883812Z",
     "start_time": "2021-04-25T03:14:00.876124Z"
    }
   },
   "outputs": [
    {
     "data": {
      "text/plain": [
       "array([1.23859582,        nan, 0.76631242,        nan,        nan,\n",
       "              nan, 0.6619068 ,        nan, 0.92286288,        nan])"
      ]
     },
     "execution_count": 52,
     "metadata": {},
     "output_type": "execute_result"
    }
   ],
   "source": [
    "# 通用函数接收一个可选参数out, A location into which the result is stored.\n",
    "# 把通用函数返回的结果赋值给arr\n",
    "np.sqrt(arr, arr)"
   ]
  },
  {
   "cell_type": "code",
   "execution_count": 51,
   "id": "c9af0336",
   "metadata": {
    "ExecuteTime": {
     "end_time": "2021-04-25T03:12:43.240389Z",
     "start_time": "2021-04-25T03:12:43.226848Z"
    }
   },
   "outputs": [
    {
     "data": {
      "text/plain": [
       "array([1.5341196 ,        nan, 0.58723472,        nan,        nan,\n",
       "              nan, 0.43812061,        nan, 0.85167589,        nan])"
      ]
     },
     "execution_count": 51,
     "metadata": {},
     "output_type": "execute_result"
    }
   ],
   "source": [
    "arr"
   ]
  },
  {
   "cell_type": "code",
   "execution_count": null,
   "id": "dc3b0f54",
   "metadata": {},
   "outputs": [],
   "source": []
  },
  {
   "cell_type": "code",
   "execution_count": null,
   "id": "fc33960a",
   "metadata": {},
   "outputs": [],
   "source": []
  },
  {
   "cell_type": "code",
   "execution_count": null,
   "id": "e402e77b",
   "metadata": {},
   "outputs": [],
   "source": []
  },
  {
   "cell_type": "code",
   "execution_count": null,
   "id": "0c5f2f7b",
   "metadata": {},
   "outputs": [],
   "source": []
  },
  {
   "cell_type": "code",
   "execution_count": null,
   "id": "c8ed9809",
   "metadata": {},
   "outputs": [],
   "source": []
  },
  {
   "cell_type": "code",
   "execution_count": null,
   "id": "00dcab30",
   "metadata": {},
   "outputs": [],
   "source": []
  },
  {
   "cell_type": "code",
   "execution_count": null,
   "id": "2d9c9d4e",
   "metadata": {},
   "outputs": [],
   "source": []
  },
  {
   "cell_type": "code",
   "execution_count": null,
   "id": "59a93902",
   "metadata": {},
   "outputs": [],
   "source": []
  },
  {
   "cell_type": "code",
   "execution_count": null,
   "id": "723e8b93",
   "metadata": {},
   "outputs": [],
   "source": []
  },
  {
   "cell_type": "code",
   "execution_count": null,
   "id": "31cd28cf",
   "metadata": {},
   "outputs": [],
   "source": []
  },
  {
   "cell_type": "code",
   "execution_count": null,
   "id": "ff415121",
   "metadata": {},
   "outputs": [],
   "source": []
  },
  {
   "cell_type": "code",
   "execution_count": null,
   "id": "e54431ab",
   "metadata": {},
   "outputs": [],
   "source": []
  }
 ],
 "metadata": {
  "kernelspec": {
   "display_name": "Python 3",
   "language": "python",
   "name": "python3"
  },
  "language_info": {
   "codemirror_mode": {
    "name": "ipython",
    "version": 3
   },
   "file_extension": ".py",
   "mimetype": "text/x-python",
   "name": "python",
   "nbconvert_exporter": "python",
   "pygments_lexer": "ipython3",
   "version": "3.6.13"
  },
  "toc": {
   "base_numbering": 1,
   "nav_menu": {},
   "number_sections": true,
   "sideBar": true,
   "skip_h1_title": false,
   "title_cell": "Table of Contents",
   "title_sidebar": "Contents",
   "toc_cell": false,
   "toc_position": {},
   "toc_section_display": true,
   "toc_window_display": false
  },
  "varInspector": {
   "cols": {
    "lenName": 16,
    "lenType": 16,
    "lenVar": 40
   },
   "kernels_config": {
    "python": {
     "delete_cmd_postfix": "",
     "delete_cmd_prefix": "del ",
     "library": "var_list.py",
     "varRefreshCmd": "print(var_dic_list())"
    },
    "r": {
     "delete_cmd_postfix": ") ",
     "delete_cmd_prefix": "rm(",
     "library": "var_list.r",
     "varRefreshCmd": "cat(var_dic_list()) "
    }
   },
   "types_to_exclude": [
    "module",
    "function",
    "builtin_function_or_method",
    "instance",
    "_Feature"
   ],
   "window_display": false
  }
 },
 "nbformat": 4,
 "nbformat_minor": 5
}
