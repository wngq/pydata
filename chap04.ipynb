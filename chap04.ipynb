{
 "cells": [
  {
   "cell_type": "markdown",
   "id": "c36307cf",
   "metadata": {},
   "source": [
    "**NumPy处理大量数组的效率更高**"
   ]
  },
  {
   "cell_type": "code",
   "execution_count": 1,
   "id": "4bc016e4",
   "metadata": {
    "ExecuteTime": {
     "end_time": "2021-04-23T04:16:05.305358Z",
     "start_time": "2021-04-23T04:16:05.252043Z"
    }
   },
   "outputs": [],
   "source": [
    "import numpy as np\n",
    "\n",
    "my_arr = np.arange(1000000)\n",
    "my_list = list(range(1000000))"
   ]
  },
  {
   "cell_type": "code",
   "execution_count": 8,
   "id": "8f87ae10",
   "metadata": {
    "ExecuteTime": {
     "end_time": "2021-04-23T04:21:19.466728Z",
     "start_time": "2021-04-23T04:21:19.417830Z"
    }
   },
   "outputs": [
    {
     "name": "stdout",
     "output_type": "stream",
     "text": [
      "CPU times: user 26.3 ms, sys: 16.4 ms, total: 42.7 ms\n",
      "Wall time: 41.9 ms\n"
     ]
    }
   ],
   "source": [
    "%time for _ in range(10): my_arr2 = my_arr * 2"
   ]
  },
  {
   "cell_type": "code",
   "execution_count": 9,
   "id": "5dad2fc9",
   "metadata": {
    "ExecuteTime": {
     "end_time": "2021-04-23T04:21:25.907748Z",
     "start_time": "2021-04-23T04:21:24.940344Z"
    }
   },
   "outputs": [
    {
     "name": "stdout",
     "output_type": "stream",
     "text": [
      "CPU times: user 736 ms, sys: 201 ms, total: 937 ms\n",
      "Wall time: 963 ms\n"
     ]
    }
   ],
   "source": [
    "%time for _ in range(10): my_list2 = [x * 2 for x in my_list]"
   ]
  },
  {
   "cell_type": "markdown",
   "id": "2d93876e",
   "metadata": {},
   "source": [
    "# 多维数组对象 ndarray"
   ]
  },
  {
   "cell_type": "code",
   "execution_count": 19,
   "id": "fc5145cc",
   "metadata": {
    "ExecuteTime": {
     "end_time": "2021-04-23T07:52:25.888867Z",
     "start_time": "2021-04-23T07:52:25.881874Z"
    }
   },
   "outputs": [
    {
     "data": {
      "text/plain": [
       "array([[ 0.54000743,  1.1118009 ,  0.85228074],\n",
       "       [-1.37988643,  2.14382986,  1.22862503]])"
      ]
     },
     "execution_count": 19,
     "metadata": {},
     "output_type": "execute_result"
    }
   ],
   "source": [
    "import numpy as np\n",
    "data = np.random.randn(2, 3)\n",
    "data"
   ]
  },
  {
   "cell_type": "code",
   "execution_count": 20,
   "id": "ee3ce4c0",
   "metadata": {
    "ExecuteTime": {
     "end_time": "2021-04-23T07:52:59.773304Z",
     "start_time": "2021-04-23T07:52:59.764962Z"
    }
   },
   "outputs": [
    {
     "data": {
      "text/plain": [
       "(2, 3)"
      ]
     },
     "execution_count": 20,
     "metadata": {},
     "output_type": "execute_result"
    }
   ],
   "source": [
    "data.shape"
   ]
  },
  {
   "cell_type": "code",
   "execution_count": 21,
   "id": "2fa587d4",
   "metadata": {
    "ExecuteTime": {
     "end_time": "2021-04-23T07:53:22.738240Z",
     "start_time": "2021-04-23T07:53:22.729485Z"
    }
   },
   "outputs": [
    {
     "data": {
      "text/plain": [
       "dtype('float64')"
      ]
     },
     "execution_count": 21,
     "metadata": {},
     "output_type": "execute_result"
    }
   ],
   "source": [
    "data.dtype"
   ]
  },
  {
   "cell_type": "markdown",
   "id": "3f5bbbae",
   "metadata": {},
   "source": [
    "## **arange是Python内建函数range的数组版**"
   ]
  },
  {
   "cell_type": "code",
   "execution_count": 24,
   "id": "ba0422ed",
   "metadata": {
    "ExecuteTime": {
     "end_time": "2021-04-23T08:10:23.082935Z",
     "start_time": "2021-04-23T08:10:23.068606Z"
    }
   },
   "outputs": [
    {
     "data": {
      "text/plain": [
       "range(0, 15)"
      ]
     },
     "execution_count": 24,
     "metadata": {},
     "output_type": "execute_result"
    }
   ],
   "source": [
    "range(15)"
   ]
  },
  {
   "cell_type": "code",
   "execution_count": 26,
   "id": "b2ed7294",
   "metadata": {
    "ExecuteTime": {
     "end_time": "2021-04-23T08:11:51.855601Z",
     "start_time": "2021-04-23T08:11:51.846589Z"
    }
   },
   "outputs": [
    {
     "data": {
      "text/plain": [
       "[0, 1, 2, 3, 4, 5, 6, 7, 8, 9, 10, 11, 12, 13, 14]"
      ]
     },
     "execution_count": 26,
     "metadata": {},
     "output_type": "execute_result"
    }
   ],
   "source": [
    "list(range(15))"
   ]
  },
  {
   "cell_type": "code",
   "execution_count": 25,
   "id": "a9b6ae86",
   "metadata": {
    "ExecuteTime": {
     "end_time": "2021-04-23T08:10:39.851384Z",
     "start_time": "2021-04-23T08:10:39.845842Z"
    }
   },
   "outputs": [
    {
     "data": {
      "text/plain": [
       "array([ 0,  1,  2,  3,  4,  5,  6,  7,  8,  9, 10, 11, 12, 13, 14])"
      ]
     },
     "execution_count": 25,
     "metadata": {},
     "output_type": "execute_result"
    }
   ],
   "source": [
    "np.arange(15)"
   ]
  },
  {
   "cell_type": "markdown",
   "id": "1e970d5b",
   "metadata": {},
   "source": [
    "## **数组的切片是原数组的视图，所以“切片”并不是复制出来的，任何对视图的修改都会反映到原数组上**"
   ]
  },
  {
   "cell_type": "code",
   "execution_count": 2,
   "id": "7e2480aa",
   "metadata": {
    "ExecuteTime": {
     "end_time": "2021-04-23T10:15:44.390754Z",
     "start_time": "2021-04-23T10:15:44.374995Z"
    }
   },
   "outputs": [
    {
     "data": {
      "text/plain": [
       "array([0, 1, 2, 3, 4, 5, 6, 7, 8, 9])"
      ]
     },
     "execution_count": 2,
     "metadata": {},
     "output_type": "execute_result"
    }
   ],
   "source": [
    "arr = np.arange(10)\n",
    "arr"
   ]
  },
  {
   "cell_type": "code",
   "execution_count": 5,
   "id": "c9123392",
   "metadata": {
    "ExecuteTime": {
     "end_time": "2021-04-23T10:15:56.397971Z",
     "start_time": "2021-04-23T10:15:56.390808Z"
    }
   },
   "outputs": [
    {
     "data": {
      "text/plain": [
       "array([4, 5, 6])"
      ]
     },
     "execution_count": 5,
     "metadata": {},
     "output_type": "execute_result"
    }
   ],
   "source": [
    "arr_slice = arr[4:7]\n",
    "arr_slice"
   ]
  },
  {
   "cell_type": "code",
   "execution_count": 8,
   "id": "de9d44fb",
   "metadata": {
    "ExecuteTime": {
     "end_time": "2021-04-23T10:16:50.528523Z",
     "start_time": "2021-04-23T10:16:50.524611Z"
    }
   },
   "outputs": [],
   "source": [
    "arr_slice[1] = 123"
   ]
  },
  {
   "cell_type": "code",
   "execution_count": 14,
   "id": "a0cce049",
   "metadata": {
    "ExecuteTime": {
     "end_time": "2021-04-23T10:21:11.291156Z",
     "start_time": "2021-04-23T10:21:11.283841Z"
    }
   },
   "outputs": [
    {
     "data": {
      "text/plain": [
       "array([  4, 123,   6])"
      ]
     },
     "execution_count": 14,
     "metadata": {},
     "output_type": "execute_result"
    }
   ],
   "source": [
    "arr_slice"
   ]
  },
  {
   "cell_type": "code",
   "execution_count": 9,
   "id": "3c0c18aa",
   "metadata": {
    "ExecuteTime": {
     "end_time": "2021-04-23T10:17:06.631088Z",
     "start_time": "2021-04-23T10:17:06.624162Z"
    }
   },
   "outputs": [
    {
     "data": {
      "text/plain": [
       "array([  0,   1,   2,   3,   4, 123,   6,   7,   8,   9])"
      ]
     },
     "execution_count": 9,
     "metadata": {},
     "output_type": "execute_result"
    }
   ],
   "source": [
    "arr"
   ]
  },
  {
   "cell_type": "markdown",
   "id": "f3508949",
   "metadata": {},
   "source": [
    "**如果想要一份数组切片的拷贝而不是一份视图的话，就必须显式地复制这个数组**"
   ]
  },
  {
   "cell_type": "code",
   "execution_count": 10,
   "id": "ec389826",
   "metadata": {
    "ExecuteTime": {
     "end_time": "2021-04-23T10:19:03.462709Z",
     "start_time": "2021-04-23T10:19:03.454280Z"
    }
   },
   "outputs": [
    {
     "data": {
      "text/plain": [
       "array([  4, 123,   6])"
      ]
     },
     "execution_count": 10,
     "metadata": {},
     "output_type": "execute_result"
    }
   ],
   "source": [
    "arr_copy = arr[4:7].copy()\n",
    "arr_copy"
   ]
  },
  {
   "cell_type": "code",
   "execution_count": 11,
   "id": "825eafeb",
   "metadata": {
    "ExecuteTime": {
     "end_time": "2021-04-23T10:19:25.524778Z",
     "start_time": "2021-04-23T10:19:25.520182Z"
    }
   },
   "outputs": [],
   "source": [
    "arr_copy[1] = 987"
   ]
  },
  {
   "cell_type": "code",
   "execution_count": 13,
   "id": "09b0c455",
   "metadata": {
    "ExecuteTime": {
     "end_time": "2021-04-23T10:19:48.597506Z",
     "start_time": "2021-04-23T10:19:48.589252Z"
    }
   },
   "outputs": [
    {
     "data": {
      "text/plain": [
       "array([  4, 987,   6])"
      ]
     },
     "execution_count": 13,
     "metadata": {},
     "output_type": "execute_result"
    }
   ],
   "source": [
    "arr_copy"
   ]
  },
  {
   "cell_type": "code",
   "execution_count": 12,
   "id": "1a8fd97b",
   "metadata": {
    "ExecuteTime": {
     "end_time": "2021-04-23T10:19:36.781200Z",
     "start_time": "2021-04-23T10:19:36.772643Z"
    }
   },
   "outputs": [
    {
     "data": {
      "text/plain": [
       "array([  0,   1,   2,   3,   4, 123,   6,   7,   8,   9])"
      ]
     },
     "execution_count": 12,
     "metadata": {},
     "output_type": "execute_result"
    }
   ],
   "source": [
    "arr"
   ]
  },
  {
   "cell_type": "markdown",
   "id": "c652555b",
   "metadata": {},
   "source": [
    "## 数组的切片和索引"
   ]
  },
  {
   "cell_type": "code",
   "execution_count": 1,
   "id": "464c123e",
   "metadata": {
    "ExecuteTime": {
     "end_time": "2021-04-24T07:11:16.321971Z",
     "start_time": "2021-04-24T07:11:16.318093Z"
    }
   },
   "outputs": [],
   "source": [
    "arr2d = np.arange(1, 10).reshape(3, 3)"
   ]
  },
  {
   "cell_type": "code",
   "execution_count": 2,
   "id": "34243edc",
   "metadata": {
    "ExecuteTime": {
     "end_time": "2021-04-24T07:11:19.344207Z",
     "start_time": "2021-04-24T07:11:19.330095Z"
    }
   },
   "outputs": [
    {
     "data": {
      "text/plain": [
       "array([[1, 2, 3],\n",
       "       [4, 5, 6],\n",
       "       [7, 8, 9]])"
      ]
     },
     "execution_count": 2,
     "metadata": {},
     "output_type": "execute_result"
    }
   ],
   "source": [
    "arr2d"
   ]
  },
  {
   "cell_type": "markdown",
   "id": "4fecd84d",
   "metadata": {},
   "source": [
    "**如果索引和切片混用，就可以得到低维度的切片**"
   ]
  },
  {
   "cell_type": "code",
   "execution_count": 3,
   "id": "5aa1da1f",
   "metadata": {
    "ExecuteTime": {
     "end_time": "2021-04-24T07:11:21.758012Z",
     "start_time": "2021-04-24T07:11:21.750274Z"
    }
   },
   "outputs": [
    {
     "data": {
      "text/plain": [
       "array([3, 6])"
      ]
     },
     "execution_count": 3,
     "metadata": {},
     "output_type": "execute_result"
    }
   ],
   "source": [
    "# 索引和切片混用\n",
    "arr2d[:2,2]"
   ]
  },
  {
   "cell_type": "code",
   "execution_count": 4,
   "id": "a2c39cc1",
   "metadata": {
    "ExecuteTime": {
     "end_time": "2021-04-24T07:11:23.792557Z",
     "start_time": "2021-04-24T07:11:23.783668Z"
    }
   },
   "outputs": [
    {
     "data": {
      "text/plain": [
       "(2,)"
      ]
     },
     "execution_count": 4,
     "metadata": {},
     "output_type": "execute_result"
    }
   ],
   "source": [
    "arr2d[:2,2].shape"
   ]
  },
  {
   "cell_type": "code",
   "execution_count": 5,
   "id": "aa687016",
   "metadata": {
    "ExecuteTime": {
     "end_time": "2021-04-24T07:11:26.093426Z",
     "start_time": "2021-04-24T07:11:26.085399Z"
    }
   },
   "outputs": [
    {
     "data": {
      "text/plain": [
       "array([[3],\n",
       "       [6]])"
      ]
     },
     "execution_count": 5,
     "metadata": {},
     "output_type": "execute_result"
    }
   ],
   "source": [
    "# 只切片\n",
    "arr2d[:2,2:3]"
   ]
  },
  {
   "cell_type": "code",
   "execution_count": 6,
   "id": "a3753fad",
   "metadata": {
    "ExecuteTime": {
     "end_time": "2021-04-24T07:11:28.411149Z",
     "start_time": "2021-04-24T07:11:28.404656Z"
    }
   },
   "outputs": [
    {
     "data": {
      "text/plain": [
       "(2, 1)"
      ]
     },
     "execution_count": 6,
     "metadata": {},
     "output_type": "execute_result"
    }
   ],
   "source": [
    "arr2d[:2,2:3].shape"
   ]
  },
  {
   "cell_type": "markdown",
   "id": "298c90fb",
   "metadata": {},
   "source": [
    "## 神奇索引\n",
    "- 神奇索引的结果总是一维的\n",
    "- 神奇索引和切片不同，它总是将数据复制到一个新的数组中\n"
   ]
  },
  {
   "cell_type": "code",
   "execution_count": 7,
   "id": "a9e698d9",
   "metadata": {
    "ExecuteTime": {
     "end_time": "2021-04-24T07:23:18.917396Z",
     "start_time": "2021-04-24T07:23:18.908949Z"
    }
   },
   "outputs": [
    {
     "data": {
      "text/plain": [
       "array([[ 0,  1,  2,  3],\n",
       "       [ 4,  5,  6,  7],\n",
       "       [ 8,  9, 10, 11],\n",
       "       [12, 13, 14, 15],\n",
       "       [16, 17, 18, 19],\n",
       "       [20, 21, 22, 23],\n",
       "       [24, 25, 26, 27],\n",
       "       [28, 29, 30, 31]])"
      ]
     },
     "execution_count": 7,
     "metadata": {},
     "output_type": "execute_result"
    }
   ],
   "source": [
    "arr = np.arange(32).reshape(8, 4)\n",
    "arr"
   ]
  },
  {
   "cell_type": "code",
   "execution_count": 8,
   "id": "c6b837f8",
   "metadata": {
    "ExecuteTime": {
     "end_time": "2021-04-24T07:24:00.825685Z",
     "start_time": "2021-04-24T07:24:00.810390Z"
    }
   },
   "outputs": [
    {
     "data": {
      "text/plain": [
       "array([ 4, 23, 29, 10])"
      ]
     },
     "execution_count": 8,
     "metadata": {},
     "output_type": "execute_result"
    }
   ],
   "source": [
    "arr[[1, 5, 7, 2], [0, 3, 1, 2]]"
   ]
  },
  {
   "cell_type": "code",
   "execution_count": 12,
   "id": "6f0a3c3a",
   "metadata": {
    "ExecuteTime": {
     "end_time": "2021-04-24T07:25:23.667653Z",
     "start_time": "2021-04-24T07:25:23.656983Z"
    }
   },
   "outputs": [
    {
     "data": {
      "text/plain": [
       "array([[ 4,  5,  6,  7],\n",
       "       [20, 21, 22, 23],\n",
       "       [28, 29, 30, 31],\n",
       "       [ 8,  9, 10, 11]])"
      ]
     },
     "execution_count": 12,
     "metadata": {},
     "output_type": "execute_result"
    }
   ],
   "source": [
    "arr[[1, 5, 7, 2]]"
   ]
  },
  {
   "cell_type": "code",
   "execution_count": 13,
   "id": "6d20f400",
   "metadata": {
    "ExecuteTime": {
     "end_time": "2021-04-24T07:26:00.127668Z",
     "start_time": "2021-04-24T07:26:00.120257Z"
    }
   },
   "outputs": [
    {
     "data": {
      "text/plain": [
       "array([[ 4,  7,  5,  6],\n",
       "       [20, 23, 21, 22],\n",
       "       [28, 31, 29, 30],\n",
       "       [ 8, 11,  9, 10]])"
      ]
     },
     "execution_count": 13,
     "metadata": {},
     "output_type": "execute_result"
    }
   ],
   "source": [
    "# 这个不是神奇索引\n",
    "arr[[1, 5, 7, 2]][:, [0, 3, 1, 2]]"
   ]
  },
  {
   "cell_type": "code",
   "execution_count": null,
   "id": "a03f4a0b",
   "metadata": {},
   "outputs": [],
   "source": []
  },
  {
   "cell_type": "code",
   "execution_count": null,
   "id": "158cd640",
   "metadata": {},
   "outputs": [],
   "source": []
  },
  {
   "cell_type": "code",
   "execution_count": null,
   "id": "733db7bd",
   "metadata": {},
   "outputs": [],
   "source": []
  }
 ],
 "metadata": {
  "kernelspec": {
   "display_name": "Python 3",
   "language": "python",
   "name": "python3"
  },
  "language_info": {
   "codemirror_mode": {
    "name": "ipython",
    "version": 3
   },
   "file_extension": ".py",
   "mimetype": "text/x-python",
   "name": "python",
   "nbconvert_exporter": "python",
   "pygments_lexer": "ipython3",
   "version": "3.6.13"
  },
  "toc": {
   "base_numbering": 1,
   "nav_menu": {},
   "number_sections": true,
   "sideBar": true,
   "skip_h1_title": false,
   "title_cell": "Table of Contents",
   "title_sidebar": "Contents",
   "toc_cell": false,
   "toc_position": {},
   "toc_section_display": true,
   "toc_window_display": false
  },
  "varInspector": {
   "cols": {
    "lenName": 16,
    "lenType": 16,
    "lenVar": 40
   },
   "kernels_config": {
    "python": {
     "delete_cmd_postfix": "",
     "delete_cmd_prefix": "del ",
     "library": "var_list.py",
     "varRefreshCmd": "print(var_dic_list())"
    },
    "r": {
     "delete_cmd_postfix": ") ",
     "delete_cmd_prefix": "rm(",
     "library": "var_list.r",
     "varRefreshCmd": "cat(var_dic_list()) "
    }
   },
   "types_to_exclude": [
    "module",
    "function",
    "builtin_function_or_method",
    "instance",
    "_Feature"
   ],
   "window_display": false
  }
 },
 "nbformat": 4,
 "nbformat_minor": 5
}
