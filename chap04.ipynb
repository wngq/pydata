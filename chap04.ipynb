{
 "cells": [
  {
   "cell_type": "markdown",
   "id": "c36307cf",
   "metadata": {},
   "source": [
    "**NumPy处理大量数组的效率更高**"
   ]
  },
  {
   "cell_type": "code",
   "execution_count": 1,
   "id": "4bc016e4",
   "metadata": {
    "ExecuteTime": {
     "end_time": "2021-04-23T04:16:05.305358Z",
     "start_time": "2021-04-23T04:16:05.252043Z"
    }
   },
   "outputs": [],
   "source": [
    "import numpy as np\n",
    "\n",
    "my_arr = np.arange(1000000)\n",
    "my_list = list(range(1000000))"
   ]
  },
  {
   "cell_type": "code",
   "execution_count": 8,
   "id": "8f87ae10",
   "metadata": {
    "ExecuteTime": {
     "end_time": "2021-04-23T04:21:19.466728Z",
     "start_time": "2021-04-23T04:21:19.417830Z"
    }
   },
   "outputs": [
    {
     "name": "stdout",
     "output_type": "stream",
     "text": [
      "CPU times: user 26.3 ms, sys: 16.4 ms, total: 42.7 ms\n",
      "Wall time: 41.9 ms\n"
     ]
    }
   ],
   "source": [
    "%time for _ in range(10): my_arr2 = my_arr * 2"
   ]
  },
  {
   "cell_type": "code",
   "execution_count": 9,
   "id": "5dad2fc9",
   "metadata": {
    "ExecuteTime": {
     "end_time": "2021-04-23T04:21:25.907748Z",
     "start_time": "2021-04-23T04:21:24.940344Z"
    }
   },
   "outputs": [
    {
     "name": "stdout",
     "output_type": "stream",
     "text": [
      "CPU times: user 736 ms, sys: 201 ms, total: 937 ms\n",
      "Wall time: 963 ms\n"
     ]
    }
   ],
   "source": [
    "%time for _ in range(10): my_list2 = [x * 2 for x in my_list]"
   ]
  },
  {
   "cell_type": "markdown",
   "id": "2d93876e",
   "metadata": {},
   "source": [
    "# 多维数组对象 ndarray"
   ]
  },
  {
   "cell_type": "code",
   "execution_count": 19,
   "id": "fc5145cc",
   "metadata": {
    "ExecuteTime": {
     "end_time": "2021-04-23T07:52:25.888867Z",
     "start_time": "2021-04-23T07:52:25.881874Z"
    }
   },
   "outputs": [
    {
     "data": {
      "text/plain": [
       "array([[ 0.54000743,  1.1118009 ,  0.85228074],\n",
       "       [-1.37988643,  2.14382986,  1.22862503]])"
      ]
     },
     "execution_count": 19,
     "metadata": {},
     "output_type": "execute_result"
    }
   ],
   "source": [
    "import numpy as np\n",
    "data = np.random.randn(2, 3)\n",
    "data"
   ]
  },
  {
   "cell_type": "code",
   "execution_count": 20,
   "id": "ee3ce4c0",
   "metadata": {
    "ExecuteTime": {
     "end_time": "2021-04-23T07:52:59.773304Z",
     "start_time": "2021-04-23T07:52:59.764962Z"
    }
   },
   "outputs": [
    {
     "data": {
      "text/plain": [
       "(2, 3)"
      ]
     },
     "execution_count": 20,
     "metadata": {},
     "output_type": "execute_result"
    }
   ],
   "source": [
    "data.shape"
   ]
  },
  {
   "cell_type": "code",
   "execution_count": 21,
   "id": "2fa587d4",
   "metadata": {
    "ExecuteTime": {
     "end_time": "2021-04-23T07:53:22.738240Z",
     "start_time": "2021-04-23T07:53:22.729485Z"
    }
   },
   "outputs": [
    {
     "data": {
      "text/plain": [
       "dtype('float64')"
      ]
     },
     "execution_count": 21,
     "metadata": {},
     "output_type": "execute_result"
    }
   ],
   "source": [
    "data.dtype"
   ]
  },
  {
   "cell_type": "markdown",
   "id": "3f5bbbae",
   "metadata": {},
   "source": [
    "## **arange是Python内建函数range的数组版**"
   ]
  },
  {
   "cell_type": "code",
   "execution_count": 24,
   "id": "ba0422ed",
   "metadata": {
    "ExecuteTime": {
     "end_time": "2021-04-23T08:10:23.082935Z",
     "start_time": "2021-04-23T08:10:23.068606Z"
    }
   },
   "outputs": [
    {
     "data": {
      "text/plain": [
       "range(0, 15)"
      ]
     },
     "execution_count": 24,
     "metadata": {},
     "output_type": "execute_result"
    }
   ],
   "source": [
    "range(15)"
   ]
  },
  {
   "cell_type": "code",
   "execution_count": 26,
   "id": "b2ed7294",
   "metadata": {
    "ExecuteTime": {
     "end_time": "2021-04-23T08:11:51.855601Z",
     "start_time": "2021-04-23T08:11:51.846589Z"
    }
   },
   "outputs": [
    {
     "data": {
      "text/plain": [
       "[0, 1, 2, 3, 4, 5, 6, 7, 8, 9, 10, 11, 12, 13, 14]"
      ]
     },
     "execution_count": 26,
     "metadata": {},
     "output_type": "execute_result"
    }
   ],
   "source": [
    "list(range(15))"
   ]
  },
  {
   "cell_type": "code",
   "execution_count": 25,
   "id": "a9b6ae86",
   "metadata": {
    "ExecuteTime": {
     "end_time": "2021-04-23T08:10:39.851384Z",
     "start_time": "2021-04-23T08:10:39.845842Z"
    }
   },
   "outputs": [
    {
     "data": {
      "text/plain": [
       "array([ 0,  1,  2,  3,  4,  5,  6,  7,  8,  9, 10, 11, 12, 13, 14])"
      ]
     },
     "execution_count": 25,
     "metadata": {},
     "output_type": "execute_result"
    }
   ],
   "source": [
    "np.arange(15)"
   ]
  },
  {
   "cell_type": "markdown",
   "id": "1e970d5b",
   "metadata": {},
   "source": [
    "## **数组的切片是原数组的视图，所以“切片”并不是复制出来的，任何对视图的修改都会反映到原数组上**"
   ]
  },
  {
   "cell_type": "code",
   "execution_count": 2,
   "id": "7e2480aa",
   "metadata": {
    "ExecuteTime": {
     "end_time": "2021-04-23T10:15:44.390754Z",
     "start_time": "2021-04-23T10:15:44.374995Z"
    }
   },
   "outputs": [
    {
     "data": {
      "text/plain": [
       "array([0, 1, 2, 3, 4, 5, 6, 7, 8, 9])"
      ]
     },
     "execution_count": 2,
     "metadata": {},
     "output_type": "execute_result"
    }
   ],
   "source": [
    "arr = np.arange(10)\n",
    "arr"
   ]
  },
  {
   "cell_type": "code",
   "execution_count": 5,
   "id": "c9123392",
   "metadata": {
    "ExecuteTime": {
     "end_time": "2021-04-23T10:15:56.397971Z",
     "start_time": "2021-04-23T10:15:56.390808Z"
    }
   },
   "outputs": [
    {
     "data": {
      "text/plain": [
       "array([4, 5, 6])"
      ]
     },
     "execution_count": 5,
     "metadata": {},
     "output_type": "execute_result"
    }
   ],
   "source": [
    "arr_slice = arr[4:7]\n",
    "arr_slice"
   ]
  },
  {
   "cell_type": "code",
   "execution_count": 8,
   "id": "de9d44fb",
   "metadata": {
    "ExecuteTime": {
     "end_time": "2021-04-23T10:16:50.528523Z",
     "start_time": "2021-04-23T10:16:50.524611Z"
    }
   },
   "outputs": [],
   "source": [
    "arr_slice[1] = 123"
   ]
  },
  {
   "cell_type": "code",
   "execution_count": 14,
   "id": "a0cce049",
   "metadata": {
    "ExecuteTime": {
     "end_time": "2021-04-23T10:21:11.291156Z",
     "start_time": "2021-04-23T10:21:11.283841Z"
    }
   },
   "outputs": [
    {
     "data": {
      "text/plain": [
       "array([  4, 123,   6])"
      ]
     },
     "execution_count": 14,
     "metadata": {},
     "output_type": "execute_result"
    }
   ],
   "source": [
    "arr_slice"
   ]
  },
  {
   "cell_type": "code",
   "execution_count": 9,
   "id": "3c0c18aa",
   "metadata": {
    "ExecuteTime": {
     "end_time": "2021-04-23T10:17:06.631088Z",
     "start_time": "2021-04-23T10:17:06.624162Z"
    }
   },
   "outputs": [
    {
     "data": {
      "text/plain": [
       "array([  0,   1,   2,   3,   4, 123,   6,   7,   8,   9])"
      ]
     },
     "execution_count": 9,
     "metadata": {},
     "output_type": "execute_result"
    }
   ],
   "source": [
    "arr"
   ]
  },
  {
   "cell_type": "markdown",
   "id": "f3508949",
   "metadata": {},
   "source": [
    "**如果想要一份数组切片的拷贝而不是一份视图的话，就必须显式地复制这个数组**"
   ]
  },
  {
   "cell_type": "code",
   "execution_count": 10,
   "id": "ec389826",
   "metadata": {
    "ExecuteTime": {
     "end_time": "2021-04-23T10:19:03.462709Z",
     "start_time": "2021-04-23T10:19:03.454280Z"
    }
   },
   "outputs": [
    {
     "data": {
      "text/plain": [
       "array([  4, 123,   6])"
      ]
     },
     "execution_count": 10,
     "metadata": {},
     "output_type": "execute_result"
    }
   ],
   "source": [
    "arr_copy = arr[4:7].copy()\n",
    "arr_copy"
   ]
  },
  {
   "cell_type": "code",
   "execution_count": 11,
   "id": "825eafeb",
   "metadata": {
    "ExecuteTime": {
     "end_time": "2021-04-23T10:19:25.524778Z",
     "start_time": "2021-04-23T10:19:25.520182Z"
    }
   },
   "outputs": [],
   "source": [
    "arr_copy[1] = 987"
   ]
  },
  {
   "cell_type": "code",
   "execution_count": 13,
   "id": "09b0c455",
   "metadata": {
    "ExecuteTime": {
     "end_time": "2021-04-23T10:19:48.597506Z",
     "start_time": "2021-04-23T10:19:48.589252Z"
    }
   },
   "outputs": [
    {
     "data": {
      "text/plain": [
       "array([  4, 987,   6])"
      ]
     },
     "execution_count": 13,
     "metadata": {},
     "output_type": "execute_result"
    }
   ],
   "source": [
    "arr_copy"
   ]
  },
  {
   "cell_type": "code",
   "execution_count": 12,
   "id": "1a8fd97b",
   "metadata": {
    "ExecuteTime": {
     "end_time": "2021-04-23T10:19:36.781200Z",
     "start_time": "2021-04-23T10:19:36.772643Z"
    }
   },
   "outputs": [
    {
     "data": {
      "text/plain": [
       "array([  0,   1,   2,   3,   4, 123,   6,   7,   8,   9])"
      ]
     },
     "execution_count": 12,
     "metadata": {},
     "output_type": "execute_result"
    }
   ],
   "source": [
    "arr"
   ]
  },
  {
   "cell_type": "markdown",
   "id": "c652555b",
   "metadata": {},
   "source": [
    "## 数组的切片和索引"
   ]
  },
  {
   "cell_type": "code",
   "execution_count": 1,
   "id": "464c123e",
   "metadata": {
    "ExecuteTime": {
     "end_time": "2021-04-24T07:11:16.321971Z",
     "start_time": "2021-04-24T07:11:16.318093Z"
    }
   },
   "outputs": [],
   "source": [
    "arr2d = np.arange(1, 10).reshape((3, 3))"
   ]
  },
  {
   "cell_type": "code",
   "execution_count": 2,
   "id": "34243edc",
   "metadata": {
    "ExecuteTime": {
     "end_time": "2021-04-24T07:11:19.344207Z",
     "start_time": "2021-04-24T07:11:19.330095Z"
    }
   },
   "outputs": [
    {
     "data": {
      "text/plain": [
       "array([[1, 2, 3],\n",
       "       [4, 5, 6],\n",
       "       [7, 8, 9]])"
      ]
     },
     "execution_count": 2,
     "metadata": {},
     "output_type": "execute_result"
    }
   ],
   "source": [
    "arr2d"
   ]
  },
  {
   "cell_type": "markdown",
   "id": "4fecd84d",
   "metadata": {},
   "source": [
    "**如果索引和切片混用，就可以得到低维度的切片**"
   ]
  },
  {
   "cell_type": "code",
   "execution_count": 3,
   "id": "5aa1da1f",
   "metadata": {
    "ExecuteTime": {
     "end_time": "2021-04-24T07:11:21.758012Z",
     "start_time": "2021-04-24T07:11:21.750274Z"
    }
   },
   "outputs": [
    {
     "data": {
      "text/plain": [
       "array([3, 6])"
      ]
     },
     "execution_count": 3,
     "metadata": {},
     "output_type": "execute_result"
    }
   ],
   "source": [
    "# 索引和切片混用\n",
    "arr2d[:2,2]"
   ]
  },
  {
   "cell_type": "code",
   "execution_count": 4,
   "id": "a2c39cc1",
   "metadata": {
    "ExecuteTime": {
     "end_time": "2021-04-24T07:11:23.792557Z",
     "start_time": "2021-04-24T07:11:23.783668Z"
    }
   },
   "outputs": [
    {
     "data": {
      "text/plain": [
       "(2,)"
      ]
     },
     "execution_count": 4,
     "metadata": {},
     "output_type": "execute_result"
    }
   ],
   "source": [
    "arr2d[:2,2].shape"
   ]
  },
  {
   "cell_type": "code",
   "execution_count": 5,
   "id": "aa687016",
   "metadata": {
    "ExecuteTime": {
     "end_time": "2021-04-24T07:11:26.093426Z",
     "start_time": "2021-04-24T07:11:26.085399Z"
    }
   },
   "outputs": [
    {
     "data": {
      "text/plain": [
       "array([[3],\n",
       "       [6]])"
      ]
     },
     "execution_count": 5,
     "metadata": {},
     "output_type": "execute_result"
    }
   ],
   "source": [
    "# 只切片\n",
    "arr2d[:2,2:3]"
   ]
  },
  {
   "cell_type": "code",
   "execution_count": 6,
   "id": "a3753fad",
   "metadata": {
    "ExecuteTime": {
     "end_time": "2021-04-24T07:11:28.411149Z",
     "start_time": "2021-04-24T07:11:28.404656Z"
    }
   },
   "outputs": [
    {
     "data": {
      "text/plain": [
       "(2, 1)"
      ]
     },
     "execution_count": 6,
     "metadata": {},
     "output_type": "execute_result"
    }
   ],
   "source": [
    "arr2d[:2,2:3].shape"
   ]
  },
  {
   "cell_type": "markdown",
   "id": "59f36738",
   "metadata": {},
   "source": [
    "## 神奇索引\n",
    "- 神奇索引的结果总是一维的\n",
    "- 神奇索引和切片不同，它总是将数据复制到一个新的数组中\n"
   ]
  },
  {
   "cell_type": "code",
   "execution_count": 7,
   "id": "a9e698d9",
   "metadata": {
    "ExecuteTime": {
     "end_time": "2021-04-24T07:23:18.917396Z",
     "start_time": "2021-04-24T07:23:18.908949Z"
    }
   },
   "outputs": [
    {
     "data": {
      "text/plain": [
       "array([[ 0,  1,  2,  3],\n",
       "       [ 4,  5,  6,  7],\n",
       "       [ 8,  9, 10, 11],\n",
       "       [12, 13, 14, 15],\n",
       "       [16, 17, 18, 19],\n",
       "       [20, 21, 22, 23],\n",
       "       [24, 25, 26, 27],\n",
       "       [28, 29, 30, 31]])"
      ]
     },
     "execution_count": 7,
     "metadata": {},
     "output_type": "execute_result"
    }
   ],
   "source": [
    "arr = np.arange(32).reshape((8, 4))\n",
    "arr"
   ]
  },
  {
   "cell_type": "code",
   "execution_count": 15,
   "id": "c6b837f8",
   "metadata": {
    "ExecuteTime": {
     "end_time": "2021-04-25T01:54:19.119287Z",
     "start_time": "2021-04-25T01:54:19.107473Z"
    }
   },
   "outputs": [
    {
     "data": {
      "text/plain": [
       "array([ 4, 23, 29, 10])"
      ]
     },
     "execution_count": 15,
     "metadata": {},
     "output_type": "execute_result"
    }
   ],
   "source": [
    "# 神奇索引\n",
    "arr[[1, 5, 7, 2], [0, 3, 1, 2]]"
   ]
  },
  {
   "cell_type": "code",
   "execution_count": 12,
   "id": "6f0a3c3a",
   "metadata": {
    "ExecuteTime": {
     "end_time": "2021-04-24T07:25:23.667653Z",
     "start_time": "2021-04-24T07:25:23.656983Z"
    }
   },
   "outputs": [
    {
     "data": {
      "text/plain": [
       "array([[ 4,  5,  6,  7],\n",
       "       [20, 21, 22, 23],\n",
       "       [28, 29, 30, 31],\n",
       "       [ 8,  9, 10, 11]])"
      ]
     },
     "execution_count": 12,
     "metadata": {},
     "output_type": "execute_result"
    }
   ],
   "source": [
    "arr[[1, 5, 7, 2]]"
   ]
  },
  {
   "cell_type": "code",
   "execution_count": 14,
   "id": "6d20f400",
   "metadata": {
    "ExecuteTime": {
     "end_time": "2021-04-25T01:50:10.528307Z",
     "start_time": "2021-04-25T01:50:10.514452Z"
    }
   },
   "outputs": [
    {
     "data": {
      "text/plain": [
       "array([[ 4,  7,  5,  6],\n",
       "       [20, 23, 21, 22],\n",
       "       [28, 31, 29, 30],\n",
       "       [ 8, 11,  9, 10]])"
      ]
     },
     "execution_count": 14,
     "metadata": {},
     "output_type": "execute_result"
    }
   ],
   "source": [
    "# 这个不是神奇索引，这是选择矩阵的行列子集\n",
    "arr[[1, 5, 7, 2]][:, [0, 3, 1, 2]]"
   ]
  },
  {
   "cell_type": "markdown",
   "id": "c8b1be5a",
   "metadata": {},
   "source": [
    "## 数组的转置和换轴\n",
    "- T属性，transpose()和swapaxes()返回的都是原数据的视图，而没有对数据进行复制。修改视图会修改原数据"
   ]
  },
  {
   "cell_type": "markdown",
   "id": "2ad0fcfb",
   "metadata": {},
   "source": [
    "### T属性"
   ]
  },
  {
   "cell_type": "code",
   "execution_count": 17,
   "id": "a03f4a0b",
   "metadata": {
    "ExecuteTime": {
     "end_time": "2021-04-25T02:32:49.385016Z",
     "start_time": "2021-04-25T02:32:49.376383Z"
    }
   },
   "outputs": [
    {
     "data": {
      "text/plain": [
       "array([[ 0,  1,  2,  3,  4],\n",
       "       [ 5,  6,  7,  8,  9],\n",
       "       [10, 11, 12, 13, 14]])"
      ]
     },
     "execution_count": 17,
     "metadata": {},
     "output_type": "execute_result"
    }
   ],
   "source": [
    "arr = np.arange(15).reshape((3,5))\n",
    "arr"
   ]
  },
  {
   "cell_type": "code",
   "execution_count": 18,
   "id": "158cd640",
   "metadata": {
    "ExecuteTime": {
     "end_time": "2021-04-25T02:33:00.796926Z",
     "start_time": "2021-04-25T02:33:00.788997Z"
    }
   },
   "outputs": [
    {
     "data": {
      "text/plain": [
       "array([[ 0,  5, 10],\n",
       "       [ 1,  6, 11],\n",
       "       [ 2,  7, 12],\n",
       "       [ 3,  8, 13],\n",
       "       [ 4,  9, 14]])"
      ]
     },
     "execution_count": 18,
     "metadata": {},
     "output_type": "execute_result"
    }
   ],
   "source": [
    "arr.T"
   ]
  },
  {
   "cell_type": "code",
   "execution_count": 27,
   "id": "364ed5e2",
   "metadata": {
    "ExecuteTime": {
     "end_time": "2021-04-25T02:43:31.048585Z",
     "start_time": "2021-04-25T02:43:31.036132Z"
    }
   },
   "outputs": [],
   "source": [
    "arr.T[0, 1] = 50"
   ]
  },
  {
   "cell_type": "code",
   "execution_count": 28,
   "id": "733db7bd",
   "metadata": {
    "ExecuteTime": {
     "end_time": "2021-04-25T02:43:33.773682Z",
     "start_time": "2021-04-25T02:43:33.766154Z"
    }
   },
   "outputs": [
    {
     "data": {
      "text/plain": [
       "array([[ 0,  1,  2,  3,  4],\n",
       "       [50,  6,  7,  8,  9],\n",
       "       [10, 11, 12, 13, 14]])"
      ]
     },
     "execution_count": 28,
     "metadata": {},
     "output_type": "execute_result"
    }
   ],
   "source": [
    "arr"
   ]
  },
  {
   "cell_type": "markdown",
   "id": "97405c8e",
   "metadata": {},
   "source": [
    "### transpose()方法"
   ]
  },
  {
   "cell_type": "code",
   "execution_count": 31,
   "id": "36165277",
   "metadata": {
    "ExecuteTime": {
     "end_time": "2021-04-25T02:46:57.327148Z",
     "start_time": "2021-04-25T02:46:57.318062Z"
    }
   },
   "outputs": [
    {
     "data": {
      "text/plain": [
       "array([[ 0,  1,  2,  3,  4],\n",
       "       [ 5,  6,  7,  8,  9],\n",
       "       [10, 11, 12, 13, 14]])"
      ]
     },
     "execution_count": 31,
     "metadata": {},
     "output_type": "execute_result"
    }
   ],
   "source": [
    "arr = np.arange(15).reshape((3,5))\n",
    "arr"
   ]
  },
  {
   "cell_type": "code",
   "execution_count": 32,
   "id": "44e75bac",
   "metadata": {
    "ExecuteTime": {
     "end_time": "2021-04-25T02:47:25.526165Z",
     "start_time": "2021-04-25T02:47:25.518978Z"
    }
   },
   "outputs": [
    {
     "data": {
      "text/plain": [
       "array([[ 0,  5, 10],\n",
       "       [ 1,  6, 11],\n",
       "       [ 2,  7, 12],\n",
       "       [ 3,  8, 13],\n",
       "       [ 4,  9, 14]])"
      ]
     },
     "execution_count": 32,
     "metadata": {},
     "output_type": "execute_result"
    }
   ],
   "source": [
    "arr.transpose(1,0)"
   ]
  },
  {
   "cell_type": "code",
   "execution_count": 33,
   "id": "2b655767",
   "metadata": {
    "ExecuteTime": {
     "end_time": "2021-04-25T02:47:43.518012Z",
     "start_time": "2021-04-25T02:47:43.511001Z"
    }
   },
   "outputs": [],
   "source": [
    "arr.transpose(1, 0)[0, 2] = 100"
   ]
  },
  {
   "cell_type": "code",
   "execution_count": 34,
   "id": "8b4d6965",
   "metadata": {
    "ExecuteTime": {
     "end_time": "2021-04-25T02:47:50.927864Z",
     "start_time": "2021-04-25T02:47:50.920575Z"
    }
   },
   "outputs": [
    {
     "data": {
      "text/plain": [
       "array([[  0,   1,   2,   3,   4],\n",
       "       [  5,   6,   7,   8,   9],\n",
       "       [100,  11,  12,  13,  14]])"
      ]
     },
     "execution_count": 34,
     "metadata": {},
     "output_type": "execute_result"
    }
   ],
   "source": [
    "arr"
   ]
  },
  {
   "cell_type": "markdown",
   "id": "6b52618c",
   "metadata": {},
   "source": [
    "### swapaxes()方法"
   ]
  },
  {
   "cell_type": "code",
   "execution_count": 35,
   "id": "5795e0e1",
   "metadata": {
    "ExecuteTime": {
     "end_time": "2021-04-25T02:48:19.938784Z",
     "start_time": "2021-04-25T02:48:19.930739Z"
    }
   },
   "outputs": [
    {
     "data": {
      "text/plain": [
       "array([[ 0,  1,  2,  3,  4],\n",
       "       [ 5,  6,  7,  8,  9],\n",
       "       [10, 11, 12, 13, 14]])"
      ]
     },
     "execution_count": 35,
     "metadata": {},
     "output_type": "execute_result"
    }
   ],
   "source": [
    "arr = np.arange(15).reshape((3, 5))\n",
    "arr"
   ]
  },
  {
   "cell_type": "code",
   "execution_count": 36,
   "id": "a9d9856a",
   "metadata": {
    "ExecuteTime": {
     "end_time": "2021-04-25T02:48:31.227242Z",
     "start_time": "2021-04-25T02:48:31.209530Z"
    }
   },
   "outputs": [
    {
     "data": {
      "text/plain": [
       "array([[ 0,  5, 10],\n",
       "       [ 1,  6, 11],\n",
       "       [ 2,  7, 12],\n",
       "       [ 3,  8, 13],\n",
       "       [ 4,  9, 14]])"
      ]
     },
     "execution_count": 36,
     "metadata": {},
     "output_type": "execute_result"
    }
   ],
   "source": [
    "arr.swapaxes(0,1)"
   ]
  },
  {
   "cell_type": "code",
   "execution_count": 37,
   "id": "84f60788",
   "metadata": {
    "ExecuteTime": {
     "end_time": "2021-04-25T02:48:49.402139Z",
     "start_time": "2021-04-25T02:48:49.385646Z"
    }
   },
   "outputs": [],
   "source": [
    "arr.swapaxes(0, 1)[1, 1] = 60"
   ]
  },
  {
   "cell_type": "code",
   "execution_count": 38,
   "id": "02f70477",
   "metadata": {
    "ExecuteTime": {
     "end_time": "2021-04-25T02:48:53.102805Z",
     "start_time": "2021-04-25T02:48:53.094230Z"
    }
   },
   "outputs": [
    {
     "data": {
      "text/plain": [
       "array([[ 0,  1,  2,  3,  4],\n",
       "       [ 5, 60,  7,  8,  9],\n",
       "       [10, 11, 12, 13, 14]])"
      ]
     },
     "execution_count": 38,
     "metadata": {},
     "output_type": "execute_result"
    }
   ],
   "source": [
    "arr"
   ]
  },
  {
   "cell_type": "markdown",
   "id": "bf0d5ee5",
   "metadata": {},
   "source": [
    "# 通用函数"
   ]
  },
  {
   "cell_type": "code",
   "execution_count": 47,
   "id": "c9a6846f",
   "metadata": {
    "ExecuteTime": {
     "end_time": "2021-04-25T03:12:19.841502Z",
     "start_time": "2021-04-25T03:12:19.834085Z"
    }
   },
   "outputs": [
    {
     "data": {
      "text/plain": [
       "array([ 2.35352296, -0.28923918,  0.34484462, -2.31361388, -0.5587532 ,\n",
       "       -1.35216686,  0.19194967, -0.15974791,  0.72535182, -0.62118493])"
      ]
     },
     "execution_count": 47,
     "metadata": {},
     "output_type": "execute_result"
    }
   ],
   "source": [
    "arr = np.random.randn(10)\n",
    "arr"
   ]
  },
  {
   "cell_type": "code",
   "execution_count": 53,
   "id": "4cc84d33",
   "metadata": {
    "ExecuteTime": {
     "end_time": "2021-04-25T03:14:05.456577Z",
     "start_time": "2021-04-25T03:14:05.447699Z"
    }
   },
   "outputs": [
    {
     "data": {
      "text/plain": [
       "array([1.1129222 ,        nan, 0.87539272,        nan,        nan,\n",
       "              nan, 0.81357655,        nan, 0.96065752,        nan])"
      ]
     },
     "execution_count": 53,
     "metadata": {},
     "output_type": "execute_result"
    }
   ],
   "source": [
    "np.sqrt(arr)"
   ]
  },
  {
   "cell_type": "code",
   "execution_count": 54,
   "id": "6e3c4938",
   "metadata": {
    "ExecuteTime": {
     "end_time": "2021-04-25T03:14:12.459024Z",
     "start_time": "2021-04-25T03:14:12.451837Z"
    }
   },
   "outputs": [
    {
     "data": {
      "text/plain": [
       "array([1.23859582,        nan, 0.76631242,        nan,        nan,\n",
       "              nan, 0.6619068 ,        nan, 0.92286288,        nan])"
      ]
     },
     "execution_count": 54,
     "metadata": {},
     "output_type": "execute_result"
    }
   ],
   "source": [
    "# arr没有改变\n",
    "arr"
   ]
  },
  {
   "cell_type": "code",
   "execution_count": 52,
   "id": "a41d9cc6",
   "metadata": {
    "ExecuteTime": {
     "end_time": "2021-04-25T03:14:00.883812Z",
     "start_time": "2021-04-25T03:14:00.876124Z"
    }
   },
   "outputs": [
    {
     "data": {
      "text/plain": [
       "array([1.23859582,        nan, 0.76631242,        nan,        nan,\n",
       "              nan, 0.6619068 ,        nan, 0.92286288,        nan])"
      ]
     },
     "execution_count": 52,
     "metadata": {},
     "output_type": "execute_result"
    }
   ],
   "source": [
    "# 通用函数接收一个可选参数out, A location into which the result is stored.\n",
    "# 把通用函数返回的结果赋值给arr\n",
    "np.sqrt(arr, arr)"
   ]
  },
  {
   "cell_type": "code",
   "execution_count": 51,
   "id": "64a5411c",
   "metadata": {
    "ExecuteTime": {
     "end_time": "2021-04-25T03:12:43.240389Z",
     "start_time": "2021-04-25T03:12:43.226848Z"
    }
   },
   "outputs": [
    {
     "data": {
      "text/plain": [
       "array([1.5341196 ,        nan, 0.58723472,        nan,        nan,\n",
       "              nan, 0.43812061,        nan, 0.85167589,        nan])"
      ]
     },
     "execution_count": 51,
     "metadata": {},
     "output_type": "execute_result"
    }
   ],
   "source": [
    "arr"
   ]
  },
  {
   "cell_type": "markdown",
   "id": "3fb2f12d",
   "metadata": {},
   "source": [
    "# 使用数组进行面向数组编程"
   ]
  },
  {
   "cell_type": "code",
   "execution_count": 62,
   "id": "1bc37737",
   "metadata": {
    "ExecuteTime": {
     "end_time": "2021-04-25T07:38:29.562810Z",
     "start_time": "2021-04-25T07:38:29.555395Z"
    }
   },
   "outputs": [
    {
     "data": {
      "text/plain": [
       "array([-10,  -9,  -8,  -7,  -6])"
      ]
     },
     "execution_count": 62,
     "metadata": {},
     "output_type": "execute_result"
    }
   ],
   "source": [
    "points_1 = np.arange(-10, -5, 1)\n",
    "points_1"
   ]
  },
  {
   "cell_type": "code",
   "execution_count": 64,
   "id": "cede239e",
   "metadata": {
    "ExecuteTime": {
     "end_time": "2021-04-25T07:39:13.543676Z",
     "start_time": "2021-04-25T07:39:13.535115Z"
    }
   },
   "outputs": [
    {
     "data": {
      "text/plain": [
       "array([0, 1, 2, 3])"
      ]
     },
     "execution_count": 64,
     "metadata": {},
     "output_type": "execute_result"
    }
   ],
   "source": [
    "points_2 = np.arange(0, 4, 1)\n",
    "points_2"
   ]
  },
  {
   "cell_type": "markdown",
   "id": "9242735b",
   "metadata": {},
   "source": [
    "## meshgrid(indexing='xy') 笛卡尔indexing"
   ]
  },
  {
   "cell_type": "code",
   "execution_count": 81,
   "id": "ce68da23",
   "metadata": {
    "ExecuteTime": {
     "end_time": "2021-04-25T08:04:58.221600Z",
     "start_time": "2021-04-25T08:04:58.196115Z"
    }
   },
   "outputs": [
    {
     "data": {
      "text/plain": [
       "array([[-10,  -9,  -8,  -7,  -6],\n",
       "       [-10,  -9,  -8,  -7,  -6],\n",
       "       [-10,  -9,  -8,  -7,  -6],\n",
       "       [-10,  -9,  -8,  -7,  -6]])"
      ]
     },
     "execution_count": 81,
     "metadata": {},
     "output_type": "execute_result"
    }
   ],
   "source": [
    "# 把两个数组的笛卡尔积内的元素的第一二个坐标分别放入两个矩阵中\n",
    "xs, ys = np.meshgrid(points_1, points_2)\n",
    "xs  # shape (4,5)"
   ]
  },
  {
   "cell_type": "code",
   "execution_count": 80,
   "id": "ea92b342",
   "metadata": {
    "ExecuteTime": {
     "end_time": "2021-04-25T07:57:55.228572Z",
     "start_time": "2021-04-25T07:57:55.222283Z"
    }
   },
   "outputs": [
    {
     "data": {
      "text/plain": [
       "array([[0, 0, 0, 0, 0],\n",
       "       [1, 1, 1, 1, 1],\n",
       "       [2, 2, 2, 2, 2],\n",
       "       [3, 3, 3, 3, 3]])"
      ]
     },
     "execution_count": 80,
     "metadata": {},
     "output_type": "execute_result"
    }
   ],
   "source": [
    "ys  # shape (4,5)"
   ]
  },
  {
   "cell_type": "markdown",
   "id": "d10ecad5",
   "metadata": {},
   "source": [
    "## meshgrid(indexing='ij') matrix indexing"
   ]
  },
  {
   "cell_type": "code",
   "execution_count": 83,
   "id": "d9bbbfa1",
   "metadata": {
    "ExecuteTime": {
     "end_time": "2021-04-25T08:20:48.706714Z",
     "start_time": "2021-04-25T08:20:48.699789Z"
    }
   },
   "outputs": [],
   "source": [
    "xs_2, ys_2 = np.meshgrid(points_1, points_2, indexing='ij')"
   ]
  },
  {
   "cell_type": "code",
   "execution_count": 84,
   "id": "73a112c7",
   "metadata": {
    "ExecuteTime": {
     "end_time": "2021-04-25T08:20:57.505399Z",
     "start_time": "2021-04-25T08:20:57.423617Z"
    }
   },
   "outputs": [
    {
     "data": {
      "text/plain": [
       "array([[-10, -10, -10, -10],\n",
       "       [ -9,  -9,  -9,  -9],\n",
       "       [ -8,  -8,  -8,  -8],\n",
       "       [ -7,  -7,  -7,  -7],\n",
       "       [ -6,  -6,  -6,  -6]])"
      ]
     },
     "execution_count": 84,
     "metadata": {},
     "output_type": "execute_result"
    }
   ],
   "source": [
    "xs_2  # shape (5,4)"
   ]
  },
  {
   "cell_type": "code",
   "execution_count": 85,
   "id": "e21bcf51",
   "metadata": {
    "ExecuteTime": {
     "end_time": "2021-04-25T08:21:07.277856Z",
     "start_time": "2021-04-25T08:21:07.180915Z"
    }
   },
   "outputs": [
    {
     "data": {
      "text/plain": [
       "array([[0, 1, 2, 3],\n",
       "       [0, 1, 2, 3],\n",
       "       [0, 1, 2, 3],\n",
       "       [0, 1, 2, 3],\n",
       "       [0, 1, 2, 3]])"
      ]
     },
     "execution_count": 85,
     "metadata": {},
     "output_type": "execute_result"
    }
   ],
   "source": [
    "ys_2  # shape (5,4)"
   ]
  },
  {
   "cell_type": "markdown",
   "id": "d19de501",
   "metadata": {},
   "source": [
    "## 将条件逻辑作为数组操作 \n",
    "**np.where(condtion,x,y)**\n",
    "- 会生成新的数组\n",
    "- where的第二个和第三个参数x,y并不需要是数组，它们可以是标量"
   ]
  },
  {
   "cell_type": "code",
   "execution_count": 87,
   "id": "1513e710",
   "metadata": {
    "ExecuteTime": {
     "end_time": "2021-04-25T09:36:39.251117Z",
     "start_time": "2021-04-25T09:36:39.199831Z"
    }
   },
   "outputs": [
    {
     "data": {
      "text/plain": [
       "array([[ 0.03778451, -0.50445874,  0.23271541, -0.32424875],\n",
       "       [-0.69529623,  1.1013967 , -0.65204392, -0.90047203],\n",
       "       [ 2.24631944, -0.23436736,  1.13555187, -0.8394797 ],\n",
       "       [-1.24935032,  0.16731078,  0.88514611, -0.90534109]])"
      ]
     },
     "execution_count": 87,
     "metadata": {},
     "output_type": "execute_result"
    }
   ],
   "source": [
    "arr = np.random.randn(4, 4)\n",
    "arr"
   ]
  },
  {
   "cell_type": "code",
   "execution_count": 89,
   "id": "01f0cd6b",
   "metadata": {
    "ExecuteTime": {
     "end_time": "2021-04-25T09:53:45.064235Z",
     "start_time": "2021-04-25T09:53:45.049714Z"
    }
   },
   "outputs": [
    {
     "data": {
      "text/plain": [
       "array([[ 2.        , -0.50445874,  2.        , -0.32424875],\n",
       "       [-0.69529623,  2.        , -0.65204392, -0.90047203],\n",
       "       [ 2.        , -0.23436736,  2.        , -0.8394797 ],\n",
       "       [-1.24935032,  2.        ,  2.        , -0.90534109]])"
      ]
     },
     "execution_count": 89,
     "metadata": {},
     "output_type": "execute_result"
    }
   ],
   "source": [
    "# 第二个参数是标量\n",
    "np.where(arr > 0, 2, arr)"
   ]
  },
  {
   "cell_type": "markdown",
   "id": "d6e70569",
   "metadata": {},
   "source": [
    "## 数学和统计方法"
   ]
  },
  {
   "cell_type": "code",
   "execution_count": 91,
   "id": "dcdb4453",
   "metadata": {
    "ExecuteTime": {
     "end_time": "2021-04-25T10:54:59.138847Z",
     "start_time": "2021-04-25T10:54:59.131120Z"
    }
   },
   "outputs": [
    {
     "data": {
      "text/plain": [
       "array([[ 0,  1,  2,  3],\n",
       "       [ 4,  5,  6,  7],\n",
       "       [ 8,  9, 10, 11]])"
      ]
     },
     "execution_count": 91,
     "metadata": {},
     "output_type": "execute_result"
    }
   ],
   "source": [
    "arr = np.arange(12).reshape((3, 4))\n",
    "arr"
   ]
  },
  {
   "cell_type": "code",
   "execution_count": 95,
   "id": "0f961505",
   "metadata": {
    "ExecuteTime": {
     "end_time": "2021-04-25T11:07:55.739791Z",
     "start_time": "2021-04-25T11:07:55.732650Z"
    }
   },
   "outputs": [
    {
     "data": {
      "text/plain": [
       "array([12, 15, 18, 21])"
      ]
     },
     "execution_count": 95,
     "metadata": {},
     "output_type": "execute_result"
    }
   ],
   "source": [
    "arr.sum(axis=0)"
   ]
  },
  {
   "cell_type": "code",
   "execution_count": 96,
   "id": "ae39ff9e",
   "metadata": {
    "ExecuteTime": {
     "end_time": "2021-04-25T11:09:25.619832Z",
     "start_time": "2021-04-25T11:09:25.608518Z"
    }
   },
   "outputs": [
    {
     "data": {
      "text/plain": [
       "array([1.5, 5.5, 9.5])"
      ]
     },
     "execution_count": 96,
     "metadata": {},
     "output_type": "execute_result"
    }
   ],
   "source": [
    "arr.mean(axis=1)"
   ]
  },
  {
   "cell_type": "code",
   "execution_count": 97,
   "id": "3e1a46b5",
   "metadata": {
    "ExecuteTime": {
     "end_time": "2021-04-25T11:11:21.489349Z",
     "start_time": "2021-04-25T11:11:21.481779Z"
    }
   },
   "outputs": [
    {
     "data": {
      "text/plain": [
       "array([ 3,  7, 11])"
      ]
     },
     "execution_count": 97,
     "metadata": {},
     "output_type": "execute_result"
    }
   ],
   "source": [
    "arr.max(axis=1)"
   ]
  },
  {
   "cell_type": "markdown",
   "id": "761fa0c3",
   "metadata": {},
   "source": [
    "## 布尔值数组的方法"
   ]
  },
  {
   "cell_type": "markdown",
   "id": "a827a2bb",
   "metadata": {},
   "source": [
    "布尔值会被强制为1(True)和0(False)。因此，sum()通常可以用于计算布尔值数组中的True个数"
   ]
  },
  {
   "cell_type": "code",
   "execution_count": 98,
   "id": "c378d0a5",
   "metadata": {
    "ExecuteTime": {
     "end_time": "2021-04-25T11:16:43.447184Z",
     "start_time": "2021-04-25T11:16:43.437135Z"
    }
   },
   "outputs": [
    {
     "data": {
      "text/plain": [
       "array([ 0.47763325,  0.02338774,  1.56760857,  0.05163515,  1.21014224,\n",
       "        0.42732683,  0.04366304, -1.73803583,  0.41301762,  0.64958057,\n",
       "        0.24919848, -0.83308999, -0.01418481, -0.65826761, -2.64534985,\n",
       "        1.54961657, -0.07186953,  0.11791718, -0.12158699,  0.21566191,\n",
       "        0.9364842 , -0.58619117, -1.83899546,  1.99466492,  1.36570137,\n",
       "        0.44108963,  0.53336202, -0.52715695, -1.27065108, -0.87321314,\n",
       "        0.04821331,  0.05579315, -0.2893762 ,  0.8671984 ,  0.09556753,\n",
       "       -0.40143751, -0.21838279, -0.44065695, -1.13478097, -0.29597314,\n",
       "       -0.1120933 , -0.54077478,  0.73651855,  0.44184604,  1.42973472,\n",
       "        1.8473794 ,  0.66133546, -0.33179439,  0.11037665,  0.11415863,\n",
       "        0.19950886, -0.65962284,  0.87015938,  0.46404488,  0.08609615,\n",
       "        0.56351674,  1.18071134,  0.04281816,  2.69881434, -1.47590998,\n",
       "        0.73324778,  0.90224076, -1.06204575,  0.20553571, -0.36430705,\n",
       "        0.68161316,  0.6270793 ,  0.24035295, -1.18635347, -0.31234479,\n",
       "       -0.89205212, -0.99001796, -0.63946401, -1.80210566, -0.23748559,\n",
       "        0.58393453,  0.30789094, -0.21964571,  1.70057043, -0.80930778,\n",
       "       -0.7213516 , -0.13729549,  0.86601524,  0.01357385, -1.45645257,\n",
       "        1.88539826, -0.54974631, -0.05871837, -2.47347447, -0.79459797,\n",
       "       -0.19099286, -0.12953408,  0.58803629, -0.67669782,  0.738141  ,\n",
       "       -1.22266453,  0.13382634,  0.00408229, -0.63685852, -1.70043176])"
      ]
     },
     "execution_count": 98,
     "metadata": {},
     "output_type": "execute_result"
    }
   ],
   "source": [
    "arr = np.random.randn(100)\n",
    "arr"
   ]
  },
  {
   "cell_type": "code",
   "execution_count": 100,
   "id": "ce65ce5a",
   "metadata": {
    "ExecuteTime": {
     "end_time": "2021-04-25T11:17:26.711706Z",
     "start_time": "2021-04-25T11:17:26.704481Z"
    }
   },
   "outputs": [
    {
     "data": {
      "text/plain": [
       "53"
      ]
     },
     "execution_count": 100,
     "metadata": {},
     "output_type": "execute_result"
    }
   ],
   "source": [
    "(arr > 0).sum() # 正值的个数"
   ]
  },
  {
   "cell_type": "code",
   "execution_count": null,
   "id": "b612c0a2",
   "metadata": {},
   "outputs": [],
   "source": []
  },
  {
   "cell_type": "code",
   "execution_count": null,
   "id": "39089988",
   "metadata": {},
   "outputs": [],
   "source": []
  },
  {
   "cell_type": "code",
   "execution_count": null,
   "id": "dcfc5d3c",
   "metadata": {},
   "outputs": [],
   "source": []
  },
  {
   "cell_type": "code",
   "execution_count": null,
   "id": "2bab1f69",
   "metadata": {},
   "outputs": [],
   "source": []
  },
  {
   "cell_type": "code",
   "execution_count": null,
   "id": "4e307df0",
   "metadata": {},
   "outputs": [],
   "source": []
  },
  {
   "cell_type": "code",
   "execution_count": null,
   "id": "ea63d764",
   "metadata": {},
   "outputs": [],
   "source": []
  },
  {
   "cell_type": "code",
   "execution_count": null,
   "id": "20239fcc",
   "metadata": {},
   "outputs": [],
   "source": []
  },
  {
   "cell_type": "code",
   "execution_count": null,
   "id": "664a6128",
   "metadata": {},
   "outputs": [],
   "source": []
  }
 ],
 "metadata": {
  "kernelspec": {
   "display_name": "Python 3",
   "language": "python",
   "name": "python3"
  },
  "language_info": {
   "codemirror_mode": {
    "name": "ipython",
    "version": 3
   },
   "file_extension": ".py",
   "mimetype": "text/x-python",
   "name": "python",
   "nbconvert_exporter": "python",
   "pygments_lexer": "ipython3",
   "version": "3.6.13"
  },
  "toc": {
   "base_numbering": 1,
   "nav_menu": {},
   "number_sections": true,
   "sideBar": true,
   "skip_h1_title": false,
   "title_cell": "Table of Contents",
   "title_sidebar": "Contents",
   "toc_cell": false,
   "toc_position": {},
   "toc_section_display": true,
   "toc_window_display": false
  },
  "varInspector": {
   "cols": {
    "lenName": 16,
    "lenType": 16,
    "lenVar": 40
   },
   "kernels_config": {
    "python": {
     "delete_cmd_postfix": "",
     "delete_cmd_prefix": "del ",
     "library": "var_list.py",
     "varRefreshCmd": "print(var_dic_list())"
    },
    "r": {
     "delete_cmd_postfix": ") ",
     "delete_cmd_prefix": "rm(",
     "library": "var_list.r",
     "varRefreshCmd": "cat(var_dic_list()) "
    }
   },
   "types_to_exclude": [
    "module",
    "function",
    "builtin_function_or_method",
    "instance",
    "_Feature"
   ],
   "window_display": false
  }
 },
 "nbformat": 4,
 "nbformat_minor": 5
}
