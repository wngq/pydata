{
 "cells": [
  {
   "cell_type": "markdown",
   "id": "d303369b",
   "metadata": {},
   "source": [
    "**NumPy处理大量数组的效率更高**"
   ]
  },
  {
   "cell_type": "code",
   "execution_count": 1,
   "id": "847f5f66",
   "metadata": {
    "ExecuteTime": {
     "end_time": "2021-04-23T04:16:05.305358Z",
     "start_time": "2021-04-23T04:16:05.252043Z"
    }
   },
   "outputs": [],
   "source": [
    "import numpy as np\n",
    "\n",
    "my_arr = np.arange(1000000)\n",
    "my_list = list(range(1000000))"
   ]
  },
  {
   "cell_type": "code",
   "execution_count": 8,
   "id": "0aab713b",
   "metadata": {
    "ExecuteTime": {
     "end_time": "2021-04-23T04:21:19.466728Z",
     "start_time": "2021-04-23T04:21:19.417830Z"
    }
   },
   "outputs": [
    {
     "name": "stdout",
     "output_type": "stream",
     "text": [
      "CPU times: user 26.3 ms, sys: 16.4 ms, total: 42.7 ms\n",
      "Wall time: 41.9 ms\n"
     ]
    }
   ],
   "source": [
    "%time for _ in range(10): my_arr2 = my_arr * 2"
   ]
  },
  {
   "cell_type": "code",
   "execution_count": 9,
   "id": "31634fdc",
   "metadata": {
    "ExecuteTime": {
     "end_time": "2021-04-23T04:21:25.907748Z",
     "start_time": "2021-04-23T04:21:24.940344Z"
    }
   },
   "outputs": [
    {
     "name": "stdout",
     "output_type": "stream",
     "text": [
      "CPU times: user 736 ms, sys: 201 ms, total: 937 ms\n",
      "Wall time: 963 ms\n"
     ]
    }
   ],
   "source": [
    "%time for _ in range(10): my_list2 = [x * 2 for x in my_list]"
   ]
  },
  {
   "cell_type": "markdown",
   "id": "e584acd4",
   "metadata": {},
   "source": [
    "# 多维数组对象 ndarray"
   ]
  },
  {
   "cell_type": "code",
   "execution_count": 19,
   "id": "3d61cb89",
   "metadata": {
    "ExecuteTime": {
     "end_time": "2021-04-23T07:52:25.888867Z",
     "start_time": "2021-04-23T07:52:25.881874Z"
    }
   },
   "outputs": [
    {
     "data": {
      "text/plain": [
       "array([[ 0.54000743,  1.1118009 ,  0.85228074],\n",
       "       [-1.37988643,  2.14382986,  1.22862503]])"
      ]
     },
     "execution_count": 19,
     "metadata": {},
     "output_type": "execute_result"
    }
   ],
   "source": [
    "import numpy as np\n",
    "data = np.random.randn(2, 3)\n",
    "data"
   ]
  },
  {
   "cell_type": "code",
   "execution_count": 20,
   "id": "86d8fba3",
   "metadata": {
    "ExecuteTime": {
     "end_time": "2021-04-23T07:52:59.773304Z",
     "start_time": "2021-04-23T07:52:59.764962Z"
    }
   },
   "outputs": [
    {
     "data": {
      "text/plain": [
       "(2, 3)"
      ]
     },
     "execution_count": 20,
     "metadata": {},
     "output_type": "execute_result"
    }
   ],
   "source": [
    "data.shape"
   ]
  },
  {
   "cell_type": "code",
   "execution_count": 21,
   "id": "c73a5709",
   "metadata": {
    "ExecuteTime": {
     "end_time": "2021-04-23T07:53:22.738240Z",
     "start_time": "2021-04-23T07:53:22.729485Z"
    }
   },
   "outputs": [
    {
     "data": {
      "text/plain": [
       "dtype('float64')"
      ]
     },
     "execution_count": 21,
     "metadata": {},
     "output_type": "execute_result"
    }
   ],
   "source": [
    "data.dtype"
   ]
  },
  {
   "cell_type": "markdown",
   "id": "d6531e9d",
   "metadata": {},
   "source": [
    "**arange是Python内建函数range的数组版**"
   ]
  },
  {
   "cell_type": "code",
   "execution_count": 24,
   "id": "dc0f1e3a",
   "metadata": {
    "ExecuteTime": {
     "end_time": "2021-04-23T08:10:23.082935Z",
     "start_time": "2021-04-23T08:10:23.068606Z"
    }
   },
   "outputs": [
    {
     "data": {
      "text/plain": [
       "range(0, 15)"
      ]
     },
     "execution_count": 24,
     "metadata": {},
     "output_type": "execute_result"
    }
   ],
   "source": [
    "range(15)"
   ]
  },
  {
   "cell_type": "code",
   "execution_count": 26,
   "id": "7a17df48",
   "metadata": {
    "ExecuteTime": {
     "end_time": "2021-04-23T08:11:51.855601Z",
     "start_time": "2021-04-23T08:11:51.846589Z"
    }
   },
   "outputs": [
    {
     "data": {
      "text/plain": [
       "[0, 1, 2, 3, 4, 5, 6, 7, 8, 9, 10, 11, 12, 13, 14]"
      ]
     },
     "execution_count": 26,
     "metadata": {},
     "output_type": "execute_result"
    }
   ],
   "source": [
    "list(range(15))"
   ]
  },
  {
   "cell_type": "code",
   "execution_count": 25,
   "id": "60f26e9f",
   "metadata": {
    "ExecuteTime": {
     "end_time": "2021-04-23T08:10:39.851384Z",
     "start_time": "2021-04-23T08:10:39.845842Z"
    }
   },
   "outputs": [
    {
     "data": {
      "text/plain": [
       "array([ 0,  1,  2,  3,  4,  5,  6,  7,  8,  9, 10, 11, 12, 13, 14])"
      ]
     },
     "execution_count": 25,
     "metadata": {},
     "output_type": "execute_result"
    }
   ],
   "source": [
    "np.arange(15)"
   ]
  },
  {
   "cell_type": "code",
   "execution_count": null,
   "id": "6eb01307",
   "metadata": {},
   "outputs": [],
   "source": []
  }
 ],
 "metadata": {
  "kernelspec": {
   "display_name": "Python 3",
   "language": "python",
   "name": "python3"
  },
  "language_info": {
   "codemirror_mode": {
    "name": "ipython",
    "version": 3
   },
   "file_extension": ".py",
   "mimetype": "text/x-python",
   "name": "python",
   "nbconvert_exporter": "python",
   "pygments_lexer": "ipython3",
   "version": "3.6.13"
  },
  "toc": {
   "base_numbering": 1,
   "nav_menu": {},
   "number_sections": true,
   "sideBar": true,
   "skip_h1_title": false,
   "title_cell": "Table of Contents",
   "title_sidebar": "Contents",
   "toc_cell": false,
   "toc_position": {},
   "toc_section_display": true,
   "toc_window_display": false
  },
  "varInspector": {
   "cols": {
    "lenName": 16,
    "lenType": 16,
    "lenVar": 40
   },
   "kernels_config": {
    "python": {
     "delete_cmd_postfix": "",
     "delete_cmd_prefix": "del ",
     "library": "var_list.py",
     "varRefreshCmd": "print(var_dic_list())"
    },
    "r": {
     "delete_cmd_postfix": ") ",
     "delete_cmd_prefix": "rm(",
     "library": "var_list.r",
     "varRefreshCmd": "cat(var_dic_list()) "
    }
   },
   "types_to_exclude": [
    "module",
    "function",
    "builtin_function_or_method",
    "instance",
    "_Feature"
   ],
   "window_display": false
  }
 },
 "nbformat": 4,
 "nbformat_minor": 5
}
