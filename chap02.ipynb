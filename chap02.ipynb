{
 "cells": [
  {
   "cell_type": "code",
   "execution_count": 1,
   "id": "53b7fff7",
   "metadata": {
    "ExecuteTime": {
     "end_time": "2021-04-14T03:47:53.811138Z",
     "start_time": "2021-04-14T03:47:53.805070Z"
    }
   },
   "outputs": [
    {
     "name": "stdout",
     "output_type": "stream",
     "text": [
      "Hello World\n"
     ]
    }
   ],
   "source": [
    "print('Hello World')"
   ]
  },
  {
   "cell_type": "code",
   "execution_count": 2,
   "id": "2f7e83a9",
   "metadata": {
    "ExecuteTime": {
     "end_time": "2021-04-14T07:47:01.928602Z",
     "start_time": "2021-04-14T07:47:01.921450Z"
    }
   },
   "outputs": [],
   "source": [
    "b= [1,3,4]"
   ]
  },
  {
   "cell_type": "code",
   "execution_count": 5,
   "id": "14549961",
   "metadata": {
    "ExecuteTime": {
     "end_time": "2021-04-14T07:59:20.742923Z",
     "start_time": "2021-04-14T07:59:20.737069Z"
    }
   },
   "outputs": [],
   "source": [
    "def add_number(a,b):\n",
    "    return a+b\n"
   ]
  },
  {
   "cell_type": "code",
   "execution_count": 6,
   "id": "83734517",
   "metadata": {
    "ExecuteTime": {
     "end_time": "2021-04-14T07:59:21.698272Z",
     "start_time": "2021-04-14T07:59:21.618132Z"
    }
   },
   "outputs": [],
   "source": [
    "add_number?"
   ]
  },
  {
   "cell_type": "code",
   "execution_count": 8,
   "id": "f94f83b1",
   "metadata": {
    "ExecuteTime": {
     "end_time": "2021-04-14T07:59:54.442606Z",
     "start_time": "2021-04-14T07:59:54.430211Z"
    }
   },
   "outputs": [],
   "source": [
    "add_number??"
   ]
  },
  {
   "cell_type": "code",
   "execution_count": 10,
   "id": "264a3b24",
   "metadata": {
    "ExecuteTime": {
     "end_time": "2021-04-14T08:04:39.106245Z",
     "start_time": "2021-04-14T08:04:39.098839Z"
    }
   },
   "outputs": [],
   "source": [
    "import numpy as np\n",
    "np.*load*?"
   ]
  },
  {
   "cell_type": "code",
   "execution_count": 17,
   "id": "5278b725",
   "metadata": {
    "ExecuteTime": {
     "end_time": "2021-04-14T08:13:11.456770Z",
     "start_time": "2021-04-14T08:13:11.449226Z"
    }
   },
   "outputs": [],
   "source": [
    "%run ipython_script_test.py"
   ]
  },
  {
   "cell_type": "code",
   "execution_count": 18,
   "id": "ab6f0e98",
   "metadata": {
    "ExecuteTime": {
     "end_time": "2021-04-14T08:13:26.356067Z",
     "start_time": "2021-04-14T08:13:26.345235Z"
    }
   },
   "outputs": [
    {
     "data": {
      "text/plain": [
       "1.4666666666666666"
      ]
     },
     "execution_count": 18,
     "metadata": {},
     "output_type": "execute_result"
    }
   ],
   "source": [
    "result"
   ]
  },
  {
   "cell_type": "code",
   "execution_count": 14,
   "id": "3457eb2f",
   "metadata": {
    "ExecuteTime": {
     "end_time": "2021-04-14T08:11:58.061308Z",
     "start_time": "2021-04-14T08:11:58.046447Z"
    }
   },
   "outputs": [],
   "source": [
    "# %load ipython_script_test.py\n",
    "def f(x,y,z):\n",
    "    return (x+y)/z\n",
    "a = 5\n",
    "b = 6\n",
    "c=7.5\n",
    "result = f(a,b,c)\n"
   ]
  },
  {
   "cell_type": "code",
   "execution_count": 15,
   "id": "555b4940",
   "metadata": {
    "ExecuteTime": {
     "end_time": "2021-04-14T08:12:05.708291Z",
     "start_time": "2021-04-14T08:12:05.689639Z"
    }
   },
   "outputs": [
    {
     "data": {
      "text/plain": [
       "5"
      ]
     },
     "execution_count": 15,
     "metadata": {},
     "output_type": "execute_result"
    }
   ],
   "source": [
    "a"
   ]
  },
  {
   "cell_type": "code",
   "execution_count": 21,
   "id": "35c92903",
   "metadata": {
    "ExecuteTime": {
     "end_time": "2021-04-14T08:19:03.882840Z",
     "start_time": "2021-04-14T08:19:03.865491Z"
    }
   },
   "outputs": [],
   "source": [
    "%magic"
   ]
  },
  {
   "cell_type": "code",
   "execution_count": 11,
   "id": "3e968458",
   "metadata": {
    "ExecuteTime": {
     "end_time": "2021-04-15T08:28:13.628601Z",
     "start_time": "2021-04-15T08:28:13.621386Z"
    }
   },
   "outputs": [
    {
     "data": {
      "text/plain": [
       "['f', 'o', 'o']"
      ]
     },
     "execution_count": 11,
     "metadata": {},
     "output_type": "execute_result"
    }
   ],
   "source": [
    "a = 'foo'\n",
    "b = list(a)\n",
    "b"
   ]
  },
  {
   "cell_type": "code",
   "execution_count": 13,
   "id": "f179aa65",
   "metadata": {
    "ExecuteTime": {
     "end_time": "2021-04-15T08:30:34.590121Z",
     "start_time": "2021-04-15T08:30:34.579314Z"
    }
   },
   "outputs": [
    {
     "data": {
      "text/plain": [
       "'this\\\\has\\\\no\\\\special\\\\char'"
      ]
     },
     "execution_count": 13,
     "metadata": {},
     "output_type": "execute_result"
    }
   ],
   "source": [
    "s = r'this\\has\\no\\special\\char'\n",
    "s"
   ]
  },
  {
   "cell_type": "code",
   "execution_count": 17,
   "id": "39d4194f",
   "metadata": {
    "ExecuteTime": {
     "end_time": "2021-04-15T08:35:16.193251Z",
     "start_time": "2021-04-15T08:35:16.178593Z"
    }
   },
   "outputs": [
    {
     "data": {
      "text/plain": [
       "'4.58 Argentine Pesos are worth US$1'"
      ]
     },
     "execution_count": 17,
     "metadata": {},
     "output_type": "execute_result"
    }
   ],
   "source": [
    "template = '{0:.2f} {1:s} are worth US${2:d}'\n",
    "template.format(4.578,'Argentine Pesos',1)"
   ]
  },
  {
   "cell_type": "code",
   "execution_count": 23,
   "id": "6350ee55",
   "metadata": {
    "ExecuteTime": {
     "end_time": "2021-04-16T13:14:31.384021Z",
     "start_time": "2021-04-16T13:14:31.375802Z"
    }
   },
   "outputs": [
    {
     "data": {
      "text/plain": [
       "29"
      ]
     },
     "execution_count": 23,
     "metadata": {},
     "output_type": "execute_result"
    }
   ],
   "source": [
    "from datetime import datetime, date, time\n",
    "dt = datetime(2011, 10, 29, 20, 30, 21)\n",
    "dt.day"
   ]
  },
  {
   "cell_type": "code",
   "execution_count": 25,
   "id": "5cf708c7",
   "metadata": {
    "ExecuteTime": {
     "end_time": "2021-04-16T13:15:07.607652Z",
     "start_time": "2021-04-16T13:15:07.600454Z"
    }
   },
   "outputs": [
    {
     "data": {
      "text/plain": [
       "datetime.date(2011, 10, 29)"
      ]
     },
     "execution_count": 25,
     "metadata": {},
     "output_type": "execute_result"
    }
   ],
   "source": [
    "dt.date()"
   ]
  },
  {
   "cell_type": "code",
   "execution_count": 26,
   "id": "20499166",
   "metadata": {
    "ExecuteTime": {
     "end_time": "2021-04-16T13:28:04.754481Z",
     "start_time": "2021-04-16T13:28:04.750435Z"
    }
   },
   "outputs": [],
   "source": [
    "from datetime import datetime, date, time\n",
    "dt = datetime(2020, 4, 16, 20, 30, 21)"
   ]
  },
  {
   "cell_type": "code",
   "execution_count": 29,
   "id": "d1e339da",
   "metadata": {
    "ExecuteTime": {
     "end_time": "2021-04-16T13:29:35.236695Z",
     "start_time": "2021-04-16T13:29:35.229703Z"
    }
   },
   "outputs": [
    {
     "data": {
      "text/plain": [
       "'04/16/2020 20:30:21'"
      ]
     },
     "execution_count": 29,
     "metadata": {},
     "output_type": "execute_result"
    }
   ],
   "source": [
    "dt.strftime('%m/%d/%Y %H:%M:%S',)"
   ]
  },
  {
   "cell_type": "code",
   "execution_count": 31,
   "id": "a4694be0",
   "metadata": {
    "ExecuteTime": {
     "end_time": "2021-04-16T13:37:13.066350Z",
     "start_time": "2021-04-16T13:37:13.057985Z"
    }
   },
   "outputs": [
    {
     "data": {
      "text/plain": [
       "datetime.datetime(2020, 4, 16, 21, 21, 31)"
      ]
     },
     "execution_count": 31,
     "metadata": {},
     "output_type": "execute_result"
    }
   ],
   "source": [
    "datetime.strptime('2020416212131','%Y%m%d%H%M%S')"
   ]
  },
  {
   "cell_type": "code",
   "execution_count": 32,
   "id": "19f2a4a4",
   "metadata": {
    "ExecuteTime": {
     "end_time": "2021-04-16T13:48:36.584156Z",
     "start_time": "2021-04-16T13:48:36.565997Z"
    }
   },
   "outputs": [
    {
     "data": {
      "text/plain": [
       "datetime.datetime(2020, 4, 16, 20, 30, 21)"
      ]
     },
     "execution_count": 32,
     "metadata": {},
     "output_type": "execute_result"
    }
   ],
   "source": [
    "dt"
   ]
  },
  {
   "cell_type": "code",
   "execution_count": 34,
   "id": "ffbff29d",
   "metadata": {
    "ExecuteTime": {
     "end_time": "2021-04-16T13:49:15.903101Z",
     "start_time": "2021-04-16T13:49:15.895087Z"
    }
   },
   "outputs": [
    {
     "data": {
      "text/plain": [
       "datetime.datetime(2020, 4, 16, 20, 0)"
      ]
     },
     "execution_count": 34,
     "metadata": {},
     "output_type": "execute_result"
    }
   ],
   "source": [
    "dt.replace(minute=0, second=0)"
   ]
  },
  {
   "cell_type": "code",
   "execution_count": null,
   "id": "a946e87c",
   "metadata": {},
   "outputs": [],
   "source": []
  },
  {
   "cell_type": "code",
   "execution_count": null,
   "id": "8565aa51",
   "metadata": {},
   "outputs": [],
   "source": []
  },
  {
   "cell_type": "code",
   "execution_count": null,
   "id": "17018022",
   "metadata": {},
   "outputs": [],
   "source": []
  },
  {
   "cell_type": "code",
   "execution_count": null,
   "id": "5cad56a8",
   "metadata": {},
   "outputs": [],
   "source": []
  },
  {
   "cell_type": "code",
   "execution_count": null,
   "id": "b48f2ffe",
   "metadata": {},
   "outputs": [],
   "source": []
  },
  {
   "cell_type": "code",
   "execution_count": null,
   "id": "4e52d306",
   "metadata": {},
   "outputs": [],
   "source": []
  },
  {
   "cell_type": "code",
   "execution_count": null,
   "id": "4ef97d9e",
   "metadata": {},
   "outputs": [],
   "source": []
  }
 ],
 "metadata": {
  "kernelspec": {
   "display_name": "Python 3",
   "language": "python",
   "name": "python3"
  },
  "language_info": {
   "codemirror_mode": {
    "name": "ipython",
    "version": 3
   },
   "file_extension": ".py",
   "mimetype": "text/x-python",
   "name": "python",
   "nbconvert_exporter": "python",
   "pygments_lexer": "ipython3",
   "version": "3.6.13"
  },
  "toc": {
   "base_numbering": 1,
   "nav_menu": {},
   "number_sections": true,
   "sideBar": true,
   "skip_h1_title": false,
   "title_cell": "Table of Contents",
   "title_sidebar": "Contents",
   "toc_cell": false,
   "toc_position": {},
   "toc_section_display": true,
   "toc_window_display": false
  },
  "varInspector": {
   "cols": {
    "lenName": 16,
    "lenType": 16,
    "lenVar": 40
   },
   "kernels_config": {
    "python": {
     "delete_cmd_postfix": "",
     "delete_cmd_prefix": "del ",
     "library": "var_list.py",
     "varRefreshCmd": "print(var_dic_list())"
    },
    "r": {
     "delete_cmd_postfix": ") ",
     "delete_cmd_prefix": "rm(",
     "library": "var_list.r",
     "varRefreshCmd": "cat(var_dic_list()) "
    }
   },
   "types_to_exclude": [
    "module",
    "function",
    "builtin_function_or_method",
    "instance",
    "_Feature"
   ],
   "window_display": false
  }
 },
 "nbformat": 4,
 "nbformat_minor": 5
}
